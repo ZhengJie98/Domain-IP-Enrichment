{
 "cells": [
  {
   "cell_type": "markdown",
   "id": "3866e4ba",
   "metadata": {},
   "source": [
    "## Importing Required Modules"
   ]
  },
  {
   "cell_type": "code",
   "execution_count": 1,
   "id": "0950edbf",
   "metadata": {},
   "outputs": [],
   "source": [
    "\n",
    "import base64\n",
    "import hashlib\n",
    "import json\n",
    "import requests\n",
    "import time\n",
    "import csv\n",
    "import datetime\n",
    "# from datetime import datetime\n",
    "import os\n",
    "\n",
    "import pandas as pd\n"
   ]
  },
  {
   "cell_type": "markdown",
   "id": "a34da424",
   "metadata": {},
   "source": [
    "## a) Receiving Individual / list of IP Addresss"
   ]
  },
  {
   "cell_type": "code",
   "execution_count": 2,
   "id": "2e6c14df",
   "metadata": {},
   "outputs": [
    {
     "name": "stdout",
     "output_type": "stream",
     "text": [
      "  data.attributes.regional_internet_registry data.attributes.network  \\\n",
      "0                                       ARIN           34.120.0.0/13   \n",
      "\n",
      "  data.attributes.tags data.attributes.country  \\\n",
      "0                   []                      US   \n",
      "\n",
      "   data.attributes.last_analysis_date data.attributes.as_owner  \\\n",
      "0                          1676767972    GOOGLE-CLOUD-PLATFORM   \n",
      "\n",
      "   data.attributes.last_analysis_stats.harmless  \\\n",
      "0                                            87   \n",
      "\n",
      "   data.attributes.last_analysis_stats.malicious  \\\n",
      "0                                              0   \n",
      "\n",
      "   data.attributes.last_analysis_stats.suspicious  \\\n",
      "0                                               0   \n",
      "\n",
      "   data.attributes.last_analysis_stats.undetected  ...  \\\n",
      "0                                               0  ...   \n",
      "\n",
      "   data.attributes.last_analysis_results.Bfore.Ai PreCrime.engine_name  \\\n",
      "0                                  Bfore.Ai PreCrime                     \n",
      "\n",
      "   data.attributes.reputation  data.attributes.last_modification_date  \\\n",
      "0                           0                              1676767998   \n",
      "\n",
      "  data.attributes.total_votes.harmless data.attributes.total_votes.malicious  \\\n",
      "0                                    0                                     0   \n",
      "\n",
      "  data.attributes.continent                        data.attributes.whois  \\\n",
      "0                        NA  No match found for googleusercontent.com.\\n   \n",
      "\n",
      "    data.type        data.id  \\\n",
      "0  ip_address  34.123.194.52   \n",
      "\n",
      "                                     data.links.self  \n",
      "0  https://www.virustotal.com/api/v3/ip_addresses...  \n",
      "\n",
      "[1 rows x 370 columns]\n",
      "completed\n"
     ]
    }
   ],
   "source": [
    "API_KEY = '0d9fdb6e32d74b9d12e3d894309531838c3aabe8d66b049fd3a7976fbedf2c68'  #@param  {type: \"string\"}\n",
    "\n",
    "#'to_process_alertIP' + '.csv'\n",
    "#'to_process_botIP' + '.csv'\n",
    "\n",
    "def process_iplist(filename_to_process, columnIndex):\n",
    "    \n",
    "    with open(filename_to_process + \".csv\", newline='') as inputfile:\n",
    "\n",
    "        if not os.path.exists(\"downloaded_vtresponse\"):\n",
    "                os.makedirs(\"downloaded_vtresponse\")\n",
    "\n",
    "        with open(filename_to_process + \"_tracker.csv\", 'w', newline='') as outputfile:\n",
    "            ip_list = csv.reader(inputfile, delimiter=',')\n",
    "            output_writer = csv.writer(outputfile, delimiter=',', quotechar='\"', quoting=csv.QUOTE_MINIMAL)\n",
    "\n",
    "            counter = 0\n",
    "\n",
    "            for row in ip_list:\n",
    "\n",
    "                if counter == 0:\n",
    "                    output_writer.writerow(row + [\"Time Run\"])\n",
    "                    outputfile.flush()\n",
    "                    counter += 1\n",
    "                    continue\n",
    "\n",
    "                print(\"Processing: #\" + str(counter) + \" - \" + row[columnIndex])\n",
    "\n",
    "                #Get an IP address Report\n",
    "                r = requests.get(\"https://www.virustotal.com/api/v3/ip_addresses/\"+row[0], headers={\"x-apikey\":API_KEY})\n",
    "\n",
    "                # TODO: Make generalised and incorporate timestamp in foldername\n",
    "                now = datetime.datetime.now()\n",
    "                dt_string = now.strftime(\"%d%m%Y\")\n",
    "                \n",
    "                if not os.path.exists(\"downloaded_vtresponse/\" + dt_string):\n",
    "                    os.makedirs(\"downloaded_vtresponse/\" + dt_string)\n",
    "#                 with open(\"downloaded_vtresponse/\" + row[columnIndex] +\".json\", \"w\") as outfile:\n",
    "                with open(\"downloaded_vtresponse/\" + dt_string + \"/\" + row[columnIndex] +\".json\", \"w\") as outfile:\n",
    "\n",
    "                    outfile.write(r.text)\n",
    "\n",
    "                output_writer.writerow(row + [datetime.datetime.now()])\n",
    "\n",
    "                outputfile.flush()\n",
    "\n",
    "                counter += 1\n",
    "                time.sleep(16)\n",
    "\n",
    "\n",
    "def process_json_folder(folder_to_process):\n",
    "    # Usual Folder: downloaded_vtresponse\n",
    "    combined_df = pd.DataFrame()\n",
    "    \n",
    "    \n",
    "    for filename in os.listdir(folder_to_process):\n",
    "        f = os.path.join(folder_to_process, filename)\n",
    "\n",
    "        # check if it is a file\n",
    "        if os.path.isfile(f):\n",
    "\n",
    "            # Opening JSON file\n",
    "            f = open(f)\n",
    "\n",
    "            # returns JSON object as\n",
    "            # a dictionary\n",
    "            data = json.load(f)\n",
    "\n",
    "            df_result = pd.json_normalize(data)\n",
    "            combined_df = pd.concat([combined_df, df_result], ignore_index=True, sort=False)\n",
    "    \n",
    "    \n",
    "    print(combined_df)\n",
    "    now = datetime.datetime.now()\n",
    "    dt_string = now.strftime(\"%d%m%Y\")\n",
    "    \n",
    "    combined_df.to_csv(folder_to_process + '/' + dt_string + '_parsed-combined.csv')\n",
    "    \n",
    "\n",
    "\n",
    "# Process the list of IPs (CSVs ok but IP must be x column in the list)\n",
    "# process_iplist(\"Combined_TestKits_BotIPs\", 0)\n",
    "# process_iplist(\"ip\", 0)\n",
    "\n",
    "\n",
    "# Process the downloaded VT JSONs\n",
    "# process_json_folder(\"downloaded_vtresponse_10Jan_combinedFull5k\")\n",
    "process_json_folder(\"downloaded_vtresponse/19022023\")\n",
    "\n",
    "\n",
    "print(\"completed\")\n",
    "exit(0)\n",
    "\n",
    "\n"
   ]
  },
  {
   "cell_type": "markdown",
   "id": "affbfe3f",
   "metadata": {},
   "source": [
    "### Flow"
   ]
  },
  {
   "cell_type": "markdown",
   "id": "d27a7665",
   "metadata": {},
   "source": [
    "1. User edits and feeds ip.csv\n",
    "2. **process_iplist()** reads each and calls VT api \n",
    "3. Responses are stored in **\"downloaded_vtresponse\"** and seperated into folders by **respective dates** (DDMMYYYY)\n",
    "4. **process_json()** reads jsons in each folder and generates a compilation for that day in each folder"
   ]
  },
  {
   "cell_type": "markdown",
   "id": "b8ad106b",
   "metadata": {},
   "source": [
    "### Changelog \n",
    "\n",
    "- Separating **process_iplist()** output from VT calls to folders (todays_date)\n",
    "- changed output of **process_json()** FROM \"_parsed-combined\" to todays_date_parsed-combined in EACH RESPECTIVE FOLDER "
   ]
  },
  {
   "cell_type": "code",
   "execution_count": null,
   "id": "4f8c7ae4",
   "metadata": {},
   "outputs": [],
   "source": []
  },
  {
   "cell_type": "code",
   "execution_count": null,
   "id": "c57a0fef",
   "metadata": {},
   "outputs": [],
   "source": []
  }
 ],
 "metadata": {
  "kernelspec": {
   "display_name": "Python 3 (ipykernel)",
   "language": "python",
   "name": "python3"
  },
  "language_info": {
   "codemirror_mode": {
    "name": "ipython",
    "version": 3
   },
   "file_extension": ".py",
   "mimetype": "text/x-python",
   "name": "python",
   "nbconvert_exporter": "python",
   "pygments_lexer": "ipython3",
   "version": "3.9.12"
  }
 },
 "nbformat": 4,
 "nbformat_minor": 5
}
