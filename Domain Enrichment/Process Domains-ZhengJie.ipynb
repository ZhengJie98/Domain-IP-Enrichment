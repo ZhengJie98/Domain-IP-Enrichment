{
 "cells": [
  {
   "cell_type": "markdown",
   "id": "b561b49c",
   "metadata": {},
   "source": [
    "## Importing required modules"
   ]
  },
  {
   "cell_type": "code",
   "execution_count": 1,
   "id": "de0d567c",
   "metadata": {},
   "outputs": [
    {
     "ename": "ModuleNotFoundError",
     "evalue": "No module named 'crtsh'",
     "output_type": "error",
     "traceback": [
      "\u001b[1;31m---------------------------------------------------------------------------\u001b[0m",
      "\u001b[1;31mModuleNotFoundError\u001b[0m                       Traceback (most recent call last)",
      "\u001b[1;32m~\\AppData\\Local\\Temp\\ipykernel_21476\\2545873235.py\u001b[0m in \u001b[0;36m<module>\u001b[1;34m\u001b[0m\n\u001b[1;32m----> 1\u001b[1;33m \u001b[1;32mfrom\u001b[0m \u001b[0mcrtsh\u001b[0m \u001b[1;32mimport\u001b[0m \u001b[0mcrtshAPI\u001b[0m \u001b[1;31m## search certificate /\u001b[0m\u001b[1;33m\u001b[0m\u001b[1;33m\u001b[0m\u001b[0m\n\u001b[0m\u001b[0;32m      2\u001b[0m \u001b[1;32mimport\u001b[0m \u001b[0mjson\u001b[0m\u001b[1;33m\u001b[0m\u001b[1;33m\u001b[0m\u001b[0m\n\u001b[0;32m      3\u001b[0m \u001b[1;32mimport\u001b[0m \u001b[0mtime\u001b[0m\u001b[1;33m\u001b[0m\u001b[1;33m\u001b[0m\u001b[0m\n\u001b[0;32m      4\u001b[0m \u001b[1;32mimport\u001b[0m \u001b[0mcsv\u001b[0m\u001b[1;33m\u001b[0m\u001b[1;33m\u001b[0m\u001b[0m\n\u001b[0;32m      5\u001b[0m \u001b[1;32mfrom\u001b[0m \u001b[0mwaybackpy\u001b[0m \u001b[1;32mimport\u001b[0m \u001b[0mWaybackMachineCDXServerAPI\u001b[0m \u001b[1;31m## search historical copies of website\u001b[0m\u001b[1;33m\u001b[0m\u001b[1;33m\u001b[0m\u001b[0m\n",
      "\u001b[1;31mModuleNotFoundError\u001b[0m: No module named 'crtsh'"
     ]
    }
   ],
   "source": [
    "from crtsh import crtshAPI ## search certificate /\n",
    "import json\n",
    "import time\n",
    "import csv\n",
    "from waybackpy import WaybackMachineCDXServerAPI ## search historical copies of website\n",
    "import socket\n",
    "import dns.resolver\n",
    "import whois # query and response protocol that is often used for querying databases that store registered domain names.\n",
    "import datetime\n",
    "import pandas as pd\n",
    "import os\n",
    "\n",
    "\n",
    "\n",
    "def download_page(url):\n",
    "\n",
    "    #TODO: Integrate shot-scraper CLI calls\n",
    "#     print(\"current download_page url:\",url)\n",
    "    !shot-scraper {url}\n",
    "#     print(\"download page completed\")\n",
    "\n",
    "    return 0\n",
    "\n",
    "# Returns URL of latest archive page, timestamp of latest archive page\n",
    "def download_archived_page(url):\n",
    "\n",
    "    try:\n",
    "        user_agent = \"Mozilla/5.0 (Windows NT 5.1; rv:40.0) Gecko/20100101 Firefox/40.0\"\n",
    "        cdx_api = WaybackMachineCDXServerAPI(url, user_agent)\n",
    "\n",
    "        newest = cdx_api.newest()\n",
    "\n",
    "        return [newest.archive_url, newest.timestamp]\n",
    "\n",
    "    except:\n",
    "        print(\"download_archieved_page exception triggered\")\n",
    "\n",
    "        return ['', '']\n",
    "\n",
    "# Returns Subject CN, SAN, Issuer Details, Issued Date, Earliest Issue Date of the first cert, Number of Certs\n",
    "def download_cert(domain_name):\n",
    "\n",
    "    if not os.path.exists(\"downloaded_certs\"):\n",
    "            os.makedirs(\"downloaded_certs\")\n",
    "        \n",
    "    try:\n",
    "        cert_json = crtshAPI().search(domain_name)\n",
    "#         print(cert_json)\n",
    "        \n",
    "#         print(cert_json[len(cert_json)-1])\n",
    "        \n",
    "        \n",
    "        with open(\"downloaded_certs/\" + domain_name + \".json\", \"w\") as outfile:\n",
    "            json.dump(cert_json, outfile)\n",
    "\n",
    "        return [cert_json[0]['common_name'], cert_json[0]['name_value'], cert_json[0]['issuer_name'], cert_json[0]['not_before'], len(cert_json)]\n",
    "\n",
    "    except:\n",
    "\n",
    "        print(\"download_cert exception triggered\")\n",
    "        return ['', '', '', '', '', '']\n",
    "\n",
    "\n",
    "\n",
    "# Returns Unique CNs, Set of CNs, Unique Issuers, Set of Issuers, Unique AltName Values, Min of AltName Count, Max of AltName Count\n",
    "def process_downloaded_cert(domain_name):\n",
    "\n",
    "    try:\n",
    "        # Opening JSON file\n",
    "        f = open(\"downloaded_certs/\" + domain_name + \".json\")\n",
    "        data = json.load(f)\n",
    "\n",
    "        SubjectCN_set = set()\n",
    "        Issuer_set = set()\n",
    "        SerialNo_set = set()\n",
    "        AltName_set = set()\n",
    "        AltName_count_min = 99999\n",
    "        AltName_count_max = 0\n",
    "\n",
    "        if (len(data) == 0):\n",
    "            return ['', '', '', '', '', '', '']\n",
    "\n",
    "\n",
    "        for i in data:\n",
    "            #print(i)\n",
    "\n",
    "            SubjectCN_set.add(i[\"common_name\"])\n",
    "            Issuer_set.add(i[\"issuer_name\"])\n",
    "            SerialNo_set.add(i[\"serial_number\"])\n",
    "            AltName_set.add(i[\"name_value\"])\n",
    "\n",
    "\n",
    "            NumOfAltNamesInside = (i[\"name_value\"].count(\"\\n\"))+1\n",
    "            if (NumOfAltNamesInside < AltName_count_min):\n",
    "                AltName_count_min = NumOfAltNamesInside\n",
    "\n",
    "            if (NumOfAltNamesInside > AltName_count_max):\n",
    "                AltName_count_max = NumOfAltNamesInside\n",
    "\n",
    "        # Closing file\n",
    "        f.close()\n",
    "\n",
    "        return [len(SubjectCN_set), SubjectCN_set, len(Issuer_set), Issuer_set, len(AltName_set), AltName_count_min, AltName_count_max]\n",
    "\n",
    "    except:\n",
    "        print(\"process_downloaded_cert exception triggered\")\n",
    "        return ['', '', '', '', '', '', '']\n",
    "\n",
    "# Returns CNAME, A IPs, Nameservers\n",
    "def get_dns_info(domain_name):\n",
    "\n",
    "    try:\n",
    "        dns_info = socket.gethostbyname_ex(domain_name)\n",
    "        print(dns_info)\n",
    "        nameservers = dns.resolver.query(domain_name, 'NS')\n",
    "        nameserver_list = [i.to_text() for i in nameservers]\n",
    "\n",
    "        return [dns_info[1], dns_info[2], nameserver_list]\n",
    "\n",
    "    except:\n",
    "\n",
    "        print(\"get_dns_info exception triggered\")\n",
    "        return [[], [], []]\n",
    "\n",
    "\n",
    "# Returns Registra, Name, Org, Created Date, Updated Date\n",
    "def get_domain_whois_info(domain_name):\n",
    "\n",
    "    if not os.path.exists(\"downloaded_whois\"):\n",
    "            os.makedirs(\"downloaded_whois\")\n",
    "            \n",
    "    try:\n",
    "        w = whois.whois(domain_name)\n",
    "        with open(\"downloaded_whois/\" + domain_name + \".txt\", \"w\") as outfile:\n",
    "            outfile.write(str(w.text))\n",
    "\n",
    "        return [w.registrar, w.name, w.org, w.creation_date, w.updated_date]\n",
    "\n",
    "    except:\n",
    "\n",
    "        print(\"get_domain_whois_info() exception triggered\")\n",
    "        return ['', '', '', '', '']\n",
    "\n",
    "\n",
    "\n",
    "with open('to_process.csv', newline='') as inputfile:\n",
    "    with open('output_certVariations.csv', 'w', newline='') as outputfile:\n",
    "        domain_list = csv.reader(inputfile, delimiter=',')\n",
    "        output_writer = csv.writer(outputfile, delimiter=',', quotechar='\"', quoting=csv.QUOTE_MINIMAL)\n",
    "\n",
    "        counter = 0\n",
    "\n",
    "        for row in domain_list:\n",
    "            print(\"Processing: #\" + str(counter) + \" - \" + row[0])\n",
    "#             print(\"Printing Row: \", row)\n",
    "\n",
    "            cert_list = download_cert(row[0])\n",
    "            archivedpage_list = download_archived_page(row[0])\n",
    "            dns_list = get_dns_info(row[0])\n",
    "            whois_list = get_domain_whois_info(row[0])\n",
    "            image = download_page(row[0])\n",
    "\n",
    "            cert_variations = process_downloaded_cert(row[0])\n",
    "\n",
    "#             output_writer.writerow(row + [datetime.datetime.now()] + cert_list + archivedpage_list + dns_list + whois_list)\n",
    "\n",
    "            output_writer.writerow(row + [datetime.datetime.now()] + cert_variations)\n",
    "\n",
    "            outputfile.flush()\n",
    "\n",
    "            counter += 1\n",
    "            #time.sleep(4)\n",
    "\n",
    "\n",
    "\n",
    "print(\"completed\")\n",
    "exit(0)\n",
    "\n",
    "\n"
   ]
  },
  {
   "cell_type": "markdown",
   "id": "5da7b5a5",
   "metadata": {},
   "source": [
    "## VT Call"
   ]
  },
  {
   "cell_type": "code",
   "execution_count": 6,
   "id": "7c51e88b",
   "metadata": {},
   "outputs": [],
   "source": [
    "API_KEY = '0d9fdb6e32d74b9d12e3d894309531838c3aabe8d66b049fd3a7976fbedf2c68'  #@param  {type: \"string\"}\n",
    "\n",
    "r = requests.get(\"https://www.virustotal.com/api/v3/domains/www.amazon.com\", headers={\"x-apikey\":API_KEY})\n",
    "\n"
   ]
  },
  {
   "cell_type": "code",
   "execution_count": 14,
   "id": "1eab71d0",
   "metadata": {},
   "outputs": [
    {
     "name": "stdout",
     "output_type": "stream",
     "text": [
      "dns_info: ('e15316.dsca.akamaiedge.net', ['www.amazon.com', 'tp.47cf2c8c9-frontier.amazon.com', 'www.amazon.com.edgekey.net'], ['119.56.1.86'])\n",
      "nameservers: id 48620\n",
      "opcode QUERY\n",
      "rcode NOERROR\n",
      "flags QR RD RA\n",
      ";QUESTION\n",
      "www.amazon.com. IN NS\n",
      ";ANSWER\n",
      "www.amazon.com. 276 IN CNAME tp.47cf2c8c9-frontier.amazon.com.\n",
      "tp.47cf2c8c9-frontier.amazon.com. 58 IN CNAME d3ag4hukkh62yn.cloudfront.net.\n",
      "d3ag4hukkh62yn.cloudfront.net. 1485 IN NS ns-2021.awsdns-60.co.uk.\n",
      "d3ag4hukkh62yn.cloudfront.net. 1485 IN NS ns-130.awsdns-16.com.\n",
      "d3ag4hukkh62yn.cloudfront.net. 1485 IN NS ns-1144.awsdns-15.org.\n",
      "d3ag4hukkh62yn.cloudfront.net. 1485 IN NS ns-824.awsdns-39.net.\n",
      ";AUTHORITY\n",
      ";ADDITIONAL\n",
      "<class 'dns.resolver.Answer'>\n"
     ]
    },
    {
     "name": "stderr",
     "output_type": "stream",
     "text": [
      "C:\\Users\\Jun Rong\\AppData\\Local\\Temp\\ipykernel_21476\\4224909885.py:18: DeprecationWarning: please use dns.resolver.resolve() instead\n",
      "  nameservers = dns.resolver.query(domain_name, 'NS')\n"
     ]
    },
    {
     "data": {
      "text/plain": [
       "[['www.amazon.com',\n",
       "  'tp.47cf2c8c9-frontier.amazon.com',\n",
       "  'www.amazon.com.edgekey.net'],\n",
       " ['119.56.1.86'],\n",
       " ['ns-2021.awsdns-60.co.uk.',\n",
       "  'ns-130.awsdns-16.com.',\n",
       "  'ns-1144.awsdns-15.org.',\n",
       "  'ns-824.awsdns-39.net.']]"
      ]
     },
     "execution_count": 14,
     "metadata": {},
     "output_type": "execute_result"
    }
   ],
   "source": [
    "# from crtsh import crtshAPI ## search certificate /\n",
    "import json\n",
    "import time\n",
    "import csv\n",
    "# from waybackpy import WaybackMachineCDXServerAPI ## search historical copies of website\n",
    "import socket\n",
    "import dns.resolver\n",
    "# import whois # query and response protocol that is often used for querying databases that store registered domain names.\n",
    "import datetime\n",
    "import pandas as pd\n",
    "import os\n",
    "\n",
    "def get_dns_info(domain_name):\n",
    "\n",
    "    try:\n",
    "        dns_info = socket.gethostbyname_ex(domain_name)\n",
    "        print(\"dns_info:\", dns_info)\n",
    "        nameservers = dns.resolver.query(domain_name, 'NS')\n",
    "        print(\"nameservers:\", nameservers.response)\n",
    "        print(type(nameservers))\n",
    "\n",
    "        nameserver_list = [i.to_text() for i in nameservers]\n",
    "\n",
    "        return [dns_info[1], dns_info[2], nameserver_list]\n",
    "\n",
    "    except Exception as e:\n",
    "        print(e)\n",
    "        print(\"get_dns_info exception triggered\")\n",
    "        return [[], [], []]\n",
    "    \n",
    "    \n",
    "get_dns_info(\"www.amazon.com\")"
   ]
  },
  {
   "cell_type": "code",
   "execution_count": null,
   "id": "f0a6d320",
   "metadata": {},
   "outputs": [],
   "source": []
  },
  {
   "cell_type": "code",
   "execution_count": 5,
   "id": "e4b6370a",
   "metadata": {},
   "outputs": [
    {
     "name": "stdout",
     "output_type": "stream",
     "text": [
      "Processing: #1 - www.facebook.com\n",
      "Processing: #2 - www.amazon.com\n"
     ]
    }
   ],
   "source": [
    "from crtsh import crtshAPI ## search certificate /\n",
    "import json\n",
    "import time\n",
    "import csv\n",
    "from waybackpy import WaybackMachineCDXServerAPI ## search historical copies of website\n",
    "import socket\n",
    "import dns.resolver\n",
    "import whois # query and response protocol that is often used for querying databases that store registered domain names.\n",
    "import datetime\n",
    "import pandas as pd\n",
    "import os\n",
    "import requests\n",
    "\n",
    "\n",
    "API_KEY = '0d9fdb6e32d74b9d12e3d894309531838c3aabe8d66b049fd3a7976fbedf2c68'  #@param  {type: \"string\"}\n",
    "\n",
    "\n",
    "## NOTE: ONLY STARTS FROM ROW 1 AND NOT 0 PLEASE EDIT\n",
    "\n",
    "def process_domainlist(filename_to_process, columnIndex):\n",
    "    \n",
    "    with open(filename_to_process + \".csv\", newline='') as inputfile:\n",
    "\n",
    "        if not os.path.exists(\"downloaded_vtresponse\"):\n",
    "                os.makedirs(\"downloaded_vtresponse\")\n",
    "\n",
    "        with open(filename_to_process + \"_tracker.csv\", 'w', newline='') as outputfile:\n",
    "            ip_list = csv.reader(inputfile, delimiter=',')\n",
    "            output_writer = csv.writer(outputfile, delimiter=',', quotechar='\"', quoting=csv.QUOTE_MINIMAL)\n",
    "\n",
    "            counter = 0\n",
    "\n",
    "            for row in ip_list:\n",
    "\n",
    "                if counter == 0:\n",
    "                    output_writer.writerow(row + [\"Time Run\"])\n",
    "                    outputfile.flush()\n",
    "                    counter += 1\n",
    "                    continue\n",
    "\n",
    "                print(\"Processing: #\" + str(counter) + \" - \" + row[columnIndex])\n",
    "\n",
    "                #Get an IP address Report\n",
    "#                 r = requests.get(\"https://www.virustotal.com/api/v3/ip_addresses/\"+row[0], headers={\"x-apikey\":API_KEY})\n",
    "                r = requests.get(\"https://www.virustotal.com/api/v3/domains/\" + row[0], headers={\"x-apikey\":API_KEY})\n",
    "\n",
    "\n",
    "                # TODO: Make generalised and incorporate timestamp in foldername\n",
    "                now = datetime.datetime.now()\n",
    "                dt_string = now.strftime(\"%d%m%Y\")\n",
    "                \n",
    "                if not os.path.exists(\"downloaded_vtresponse/\" + dt_string):\n",
    "                    os.makedirs(\"downloaded_vtresponse/\" + dt_string)\n",
    "#                 with open(\"downloaded_vtresponse/\" + row[columnIndex] +\".json\", \"w\") as outfile:\n",
    "                with open(\"downloaded_vtresponse/\" + dt_string + \"/\" + row[columnIndex] +\".json\", \"w\") as outfile:\n",
    "\n",
    "                    outfile.write(r.text)\n",
    "\n",
    "                output_writer.writerow(row + [datetime.datetime.now()])\n",
    "\n",
    "                outputfile.flush()\n",
    "\n",
    "                counter += 1\n",
    "                time.sleep(16)\n",
    "                \n",
    "process_domainlist(\"to_process\", 0)\n"
   ]
  },
  {
   "cell_type": "code",
   "execution_count": null,
   "id": "ed801069",
   "metadata": {},
   "outputs": [],
   "source": []
  },
  {
   "cell_type": "code",
   "execution_count": null,
   "id": "3c50ac6b",
   "metadata": {},
   "outputs": [],
   "source": []
  },
  {
   "cell_type": "code",
   "execution_count": null,
   "id": "9ea0e83c",
   "metadata": {},
   "outputs": [],
   "source": []
  },
  {
   "cell_type": "code",
   "execution_count": null,
   "id": "bc5eafcc",
   "metadata": {},
   "outputs": [],
   "source": []
  },
  {
   "cell_type": "code",
   "execution_count": null,
   "id": "471d885c",
   "metadata": {},
   "outputs": [],
   "source": []
  },
  {
   "cell_type": "code",
   "execution_count": null,
   "id": "16274693",
   "metadata": {},
   "outputs": [],
   "source": []
  },
  {
   "cell_type": "code",
   "execution_count": 12,
   "id": "56448aa1",
   "metadata": {},
   "outputs": [
    {
     "name": "stdout",
     "output_type": "stream",
     "text": [
      "get_dns_info for: www.amazon.com\n"
     ]
    },
    {
     "name": "stderr",
     "output_type": "stream",
     "text": [
      "C:\\Users\\puddi\\AppData\\Local\\Temp\\ipykernel_20044\\1322193862.py:116: DeprecationWarning: please use dns.resolver.resolve() instead\n",
      "  nameservers = dns.resolver.query(domain_name, 'NS')\n"
     ]
    },
    {
     "data": {
      "text/plain": [
       "[['www.amazon.com', 'tp.47cf2c8c9-frontier.amazon.com'],\n",
       " ['13.33.37.125'],\n",
       " ['ns-130.awsdns-16.com.',\n",
       "  'ns-2021.awsdns-60.co.uk.',\n",
       "  'ns-824.awsdns-39.net.',\n",
       "  'ns-1144.awsdns-15.org.']]"
      ]
     },
     "execution_count": 12,
     "metadata": {},
     "output_type": "execute_result"
    }
   ],
   "source": [
    "get_dns_info(\"www.amazon.com\")"
   ]
  },
  {
   "cell_type": "code",
   "execution_count": 13,
   "id": "c5aae1dd",
   "metadata": {},
   "outputs": [
    {
     "name": "stdout",
     "output_type": "stream",
     "text": [
      "get_dns_info for: apple.com\n"
     ]
    },
    {
     "name": "stderr",
     "output_type": "stream",
     "text": [
      "C:\\Users\\puddi\\AppData\\Local\\Temp\\ipykernel_20044\\1322193862.py:116: DeprecationWarning: please use dns.resolver.resolve() instead\n",
      "  nameservers = dns.resolver.query(domain_name, 'NS')\n"
     ]
    },
    {
     "data": {
      "text/plain": [
       "[[],\n",
       " ['17.253.144.10'],\n",
       " ['d.ns.apple.com.', 'c.ns.apple.com.', 'a.ns.apple.com.', 'b.ns.apple.com.']]"
      ]
     },
     "execution_count": 13,
     "metadata": {},
     "output_type": "execute_result"
    }
   ],
   "source": [
    "get_dns_info(\"apple.com\")"
   ]
  },
  {
   "cell_type": "code",
   "execution_count": 18,
   "id": "f8c74392",
   "metadata": {},
   "outputs": [
    {
     "name": "stdout",
     "output_type": "stream",
     "text": [
      "{\n",
      "  \"domain_name\": [\n",
      "    \"APPLE.COM\",\n",
      "    \"apple.com\"\n",
      "  ],\n",
      "  \"registrar\": \"CSC CORPORATE DOMAINS, INC.\",\n",
      "  \"whois_server\": \"whois.corporatedomains.com\",\n",
      "  \"referral_url\": null,\n",
      "  \"updated_date\": [\n",
      "    \"2023-02-16 06:14:38\",\n",
      "    \"2023-02-16 01:14:38\"\n",
      "  ],\n",
      "  \"creation_date\": [\n",
      "    \"1987-02-19 05:00:00\",\n",
      "    \"1987-02-19 00:00:00\"\n",
      "  ],\n",
      "  \"expiration_date\": \"2024-02-20 05:00:00\",\n",
      "  \"name_servers\": [\n",
      "    \"A.NS.APPLE.COM\",\n",
      "    \"B.NS.APPLE.COM\",\n",
      "    \"C.NS.APPLE.COM\",\n",
      "    \"D.NS.APPLE.COM\",\n",
      "    \"a.ns.apple.com\",\n",
      "    \"b.ns.apple.com\",\n",
      "    \"c.ns.apple.com\",\n",
      "    \"d.ns.apple.com\"\n",
      "  ],\n",
      "  \"status\": [\n",
      "    \"clientTransferProhibited https://icann.org/epp#clientTransferProhibited\",\n",
      "    \"serverDeleteProhibited https://icann.org/epp#serverDeleteProhibited\",\n",
      "    \"serverTransferProhibited https://icann.org/epp#serverTransferProhibited\",\n",
      "    \"serverUpdateProhibited https://icann.org/epp#serverUpdateProhibited\",\n",
      "    \"clientTransferProhibited http://www.icann.org/epp#clientTransferProhibited\",\n",
      "    \"serverDeleteProhibited http://www.icann.org/epp#serverDeleteProhibited\",\n",
      "    \"serverTransferProhibited http://www.icann.org/epp#serverTransferProhibited\",\n",
      "    \"serverUpdateProhibited http://www.icann.org/epp#serverUpdateProhibited\"\n",
      "  ],\n",
      "  \"emails\": [\n",
      "    \"domainabuse@cscglobal.com\",\n",
      "    \"domains@apple.com\",\n",
      "    \"apple-noc@apple.com\"\n",
      "  ],\n",
      "  \"dnssec\": \"unsigned\",\n",
      "  \"name\": \"Domain Administrator\",\n",
      "  \"org\": \"Apple Inc.\",\n",
      "  \"address\": \"One Apple Park Way\",\n",
      "  \"city\": \"Cupertino\",\n",
      "  \"state\": \"CA\",\n",
      "  \"registrant_postal_code\": \"95014\",\n",
      "  \"country\": \"US\"\n",
      "}\n"
     ]
    },
    {
     "data": {
      "text/plain": [
       "['CSC CORPORATE DOMAINS, INC.',\n",
       " 'Domain Administrator',\n",
       " 'Apple Inc.',\n",
       " [datetime.datetime(1987, 2, 19, 5, 0), datetime.datetime(1987, 2, 19, 0, 0)],\n",
       " [datetime.datetime(2023, 2, 16, 6, 14, 38),\n",
       "  datetime.datetime(2023, 2, 16, 1, 14, 38)]]"
      ]
     },
     "execution_count": 18,
     "metadata": {},
     "output_type": "execute_result"
    }
   ],
   "source": [
    "get_domain_whois_info(\"www.apple.com\")"
   ]
  },
  {
   "cell_type": "code",
   "execution_count": 14,
   "id": "b51b4fa5",
   "metadata": {},
   "outputs": [
    {
     "name": "stdout",
     "output_type": "stream",
     "text": [
      "get_domain_whois_info() exception triggered\n",
      "No match for \"R.CLOUDFRONT.NET\".\r\n",
      ">>> Last update of whois database: 2023-02-20T06:18:34Z <<<\r\n",
      "\r\n",
      "NOTICE: The expiration date displayed in this record is the date the\r\n",
      "registrar's sponsorship of the domain name registration in the registry is\r\n",
      "currently set to expire. This date does not necessarily reflect the expiration\r\n",
      "date of the domain name registrant's agreement with the sponsoring\r\n",
      "registrar.  Users may consult the sponsoring registrar's Whois database to\r\n",
      "view the registrar's reported date of expiration for this registration.\r\n",
      "\r\n",
      "TERMS OF USE: You are not authorized to access or query our Whois\r\n",
      "database through the use of electronic processes that are high-volume and\r\n",
      "automated except as reasonably necessary to register domain names or\r\n",
      "modify existing registrations; the Data in VeriSign Global Registry\r\n",
      "Services' (\"VeriSign\") Whois database is provided by VeriSign for\r\n",
      "information purposes only, and to assist persons in obtaining information\r\n",
      "about or related to a domain name registration record. VeriSign does not\r\n",
      "guarantee its accuracy. By submitting a Whois query, you agree to abide\r\n",
      "by the following terms of use: You agree that you may use this Data only\r\n",
      "for lawful purposes and that under no circumstances will you use this Data\r\n",
      "to: (1) allow, enable, or otherwise support the transmission of mass\r\n",
      "unsolicited, commercial advertising or solicitations via e-mail, telephone,\r\n",
      "or facsimile; or (2) enable high volume, automated, electronic processes\r\n",
      "that apply to VeriSign (or its computer systems). The compilation,\r\n",
      "repackaging, dissemination or other use of this Data is expressly\r\n",
      "prohibited without the prior written consent of VeriSign. You agree not to\r\n",
      "use electronic processes that are automated and high-volume to access or\r\n",
      "query the Whois database except as reasonably necessary to register\r\n",
      "domain names or modify existing registrations. VeriSign reserves the right\r\n",
      "to restrict your access to the Whois database in its sole discretion to ensure\r\n",
      "operational stability.  VeriSign may restrict or terminate your access to the\r\n",
      "Whois database for failure to abide by these terms of use. VeriSign\r\n",
      "reserves the right to modify these terms at any time.\r\n",
      "\r\n",
      "The Registry database contains ONLY .COM, .NET, .EDU domains and\r\n",
      "Registrars.\r\n",
      "\n"
     ]
    },
    {
     "data": {
      "text/plain": [
       "['', '', '', '', '']"
      ]
     },
     "execution_count": 14,
     "metadata": {},
     "output_type": "execute_result"
    }
   ],
   "source": [
    "get_domain_whois_info(\"13.33.37.125\")"
   ]
  },
  {
   "cell_type": "code",
   "execution_count": null,
   "id": "a019ee07",
   "metadata": {},
   "outputs": [],
   "source": []
  }
 ],
 "metadata": {
  "kernelspec": {
   "display_name": "Python 3 (ipykernel)",
   "language": "python",
   "name": "python3"
  },
  "language_info": {
   "codemirror_mode": {
    "name": "ipython",
    "version": 3
   },
   "file_extension": ".py",
   "mimetype": "text/x-python",
   "name": "python",
   "nbconvert_exporter": "python",
   "pygments_lexer": "ipython3",
   "version": "3.9.13"
  }
 },
 "nbformat": 4,
 "nbformat_minor": 5
}
