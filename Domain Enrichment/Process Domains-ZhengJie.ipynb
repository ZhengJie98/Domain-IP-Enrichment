{
 "cells": [
  {
   "cell_type": "markdown",
   "id": "b561b49c",
   "metadata": {},
   "source": [
    "## Importing required modules"
   ]
  },
  {
   "cell_type": "code",
   "execution_count": 1,
   "id": "de0d567c",
   "metadata": {},
   "outputs": [
    {
     "ename": "ModuleNotFoundError",
     "evalue": "No module named 'crtsh'",
     "output_type": "error",
     "traceback": [
      "\u001b[1;31m---------------------------------------------------------------------------\u001b[0m",
      "\u001b[1;31mModuleNotFoundError\u001b[0m                       Traceback (most recent call last)",
      "\u001b[1;32m~\\AppData\\Local\\Temp\\ipykernel_21476\\2545873235.py\u001b[0m in \u001b[0;36m<module>\u001b[1;34m\u001b[0m\n\u001b[1;32m----> 1\u001b[1;33m \u001b[1;32mfrom\u001b[0m \u001b[0mcrtsh\u001b[0m \u001b[1;32mimport\u001b[0m \u001b[0mcrtshAPI\u001b[0m \u001b[1;31m## search certificate /\u001b[0m\u001b[1;33m\u001b[0m\u001b[1;33m\u001b[0m\u001b[0m\n\u001b[0m\u001b[0;32m      2\u001b[0m \u001b[1;32mimport\u001b[0m \u001b[0mjson\u001b[0m\u001b[1;33m\u001b[0m\u001b[1;33m\u001b[0m\u001b[0m\n\u001b[0;32m      3\u001b[0m \u001b[1;32mimport\u001b[0m \u001b[0mtime\u001b[0m\u001b[1;33m\u001b[0m\u001b[1;33m\u001b[0m\u001b[0m\n\u001b[0;32m      4\u001b[0m \u001b[1;32mimport\u001b[0m \u001b[0mcsv\u001b[0m\u001b[1;33m\u001b[0m\u001b[1;33m\u001b[0m\u001b[0m\n\u001b[0;32m      5\u001b[0m \u001b[1;32mfrom\u001b[0m \u001b[0mwaybackpy\u001b[0m \u001b[1;32mimport\u001b[0m \u001b[0mWaybackMachineCDXServerAPI\u001b[0m \u001b[1;31m## search historical copies of website\u001b[0m\u001b[1;33m\u001b[0m\u001b[1;33m\u001b[0m\u001b[0m\n",
      "\u001b[1;31mModuleNotFoundError\u001b[0m: No module named 'crtsh'"
     ]
    }
   ],
   "source": [
    "from crtsh import crtshAPI ## search certificate /\n",
    "import json\n",
    "import time\n",
    "import csv\n",
    "from waybackpy import WaybackMachineCDXServerAPI ## search historical copies of website\n",
    "import socket\n",
    "import dns.resolver\n",
    "import whois # query and response protocol that is often used for querying databases that store registered domain names.\n",
    "import datetime\n",
    "import pandas as pd\n",
    "import os\n",
    "\n",
    "\n",
    "\n",
    "def download_page(url):\n",
    "\n",
    "    #TODO: Integrate shot-scraper CLI calls\n",
    "#     print(\"current download_page url:\",url)\n",
    "    !shot-scraper {url}\n",
    "#     print(\"download page completed\")\n",
    "\n",
    "    return 0\n",
    "\n",
    "# Returns URL of latest archive page, timestamp of latest archive page\n",
    "def download_archived_page(url):\n",
    "\n",
    "    try:\n",
    "        user_agent = \"Mozilla/5.0 (Windows NT 5.1; rv:40.0) Gecko/20100101 Firefox/40.0\"\n",
    "        cdx_api = WaybackMachineCDXServerAPI(url, user_agent)\n",
    "\n",
    "        newest = cdx_api.newest()\n",
    "\n",
    "        return [newest.archive_url, newest.timestamp]\n",
    "\n",
    "    except:\n",
    "        print(\"download_archieved_page exception triggered\")\n",
    "\n",
    "        return ['', '']\n",
    "\n",
    "# Returns Subject CN, SAN, Issuer Details, Issued Date, Earliest Issue Date of the first cert, Number of Certs\n",
    "def download_cert(domain_name):\n",
    "\n",
    "    if not os.path.exists(\"downloaded_certs\"):\n",
    "            os.makedirs(\"downloaded_certs\")\n",
    "        \n",
    "    try:\n",
    "        cert_json = crtshAPI().search(domain_name)\n",
    "#         print(cert_json)\n",
    "        \n",
    "#         print(cert_json[len(cert_json)-1])\n",
    "        \n",
    "        \n",
    "        with open(\"downloaded_certs/\" + domain_name + \".json\", \"w\") as outfile:\n",
    "            json.dump(cert_json, outfile)\n",
    "\n",
    "        return [cert_json[0]['common_name'], cert_json[0]['name_value'], cert_json[0]['issuer_name'], cert_json[0]['not_before'], len(cert_json)]\n",
    "\n",
    "    except:\n",
    "\n",
    "        print(\"download_cert exception triggered\")\n",
    "        return ['', '', '', '', '', '']\n",
    "\n",
    "\n",
    "\n",
    "# Returns Unique CNs, Set of CNs, Unique Issuers, Set of Issuers, Unique AltName Values, Min of AltName Count, Max of AltName Count\n",
    "def process_downloaded_cert(domain_name):\n",
    "\n",
    "    try:\n",
    "        # Opening JSON file\n",
    "        f = open(\"downloaded_certs/\" + domain_name + \".json\")\n",
    "        data = json.load(f)\n",
    "\n",
    "        SubjectCN_set = set()\n",
    "        Issuer_set = set()\n",
    "        SerialNo_set = set()\n",
    "        AltName_set = set()\n",
    "        AltName_count_min = 99999\n",
    "        AltName_count_max = 0\n",
    "\n",
    "        if (len(data) == 0):\n",
    "            return ['', '', '', '', '', '', '']\n",
    "\n",
    "\n",
    "        for i in data:\n",
    "            #print(i)\n",
    "\n",
    "            SubjectCN_set.add(i[\"common_name\"])\n",
    "            Issuer_set.add(i[\"issuer_name\"])\n",
    "            SerialNo_set.add(i[\"serial_number\"])\n",
    "            AltName_set.add(i[\"name_value\"])\n",
    "\n",
    "\n",
    "            NumOfAltNamesInside = (i[\"name_value\"].count(\"\\n\"))+1\n",
    "            if (NumOfAltNamesInside < AltName_count_min):\n",
    "                AltName_count_min = NumOfAltNamesInside\n",
    "\n",
    "            if (NumOfAltNamesInside > AltName_count_max):\n",
    "                AltName_count_max = NumOfAltNamesInside\n",
    "\n",
    "        # Closing file\n",
    "        f.close()\n",
    "\n",
    "        return [len(SubjectCN_set), SubjectCN_set, len(Issuer_set), Issuer_set, len(AltName_set), AltName_count_min, AltName_count_max]\n",
    "\n",
    "    except:\n",
    "        print(\"process_downloaded_cert exception triggered\")\n",
    "        return ['', '', '', '', '', '', '']\n",
    "\n",
    "# Returns CNAME, A IPs, Nameservers\n",
    "def get_dns_info(domain_name):\n",
    "\n",
    "    try:\n",
    "        dns_info = socket.gethostbyname_ex(domain_name)\n",
    "        print(dns_info)\n",
    "        nameservers = dns.resolver.query(domain_name, 'NS')\n",
    "        nameserver_list = [i.to_text() for i in nameservers]\n",
    "\n",
    "        return [dns_info[1], dns_info[2], nameserver_list]\n",
    "\n",
    "    except:\n",
    "\n",
    "        print(\"get_dns_info exception triggered\")\n",
    "        return [[], [], []]\n",
    "\n",
    "\n",
    "# Returns Registra, Name, Org, Created Date, Updated Date\n",
    "def get_domain_whois_info(domain_name):\n",
    "\n",
    "    if not os.path.exists(\"downloaded_whois\"):\n",
    "            os.makedirs(\"downloaded_whois\")\n",
    "            \n",
    "    try:\n",
    "        w = whois.whois(domain_name)\n",
    "        with open(\"downloaded_whois/\" + domain_name + \".txt\", \"w\") as outfile:\n",
    "            outfile.write(str(w.text))\n",
    "\n",
    "        return [w.registrar, w.name, w.org, w.creation_date, w.updated_date]\n",
    "\n",
    "    except:\n",
    "\n",
    "        print(\"get_domain_whois_info() exception triggered\")\n",
    "        return ['', '', '', '', '']\n",
    "\n",
    "\n",
    "\n",
    "with open('to_process.csv', newline='') as inputfile:\n",
    "    with open('output_certVariations.csv', 'w', newline='') as outputfile:\n",
    "        domain_list = csv.reader(inputfile, delimiter=',')\n",
    "        output_writer = csv.writer(outputfile, delimiter=',', quotechar='\"', quoting=csv.QUOTE_MINIMAL)\n",
    "\n",
    "        counter = 0\n",
    "\n",
    "        for row in domain_list:\n",
    "            print(\"Processing: #\" + str(counter) + \" - \" + row[0])\n",
    "#             print(\"Printing Row: \", row)\n",
    "\n",
    "            cert_list = download_cert(row[0])\n",
    "            archivedpage_list = download_archived_page(row[0])\n",
    "            dns_list = get_dns_info(row[0])\n",
    "            whois_list = get_domain_whois_info(row[0])\n",
    "            image = download_page(row[0])\n",
    "\n",
    "            cert_variations = process_downloaded_cert(row[0])\n",
    "\n",
    "#             output_writer.writerow(row + [datetime.datetime.now()] + cert_list + archivedpage_list + dns_list + whois_list)\n",
    "\n",
    "            output_writer.writerow(row + [datetime.datetime.now()] + cert_variations)\n",
    "\n",
    "            outputfile.flush()\n",
    "\n",
    "            counter += 1\n",
    "            #time.sleep(4)\n",
    "\n",
    "\n",
    "\n",
    "print(\"completed\")\n",
    "exit(0)\n",
    "\n",
    "\n"
   ]
  },
  {
   "cell_type": "markdown",
   "id": "5da7b5a5",
   "metadata": {},
   "source": [
    "## VT Call"
   ]
  },
  {
   "cell_type": "code",
   "execution_count": 6,
   "id": "7c51e88b",
   "metadata": {},
   "outputs": [],
   "source": [
    "API_KEY = '0d9fdb6e32d74b9d12e3d894309531838c3aabe8d66b049fd3a7976fbedf2c68'  #@param  {type: \"string\"}\n",
    "\n",
    "r = requests.get(\"https://www.virustotal.com/api/v3/domains/www.amazon.com\", headers={\"x-apikey\":API_KEY})\n",
    "\n"
   ]
  },
  {
   "cell_type": "code",
   "execution_count": 14,
   "id": "1eab71d0",
   "metadata": {},
   "outputs": [
    {
     "name": "stdout",
     "output_type": "stream",
     "text": [
      "dns_info: ('e15316.dsca.akamaiedge.net', ['www.amazon.com', 'tp.47cf2c8c9-frontier.amazon.com', 'www.amazon.com.edgekey.net'], ['119.56.1.86'])\n",
      "nameservers: id 48620\n",
      "opcode QUERY\n",
      "rcode NOERROR\n",
      "flags QR RD RA\n",
      ";QUESTION\n",
      "www.amazon.com. IN NS\n",
      ";ANSWER\n",
      "www.amazon.com. 276 IN CNAME tp.47cf2c8c9-frontier.amazon.com.\n",
      "tp.47cf2c8c9-frontier.amazon.com. 58 IN CNAME d3ag4hukkh62yn.cloudfront.net.\n",
      "d3ag4hukkh62yn.cloudfront.net. 1485 IN NS ns-2021.awsdns-60.co.uk.\n",
      "d3ag4hukkh62yn.cloudfront.net. 1485 IN NS ns-130.awsdns-16.com.\n",
      "d3ag4hukkh62yn.cloudfront.net. 1485 IN NS ns-1144.awsdns-15.org.\n",
      "d3ag4hukkh62yn.cloudfront.net. 1485 IN NS ns-824.awsdns-39.net.\n",
      ";AUTHORITY\n",
      ";ADDITIONAL\n",
      "<class 'dns.resolver.Answer'>\n"
     ]
    },
    {
     "name": "stderr",
     "output_type": "stream",
     "text": [
      "C:\\Users\\Jun Rong\\AppData\\Local\\Temp\\ipykernel_21476\\4224909885.py:18: DeprecationWarning: please use dns.resolver.resolve() instead\n",
      "  nameservers = dns.resolver.query(domain_name, 'NS')\n"
     ]
    },
    {
     "data": {
      "text/plain": [
       "[['www.amazon.com',\n",
       "  'tp.47cf2c8c9-frontier.amazon.com',\n",
       "  'www.amazon.com.edgekey.net'],\n",
       " ['119.56.1.86'],\n",
       " ['ns-2021.awsdns-60.co.uk.',\n",
       "  'ns-130.awsdns-16.com.',\n",
       "  'ns-1144.awsdns-15.org.',\n",
       "  'ns-824.awsdns-39.net.']]"
      ]
     },
     "execution_count": 14,
     "metadata": {},
     "output_type": "execute_result"
    }
   ],
   "source": [
    "# from crtsh import crtshAPI ## search certificate /\n",
    "import json\n",
    "import time\n",
    "import csv\n",
    "# from waybackpy import WaybackMachineCDXServerAPI ## search historical copies of website\n",
    "import socket\n",
    "import dns.resolver\n",
    "# import whois # query and response protocol that is often used for querying databases that store registered domain names.\n",
    "import datetime\n",
    "import pandas as pd\n",
    "import os\n",
    "\n",
    "def get_dns_info(domain_name):\n",
    "\n",
    "    try:\n",
    "        dns_info = socket.gethostbyname_ex(domain_name)\n",
    "        print(\"dns_info:\", dns_info)\n",
    "        nameservers = dns.resolver.query(domain_name, 'NS')\n",
    "        print(\"nameservers:\", nameservers.response)\n",
    "        print(type(nameservers))\n",
    "\n",
    "        nameserver_list = [i.to_text() for i in nameservers]\n",
    "\n",
    "        return [dns_info[1], dns_info[2], nameserver_list]\n",
    "\n",
    "    except Exception as e:\n",
    "        print(e)\n",
    "        print(\"get_dns_info exception triggered\")\n",
    "        return [[], [], []]\n",
    "    \n",
    "    \n",
    "get_dns_info(\"www.amazon.com\")"
   ]
  },
  {
   "cell_type": "code",
   "execution_count": null,
   "id": "f0a6d320",
   "metadata": {},
   "outputs": [],
   "source": []
  },
  {
   "cell_type": "code",
   "execution_count": 5,
   "id": "e4b6370a",
   "metadata": {},
   "outputs": [
    {
     "name": "stdout",
     "output_type": "stream",
     "text": [
      "Processing: #1 - www.facebook.com\n",
      "Processing: #2 - www.amazon.com\n"
     ]
    }
   ],
   "source": [
    "from crtsh import crtshAPI ## search certificate /\n",
    "import json\n",
    "import time\n",
    "import csv\n",
    "from waybackpy import WaybackMachineCDXServerAPI ## search historical copies of website\n",
    "import socket\n",
    "import dns.resolver\n",
    "import whois # query and response protocol that is often used for querying databases that store registered domain names.\n",
    "import datetime\n",
    "import pandas as pd\n",
    "import os\n",
    "import requests\n",
    "\n",
    "\n",
    "API_KEY = '0d9fdb6e32d74b9d12e3d894309531838c3aabe8d66b049fd3a7976fbedf2c68'  #@param  {type: \"string\"}\n",
    "\n",
    "\n",
    "## NOTE: ONLY STARTS FROM ROW 1 AND NOT 0 PLEASE EDIT\n",
    "\n",
    "def process_domainlist(filename_to_process, columnIndex):\n",
    "    \n",
    "    with open(filename_to_process + \".csv\", newline='') as inputfile:\n",
    "\n",
    "        if not os.path.exists(\"downloaded_vtresponse\"):\n",
    "                os.makedirs(\"downloaded_vtresponse\")\n",
    "\n",
    "        with open(filename_to_process + \"_tracker.csv\", 'w', newline='') as outputfile:\n",
    "            ip_list = csv.reader(inputfile, delimiter=',')\n",
    "            output_writer = csv.writer(outputfile, delimiter=',', quotechar='\"', quoting=csv.QUOTE_MINIMAL)\n",
    "\n",
    "            counter = 0\n",
    "\n",
    "            for row in ip_list:\n",
    "\n",
    "                if counter == 0:\n",
    "                    output_writer.writerow(row + [\"Time Run\"])\n",
    "                    outputfile.flush()\n",
    "                    counter += 1\n",
    "                    continue\n",
    "\n",
    "                print(\"Processing: #\" + str(counter) + \" - \" + row[columnIndex])\n",
    "\n",
    "                #Get an IP address Report\n",
    "#                 r = requests.get(\"https://www.virustotal.com/api/v3/ip_addresses/\"+row[0], headers={\"x-apikey\":API_KEY})\n",
    "                r = requests.get(\"https://www.virustotal.com/api/v3/domains/\" + row[0], headers={\"x-apikey\":API_KEY})\n",
    "\n",
    "\n",
    "                # TODO: Make generalised and incorporate timestamp in foldername\n",
    "                now = datetime.datetime.now()\n",
    "                dt_string = now.strftime(\"%d%m%Y\")\n",
    "                \n",
    "                if not os.path.exists(\"downloaded_vtresponse/\" + dt_string):\n",
    "                    os.makedirs(\"downloaded_vtresponse/\" + dt_string)\n",
    "#                 with open(\"downloaded_vtresponse/\" + row[columnIndex] +\".json\", \"w\") as outfile:\n",
    "                with open(\"downloaded_vtresponse/\" + dt_string + \"/\" + row[columnIndex] +\".json\", \"w\") as outfile:\n",
    "\n",
    "                    outfile.write(r.text)\n",
    "\n",
    "                output_writer.writerow(row + [datetime.datetime.now()])\n",
    "\n",
    "                outputfile.flush()\n",
    "\n",
    "                counter += 1\n",
    "                time.sleep(16)\n",
    "                \n",
    "process_domainlist(\"to_process\", 0)\n"
   ]
  },
  {
   "cell_type": "code",
   "execution_count": null,
   "id": "ed801069",
   "metadata": {},
   "outputs": [],
   "source": []
  },
  {
   "cell_type": "code",
   "execution_count": null,
   "id": "3c50ac6b",
   "metadata": {},
   "outputs": [],
   "source": []
  },
  {
   "cell_type": "code",
   "execution_count": null,
   "id": "9ea0e83c",
   "metadata": {},
   "outputs": [],
   "source": []
  },
  {
   "cell_type": "code",
   "execution_count": null,
   "id": "bc5eafcc",
   "metadata": {},
   "outputs": [],
   "source": []
  },
  {
   "cell_type": "markdown",
   "id": "62fa693c",
   "metadata": {},
   "source": [
    "## Presentation"
   ]
  },
  {
   "cell_type": "code",
   "execution_count": 10,
   "id": "16274693",
   "metadata": {},
   "outputs": [],
   "source": [
    "from crtsh import crtshAPI ## search certificate /\n",
    "import json\n",
    "import time\n",
    "import csv\n",
    "from waybackpy import WaybackMachineCDXServerAPI ## search historical copies of website\n",
    "import socket\n",
    "import dns.resolver\n",
    "import whois # query and response protocol that is often used for querying databases that store registered domain names.\n",
    "import datetime\n",
    "import pandas as pd\n",
    "import os\n",
    "\n",
    "\n",
    "\n",
    "def download_page(url):\n",
    "\n",
    "    #TODO: Integrate shot-scraper CLI calls\n",
    "#     print(\"current download_page url:\",url)\n",
    "    !shot-scraper {url}\n",
    "#     print(\"download page completed\")\n",
    "\n",
    "    return 0\n",
    "\n",
    "# Returns URL of latest archive page, timestamp of latest archive page\n",
    "def download_archived_page(url):\n",
    "\n",
    "    try:\n",
    "        user_agent = \"Mozilla/5.0 (Windows NT 5.1; rv:40.0) Gecko/20100101 Firefox/40.0\"\n",
    "        cdx_api = WaybackMachineCDXServerAPI(url, user_agent)\n",
    "\n",
    "        newest = cdx_api.newest()\n",
    "\n",
    "        return [newest.archive_url, newest.timestamp]\n",
    "\n",
    "    except:\n",
    "        print(\"download_archieved_page exception triggered\")\n",
    "\n",
    "        return ['', '']\n",
    "\n",
    "# Returns Subject CN, SAN, Issuer Details, Issued Date, Earliest Issue Date of the first cert, Number of Certs\n",
    "def download_cert(domain_name):\n",
    "\n",
    "    if not os.path.exists(\"downloaded_certs\"):\n",
    "            os.makedirs(\"downloaded_certs\")\n",
    "        \n",
    "    try:\n",
    "        cert_json = crtshAPI().search(domain_name)\n",
    "#         print(cert_json)\n",
    "        \n",
    "#         print(cert_json[len(cert_json)-1])\n",
    "        \n",
    "        \n",
    "        with open(\"downloaded_certs/\" + domain_name + \".json\", \"w\") as outfile:\n",
    "            json.dump(cert_json, outfile)\n",
    "\n",
    "        return [cert_json[0]['common_name'], cert_json[0]['name_value'], cert_json[0]['issuer_name'], cert_json[0]['not_before'], len(cert_json)]\n",
    "\n",
    "    except:\n",
    "\n",
    "        print(\"download_cert exception triggered\")\n",
    "        return ['', '', '', '', '', '']\n",
    "\n",
    "\n",
    "\n",
    "# Returns Unique CNs, Set of CNs, Unique Issuers, Set of Issuers, Unique AltName Values, Min of AltName Count, Max of AltName Count\n",
    "def process_downloaded_cert(domain_name):\n",
    "\n",
    "    try:\n",
    "        # Opening JSON file\n",
    "        f = open(\"downloaded_certs/\" + domain_name + \".json\")\n",
    "        data = json.load(f)\n",
    "\n",
    "        SubjectCN_set = set()\n",
    "        Issuer_set = set()\n",
    "        SerialNo_set = set()\n",
    "        AltName_set = set()\n",
    "        AltName_count_min = 99999\n",
    "        AltName_count_max = 0\n",
    "\n",
    "        if (len(data) == 0):\n",
    "            return ['', '', '', '', '', '', '']\n",
    "\n",
    "\n",
    "        for i in data:\n",
    "            #print(i)\n",
    "\n",
    "            SubjectCN_set.add(i[\"common_name\"])\n",
    "            Issuer_set.add(i[\"issuer_name\"])\n",
    "            SerialNo_set.add(i[\"serial_number\"])\n",
    "            AltName_set.add(i[\"name_value\"])\n",
    "\n",
    "\n",
    "            NumOfAltNamesInside = (i[\"name_value\"].count(\"\\n\"))+1\n",
    "            if (NumOfAltNamesInside < AltName_count_min):\n",
    "                AltName_count_min = NumOfAltNamesInside\n",
    "\n",
    "            if (NumOfAltNamesInside > AltName_count_max):\n",
    "                AltName_count_max = NumOfAltNamesInside\n",
    "\n",
    "        # Closing file\n",
    "        f.close()\n",
    "\n",
    "        return [len(SubjectCN_set), SubjectCN_set, len(Issuer_set), Issuer_set, len(AltName_set), AltName_count_min, AltName_count_max]\n",
    "\n",
    "    except:\n",
    "        print(\"process_downloaded_cert exception triggered\")\n",
    "        return ['', '', '', '', '', '', '']\n",
    "\n",
    "# Returns CNAME, A IPs, Nameservers\n",
    "def get_dns_info(domain_name):\n",
    "\n",
    "    try:\n",
    "        dns_info = socket.gethostbyname_ex(domain_name)\n",
    "        print(dns_info)\n",
    "        nameservers = dns.resolver.query(domain_name, 'NS')\n",
    "        nameserver_list = [i.to_text() for i in nameservers]\n",
    "\n",
    "        return [dns_info[1], dns_info[2], nameserver_list]\n",
    "\n",
    "    except:\n",
    "\n",
    "        print(\"get_dns_info exception triggered\")\n",
    "        return [[], [], []]\n",
    "\n",
    "\n",
    "# Returns Registra, Name, Org, Created Date, Updated Date\n",
    "def get_domain_whois_info(domain_name):\n",
    "\n",
    "    if not os.path.exists(\"downloaded_whois\"):\n",
    "            os.makedirs(\"downloaded_whois\")\n",
    "            \n",
    "    try:\n",
    "        w = whois.whois(domain_name)\n",
    "        with open(\"downloaded_whois/\" + domain_name + \".txt\", \"w\") as outfile:\n",
    "            outfile.write(str(w.text))\n",
    "\n",
    "        return [w.registrar, w.name, w.org, w.creation_date, w.updated_date]\n",
    "\n",
    "    except:\n",
    "\n",
    "        print(\"get_domain_whois_info() exception triggered\")\n",
    "        return ['', '', '', '', '']\n",
    "\n"
   ]
  },
  {
   "cell_type": "code",
   "execution_count": 5,
   "id": "56448aa1",
   "metadata": {},
   "outputs": [
    {
     "name": "stdout",
     "output_type": "stream",
     "text": [
      "('d3ag4hukkh62yn.cloudfront.net', ['www.amazon.com', 'tp.47cf2c8c9-frontier.amazon.com'], ['13.33.37.125'])\n"
     ]
    },
    {
     "name": "stderr",
     "output_type": "stream",
     "text": [
      "C:\\Users\\puddi\\AppData\\Local\\Temp\\ipykernel_7956\\2498064822.py:115: DeprecationWarning: please use dns.resolver.resolve() instead\n",
      "  nameservers = dns.resolver.query(domain_name, 'NS')\n"
     ]
    },
    {
     "data": {
      "text/plain": [
       "[['www.amazon.com', 'tp.47cf2c8c9-frontier.amazon.com'],\n",
       " ['13.33.37.125'],\n",
       " ['ns-130.awsdns-16.com.',\n",
       "  'ns-2021.awsdns-60.co.uk.',\n",
       "  'ns-824.awsdns-39.net.',\n",
       "  'ns-1144.awsdns-15.org.']]"
      ]
     },
     "execution_count": 5,
     "metadata": {},
     "output_type": "execute_result"
    }
   ],
   "source": [
    "get_dns_info(\"www.amazon.com\")"
   ]
  },
  {
   "cell_type": "code",
   "execution_count": 6,
   "id": "c5aae1dd",
   "metadata": {},
   "outputs": [
    {
     "name": "stdout",
     "output_type": "stream",
     "text": [
      "('apple.com', [], ['17.253.144.10'])\n"
     ]
    },
    {
     "name": "stderr",
     "output_type": "stream",
     "text": [
      "C:\\Users\\puddi\\AppData\\Local\\Temp\\ipykernel_7956\\2498064822.py:115: DeprecationWarning: please use dns.resolver.resolve() instead\n",
      "  nameservers = dns.resolver.query(domain_name, 'NS')\n"
     ]
    },
    {
     "data": {
      "text/plain": [
       "[[],\n",
       " ['17.253.144.10'],\n",
       " ['c.ns.apple.com.', 'd.ns.apple.com.', 'b.ns.apple.com.', 'a.ns.apple.com.']]"
      ]
     },
     "execution_count": 6,
     "metadata": {},
     "output_type": "execute_result"
    }
   ],
   "source": [
    "get_dns_info(\"apple.com\")"
   ]
  },
  {
   "cell_type": "code",
   "execution_count": 8,
   "id": "f8c74392",
   "metadata": {},
   "outputs": [
    {
     "data": {
      "text/plain": [
       "['CSC CORPORATE DOMAINS, INC.',\n",
       " 'Domain Administrator',\n",
       " 'Apple Inc.',\n",
       " [datetime.datetime(1987, 2, 19, 5, 0), datetime.datetime(1987, 2, 19, 0, 0)],\n",
       " [datetime.datetime(2023, 2, 16, 6, 14, 38),\n",
       "  datetime.datetime(2023, 2, 16, 1, 14, 38)]]"
      ]
     },
     "execution_count": 8,
     "metadata": {},
     "output_type": "execute_result"
    }
   ],
   "source": [
    "get_domain_whois_info(\"www.apple.com\")"
   ]
  },
  {
   "cell_type": "code",
   "execution_count": 14,
   "id": "b51b4fa5",
   "metadata": {
    "scrolled": true
   },
   "outputs": [
    {
     "name": "stdout",
     "output_type": "stream",
     "text": [
      "get_domain_whois_info() exception triggered\n",
      "No match for \"R.CLOUDFRONT.NET\".\r\n",
      ">>> Last update of whois database: 2023-02-20T06:18:34Z <<<\r\n",
      "\r\n",
      "NOTICE: The expiration date displayed in this record is the date the\r\n",
      "registrar's sponsorship of the domain name registration in the registry is\r\n",
      "currently set to expire. This date does not necessarily reflect the expiration\r\n",
      "date of the domain name registrant's agreement with the sponsoring\r\n",
      "registrar.  Users may consult the sponsoring registrar's Whois database to\r\n",
      "view the registrar's reported date of expiration for this registration.\r\n",
      "\r\n",
      "TERMS OF USE: You are not authorized to access or query our Whois\r\n",
      "database through the use of electronic processes that are high-volume and\r\n",
      "automated except as reasonably necessary to register domain names or\r\n",
      "modify existing registrations; the Data in VeriSign Global Registry\r\n",
      "Services' (\"VeriSign\") Whois database is provided by VeriSign for\r\n",
      "information purposes only, and to assist persons in obtaining information\r\n",
      "about or related to a domain name registration record. VeriSign does not\r\n",
      "guarantee its accuracy. By submitting a Whois query, you agree to abide\r\n",
      "by the following terms of use: You agree that you may use this Data only\r\n",
      "for lawful purposes and that under no circumstances will you use this Data\r\n",
      "to: (1) allow, enable, or otherwise support the transmission of mass\r\n",
      "unsolicited, commercial advertising or solicitations via e-mail, telephone,\r\n",
      "or facsimile; or (2) enable high volume, automated, electronic processes\r\n",
      "that apply to VeriSign (or its computer systems). The compilation,\r\n",
      "repackaging, dissemination or other use of this Data is expressly\r\n",
      "prohibited without the prior written consent of VeriSign. You agree not to\r\n",
      "use electronic processes that are automated and high-volume to access or\r\n",
      "query the Whois database except as reasonably necessary to register\r\n",
      "domain names or modify existing registrations. VeriSign reserves the right\r\n",
      "to restrict your access to the Whois database in its sole discretion to ensure\r\n",
      "operational stability.  VeriSign may restrict or terminate your access to the\r\n",
      "Whois database for failure to abide by these terms of use. VeriSign\r\n",
      "reserves the right to modify these terms at any time.\r\n",
      "\r\n",
      "The Registry database contains ONLY .COM, .NET, .EDU domains and\r\n",
      "Registrars.\r\n",
      "\n"
     ]
    },
    {
     "data": {
      "text/plain": [
       "['', '', '', '', '']"
      ]
     },
     "execution_count": 14,
     "metadata": {},
     "output_type": "execute_result"
    }
   ],
   "source": [
    "get_domain_whois_info(\"13.33.37.125\")"
   ]
  },
  {
   "cell_type": "code",
   "execution_count": 11,
   "id": "cb7e02cb",
   "metadata": {},
   "outputs": [
    {
     "data": {
      "text/plain": [
       "['https://web.archive.org/web/20230417225253/https://www.amazon.com/',\n",
       " '20230417225253']"
      ]
     },
     "execution_count": 11,
     "metadata": {},
     "output_type": "execute_result"
    }
   ],
   "source": [
    "download_archived_page(\"www.amazon.com\")"
   ]
  },
  {
   "cell_type": "code",
   "execution_count": 5,
   "id": "a019ee07",
   "metadata": {},
   "outputs": [
    {
     "name": "stderr",
     "output_type": "stream",
     "text": [
      "'shot-scraper' is not recognized as an internal or external command,\n",
      "operable program or batch file.\n"
     ]
    },
    {
     "data": {
      "text/plain": [
       "0"
      ]
     },
     "execution_count": 5,
     "metadata": {},
     "output_type": "execute_result"
    }
   ],
   "source": [
    "# import json\n",
    "# import time\n",
    "# import csv\n",
    "# from waybackpy import WaybackMachineCDXServerAPI ## search historical copies of website\n",
    "# import socket\n",
    "# import dns.resolver\n",
    "# import whois # query and response protocol that is often used for querying databases that store registered domain names.\n",
    "# import datetime\n",
    "# import pandas as pd\n",
    "# import os\n",
    "\n",
    "\n",
    "\n",
    "def download_page(url):\n",
    "\n",
    "    #TODO: Integrate shot-scraper CLI calls\n",
    "#     print(\"current download_page url:\",url)\n",
    "    !shot-scraper {url}\n",
    "#     print(\"download page completed\")\n",
    "\n",
    "    return 0\n",
    "\n",
    "download_page('1.1.1.1')"
   ]
  },
  {
   "cell_type": "code",
   "execution_count": 3,
   "id": "ef01083b",
   "metadata": {},
   "outputs": [
    {
     "name": "stderr",
     "output_type": "stream",
     "text": [
      "Screenshot of 'http://1.1.1.1' written to '1-1-1-1.2.png'\n"
     ]
    }
   ],
   "source": [
    "!shot-scraper 1.1.1.1 --wait 2000"
   ]
  },
  {
   "cell_type": "code",
   "execution_count": 4,
   "id": "fe33d0b1",
   "metadata": {},
   "outputs": [
    {
     "name": "stderr",
     "output_type": "stream",
     "text": [
      "Traceback (most recent call last):\n",
      "  File \"C:\\Users\\puddi\\anaconda3\\lib\\runpy.py\", line 197, in _run_module_as_main\n",
      "    return _run_code(code, main_globals, None,\n",
      "  File \"C:\\Users\\puddi\\anaconda3\\lib\\runpy.py\", line 87, in _run_code\n",
      "    exec(code, run_globals)\n",
      "  File \"C:\\Users\\puddi\\anaconda3\\Scripts\\shot-scraper.exe\\__main__.py\", line 7, in <module>\n",
      "  File \"C:\\Users\\puddi\\anaconda3\\lib\\site-packages\\click\\core.py\", line 1128, in __call__\n",
      "    return self.main(*args, **kwargs)\n",
      "  File \"C:\\Users\\puddi\\anaconda3\\lib\\site-packages\\click\\core.py\", line 1053, in main\n",
      "    rv = self.invoke(ctx)\n",
      "  File \"C:\\Users\\puddi\\anaconda3\\lib\\site-packages\\click\\core.py\", line 1659, in invoke\n",
      "    return _process_result(sub_ctx.command.invoke(sub_ctx))\n",
      "  File \"C:\\Users\\puddi\\anaconda3\\lib\\site-packages\\click\\core.py\", line 1395, in invoke\n",
      "    return ctx.invoke(self.callback, **ctx.params)\n",
      "  File \"C:\\Users\\puddi\\anaconda3\\lib\\site-packages\\click\\core.py\", line 754, in invoke\n",
      "    return __callback(*args, **kwargs)\n",
      "  File \"C:\\Users\\puddi\\anaconda3\\lib\\site-packages\\shot_scraper\\cli.py\", line 293, in shot\n",
      "    shot = take_shot(\n",
      "  File \"C:\\Users\\puddi\\anaconda3\\lib\\site-packages\\shot_scraper\\cli.py\", line 964, in take_shot\n",
      "    response = page.goto(url)\n",
      "  File \"C:\\Users\\puddi\\anaconda3\\lib\\site-packages\\playwright\\sync_api\\_generated.py\", line 9183, in goto\n",
      "    self._sync(\n",
      "  File \"C:\\Users\\puddi\\anaconda3\\lib\\site-packages\\playwright\\_impl\\_sync_base.py\", line 104, in _sync\n",
      "    return task.result()\n",
      "  File \"C:\\Users\\puddi\\anaconda3\\lib\\site-packages\\playwright\\_impl\\_page.py\", line 491, in goto\n",
      "    return await self._main_frame.goto(**locals_to_params(locals()))\n",
      "  File \"C:\\Users\\puddi\\anaconda3\\lib\\site-packages\\playwright\\_impl\\_frame.py\", line 147, in goto\n",
      "    await self._channel.send(\"goto\", locals_to_params(locals()))\n",
      "  File \"C:\\Users\\puddi\\anaconda3\\lib\\site-packages\\playwright\\_impl\\_connection.py\", line 44, in send\n",
      "    return await self._connection.wrap_api_call(\n",
      "  File \"C:\\Users\\puddi\\anaconda3\\lib\\site-packages\\playwright\\_impl\\_connection.py\", line 419, in wrap_api_call\n",
      "    return await cb()\n",
      "  File \"C:\\Users\\puddi\\anaconda3\\lib\\site-packages\\playwright\\_impl\\_connection.py\", line 79, in inner_send\n",
      "    result = next(iter(done)).result()\n",
      "playwright._impl._api_types.Error: net::ERR_CONNECTION_TIMED_OUT at http://101.32.113.139/\n",
      "=========================== logs ===========================\n",
      "navigating to \"http://101.32.113.139/\", waiting until \"load\"\n",
      "============================================================\n"
     ]
    }
   ],
   "source": [
    "!shot-scraper 101.32.113.139 --wait 2000"
   ]
  },
  {
   "cell_type": "code",
   "execution_count": 3,
   "id": "93dccaea",
   "metadata": {},
   "outputs": [
    {
     "name": "stderr",
     "output_type": "stream",
     "text": [
      "Screenshot of 'http://www.amazon.com' written to 'www-amazon-com.2.png'\n"
     ]
    }
   ],
   "source": [
    "!shot-scraper www.amazon.com"
   ]
  },
  {
   "cell_type": "code",
   "execution_count": 12,
   "id": "cd0b4801",
   "metadata": {},
   "outputs": [
    {
     "name": "stdout",
     "output_type": "stream",
     "text": [
      "HTTP/1.1 301 Moved Permanently\n",
      "Server: Server\n",
      "Date: Thu, 16 Mar 2023 09:47:47 GMT\n",
      "Content-Type: text/html\n",
      "Content-Length: 163\n",
      "Connection: keep-alive\n",
      "Location: https://amazon.com/\n",
      "\n"
     ]
    },
    {
     "name": "stderr",
     "output_type": "stream",
     "text": [
      "  % Total    % Received % Xferd  Average Speed   Time    Time     Time  Current\n",
      "                                 Dload  Upload   Total   Spent    Left  Speed\n",
      "\n",
      "  0     0    0     0    0     0      0      0 --:--:-- --:--:-- --:--:--     0\n",
      "  0   163    0     0    0     0      0      0 --:--:-- --:--:-- --:--:--     0\n"
     ]
    }
   ],
   "source": [
    "!curl --head amazon.com"
   ]
  },
  {
   "cell_type": "code",
   "execution_count": 16,
   "id": "ceefcb3f",
   "metadata": {
    "scrolled": true
   },
   "outputs": [
    {
     "name": "stdout",
     "output_type": "stream",
     "text": [
      "HTTP/1.1 200 OK\n",
      "Date: Thu, 16 Mar 2023 09:50:37 GMT\n",
      "Content-Type: text/html\n",
      "Transfer-Encoding: chunked\n",
      "Connection: keep-alive\n",
      "Report-To: {\"endpoints\":[{\"url\":\"https:\\/\\/a.nel.cloudflare.com\\/report\\/v3?s=9eI6QcVTYrc8MOs36sTjuYV3tcWOwJ2%2BtZkVDvECivVuM5WNwLW55rBait7NDUTvYk3k2d56%2BI6UTRsaiTd2CKwVvmEcRuDOG8yTfOsFlF%2Bsn5jeg%2Bw%2F%2FgA%3D\"}],\"group\":\"cf-nel\",\"max_age\":604800}\n",
      "NEL: {\"report_to\":\"cf-nel\",\"max_age\":604800}\n",
      "Last-Modified: Thu, 04 Aug 2022 19:10:01 GMT\n",
      "Strict-Transport-Security: max-age=31536000\n",
      "Served-In-Seconds: 0.002\n",
      "Cache-Control: public, max-age=14400\n",
      "CF-Cache-Status: HIT\n",
      "Age: 505\n",
      "Expires: Thu, 16 Mar 2023 13:50:37 GMT\n",
      "Set-Cookie: __cf_bm=j_05X6RAplug5NL2.WHA_.XdJrZId9h1xdQ6shtF.y8-1678960237-0-AXrNOeJXu/DnOLA0gsKLvudIasjvzaLRif9vNGsZNG72dAQwhjwTA3Cvk8JnVsuR5h1FjkbTfY71zu80AwlPxWo=; path=/; expires=Thu, 16-Mar-23 10:20:37 GMT; domain=.every1dns.com; HttpOnly; Secure; SameSite=None\n",
      "Server: cloudflare\n",
      "CF-RAY: 7a8c17ccaa7d44b2-SIN\n",
      "alt-svc: h3=\":443\"; ma=86400, h3-29=\":443\"; ma=86400\n",
      "\n",
      "<!DOCTYPE html><html theme=\"light\" lang=\"en-US\" prefix=\"og: http://ogp.me/ns#\"><head><meta charset=\"utf-8\"><title>1.1.1.1 â€” The free app that makes your Internet faster.</title><!-- Early iOS detection--><script>if (/iPad|iPhone|iPod/.test(navigator.userAgent)) {\n",
      "  document.documentElement.setAttribute('is-ios', '')\n",
      "}\n",
      "</script><!--|\n",
      "............................................................\n",
      ".........1............1............1............1...........\n",
      "........11...........11...........11...........11...........\n",
      ".......111..........111..........111..........111...........\n",
      "......1111.........1111.........1111.........1111...........\n",
      "........11...........11...........11...........11...........\n",
      "........11...........11...........11...........11...........\n",
      "........11...........11...........11...........11...........\n",
      "........11...........11...........11...........11...........\n",
      "........11...........11...........11...........11...........\n",
      "........11...........11...........11...........11...........\n",
      "........11...........11...........11...........11...........\n",
      "........11...........11...........11...........11...........\n",
      "........11...........11...........11...........11...........\n",
      "........11....ooo....11....ooo....11....ooo....11...........\n",
      "......111111..ooo..111111..ooo..111111..ooo..111111.........\n",
      "............................................................\n",
      "--><link href=\"favicon.ico\" rel=\"icon\" type=\"image/x-icon\"><meta property=\"og:title\" content=\"1.1.1.1 â€” The free app that makes your Internet faster.\"><meta name=\"twitter:title\" content=\"1.1.1.1 â€” The free app that makes your Internet faster.\"><meta name=\"author\" content=\"1.1.1.1\"><meta name=\"generator\" content=\"1.1.1.1\"><meta http-equiv=\"X-UA-Compatible\" content=\"IE=edge, chrome=1\"><meta name=\"description\" content=\"Install the free app that makes your phoneâ€™s Internet more fast, private, and reliable.\"><meta name=\"og:description\" content=\"Install the free app that makes your phoneâ€™s Internet more fast, private, and reliable.\"><meta property=\"og:url\" content=\"https://1.1.1.1\"><meta property=\"og:image\" content=\"https://1.1.1.1/media/social-share.png\"><meta property=\"og:video\" content=\"https://1.1.1.1/media/open-graph.mp4\"><meta name=\"twitter:site\" content=\"@Cloudflare\"><meta name=\"twitter:creator\" content=\"@Cloudflare\"><meta name=\"twitter:card\" content=\"summary_large_image\"><meta name=\"twitter:title\" content=\"1.1.1.1 â€” The free app that makes your Internet faster.\"><meta name=\"twitter:description\" content=\"Install the free app that makes your phoneâ€™s Internet more fast, private, and reliable.\"><meta name=\"twitter:image\" content=\"https://1.1.1.1/media/social-share.png\"><meta name=\"apple-itunes-app\" content=\"app-id=1423538627\"><link rel=\"manifest\" href=\"/media/manifest.json\"><meta name=\"viewport\" content=\"initial-scale=1, width=device-width\"><link rel=\"canonical\" href=\"https://1.1.1.1\"><link rel=\"shortcut icon\" href=\"/favicon.ico\"><link href=\"/site-16bcc13e690cc771698c.css\" rel=\"stylesheet\"></head><body><style>html {\n",
      "  --section-gutter-size: 8em;\n",
      "}\n",
      ".PerformanceSection--familiy-disclaimer {\n",
      "  display: none;\n",
      "}\n",
      "</style><div class=\"Surface\"><header class=\"Header\"><nav class=\"Nav\"><a class=\"Nav--link\" href=\"https://cloudflare.com\" target=\"_blank\" rel=\"noopener\"><div class=\"CloudflareLogo\"><svg aria-label=\"Cloudflare logo\" xmlns=\"http://www.w3.org/2000/svg\" viewBox=\"70 70 744 257\"><path d=\"M790.6 271.9c-3.4 0-6.1-2.7-6.1-6.1 0-3.3 2.7-6.1 6.1-6.1 3.3 0 6.1 2.7 6.1 6.1 0 3.3-2.8 6.1-6.1 6.1m0-11c-2.7 0-4.9 2.2-4.9 4.9s2.2 4.9 4.9 4.9 4.9-2.2 4.9-4.9-2.2-4.9-4.9-4.9m3.1 8.1h-1.4l-1.2-2.3h-1.6v2.3h-1.3v-6.7h3.2c1.4 0 2.3.9 2.3 2.2 0 1-.6 1.7-1.4 2l1.4 2.5zm-2.4-3.5c.5 0 1-.3 1-1 0-.8-.4-1-1-1h-2v2h2zm-636.2-6.4h15.6v42.5h27.1v13.6h-42.7zm58.8 28.2v-.2c0-16.1 13-29.2 30.3-29.2s30.1 12.9 30.1 29v.2c0 16.1-13 29.2-30.3 29.2s-30.1-12.9-30.1-29m44.6 0v-.2c0-8.1-5.8-15.1-14.4-15.1-8.5 0-14.2 6.9-14.2 15v.2c0 8.1 5.8 15.1 14.3 15.1 8.6 0 14.3-6.9 14.3-15m34.9 3.3v-31.5h15.8v31.2c0 8.1 4.1 11.9 10.3 11.9s10.3-3.7 10.3-11.5v-31.6h15.8v31.1c0 18.1-10.3 26-26.3 26-15.9 0-25.9-8-25.9-25.6m76-31.5H391c20 0 31.7 11.5 31.7 27.7v.2c0 16.2-11.8 28.2-32 28.2h-21.3v-56.1zm21.9 42.3c9.3 0 15.5-5.1 15.5-14.2v-.2c0-9-6.2-14.2-15.5-14.2H385v28.5h6.3v.1zm54-42.3h44.9v13.6h-29.4v9.6h26.6v12.9h-26.6v20h-15.5zm66.5 0h15.5v42.5h27.2v13.6h-42.7zm83.3-.4h15l23.9 56.5h-16.7l-4.1-10h-21.6l-4 10h-16.3l23.8-56.5zm13.7 34.4l-6.2-15.9-6.3 15.9h12.5zm45.2-34h26.5c8.6 0 14.5 2.2 18.3 6.1 3.3 3.2 5 7.5 5 13.1v.2c0 8.6-4.6 14.3-11.5 17.2l13.4 19.6h-18l-11.3-17h-6.8v17H654v-56.2zm25.8 26.9c5.3 0 8.3-2.6 8.3-6.6v-.2c0-4.4-3.2-6.6-8.4-6.6h-10.2V286h10.3zm46.4-26.9h45.1v13.2h-29.7v8.5h26.9v12.3h-26.9v8.9h30.1v13.2h-45.5zm-605.1 34.8c-2.2 4.9-6.8 8.4-12.8 8.4-8.5 0-14.3-7.1-14.3-15.1v-.2c0-8.1 5.7-15 14.2-15 6.4 0 11.3 3.9 13.3 9.3h16.4c-2.6-13.4-14.4-23.3-29.6-23.3C91 258 78 271.1 78 287.2v.2c0 16.1 12.8 29 30.1 29 14.8 0 26.4-9.6 29.4-22.4l-16.4-.1z\" fill=\"currentColor\"></path><path d=\"M752.9 169.7L710 145.1l-7.4-3.2-175.5 1.2v89.1h225.8z\" fill=\"#fff\"></path><path d=\"M674.8 223.9c2.1-7.2 1.3-13.8-2.2-18.7-3.2-4.5-8.6-7.1-15.1-7.4l-123.1-1.6c-.8 0-1.5-.4-1.9-1s-.5-1.4-.3-2.2c.4-1.2 1.6-2.1 2.9-2.2l124.2-1.6c14.7-.7 30.7-12.6 36.3-27.2l7.1-18.5c.3-.8.4-1.6.2-2.4-8-36.2-40.3-63.2-78.9-63.2-35.6 0-65.8 23-76.6 54.9-7-5.2-15.9-8-25.5-7.1-17.1 1.7-30.8 15.4-32.5 32.5-.4 4.4-.1 8.7.9 12.7-27.9.8-50.2 23.6-50.2 51.7 0 2.5.2 5 .5 7.5.2 1.2 1.2 2.1 2.4 2.1h227.2c1.3 0 2.5-.9 2.9-2.2l1.7-6.1z\" fill=\"#f38020\"></path><path d=\"M714 145c-1.1 0-2.3 0-3.4.1-.8 0-1.5.6-1.8 1.4l-4.8 16.7c-2.1 7.2-1.3 13.8 2.2 18.7 3.2 4.5 8.6 7.1 15.1 7.4l26.2 1.6c.8 0 1.5.4 1.9 1s.5 1.5.3 2.2c-.4 1.2-1.6 2.1-2.9 2.2l-27.3 1.6c-14.8.7-30.7 12.6-36.3 27.2l-2 5.1c-.4 1 .3 2 1.4 2h93.8c1.1 0 2.1-.7 2.4-1.8 1.6-5.8 2.5-11.9 2.5-18.2 0-37-30.2-67.2-67.3-67.2\" fill=\"#faae40\"></path></svg></div></a><a class=\"Nav--link\" href=\"/dns/\"><span>DNS</span></a><a class=\"Nav--link\" href=\"/family/\"><span>Families</span></a></nav></header><div class=\"HeroSection\"><div class=\"HeroSection--content\"><div class=\"HeroSection--logo\"><div class=\"OneDotLogoAnimated OneDotLogoAnimated-is-large OneDotLogoAnimated-is-centered\"><div class=\"OneDotLogoAnimated--aspect-ratio-container\" style=\"--aspect-ratio: .293454\"><canvas class=\"OneDotLogoAnimated--canvas\"></canvas></div></div></div><div class=\"HeroSection--title-wrapper\"><h1 class=\"HeroSection--title\" data-js-balance-text>The free app that makes your Internet&nbsp;safer.</h1><h2 class=\"HeroSection--subtitle\" data-js-balance-text>Now available for even more devices.</h2></div><div class=\"HeroSection--actions\"><a class=\"Button Button-is-primary Button-with-icon\" href=\"https://itunes.apple.com/us/app/1-1-1-1-faster-internet/id1423538627\"><svg class=\"Button--icon\" viewBox=\"0 0 170 170\" fill=\"currentColor\"><path d=\"M150.4 130.3a88 88 0 0 1-8.7 15.6c-4.6 6.5-8.4 11-11.3 13.6a21.8 21.8 0 0 1-14.4 6.3c-3.7 0-8.1-1-13.3-3.2-5.2-2-10-3.1-14.3-3.1-4.6 0-9.5 1-14.8 3.1A39.7 39.7 0 0 1 61 166c-5 .2-9.9-2-14.8-6.5a97.1 97.1 0 0 1-29.4-68c0-11 2.4-20.3 7.1-28.2a41.3 41.3 0 0 1 34.7-20.5c4 0 9 1.2 15.4 3.6A49.6 49.6 0 0 0 86.2 50c1.3 0 5.9-1.4 13.6-4.3a44.9 44.9 0 0 1 18.4-3.2 39.2 39.2 0 0 1 30.7 16.1 34.1 34.1 0 0 0-18.1 31c0 10.3 3.8 19 11.2 25.8 3.3 3.1 7 5.6 11.2 7.3l-2.8 7.5zM119 7.3c0 8-3 15.6-8.8 22.6C103 38.2 94.5 43 85.2 42.3l-.2-3c0-7.9 3.4-16.2 9.4-23 3-3.4 6.8-6.3 11.4-8.6 4.7-2.2 9-3.5 13.1-3.7.2 1 .2 2.2.2 3.2z\"></path></svg><span class=\"Button--text\">App Store</span></a><a class=\"Button Button-is-primary Button-with-icon Button-google-play-store\" href=\"https://play.google.com/store/apps/details?id=com.cloudflare.onedotonedotonedotone\"><svg class=\"Button--icon\" viewBox=\"0 0 236 256\" fill=\"currentColor\"><path d=\"M138.52 123.58L16.78 0c1.99.46 4.08 1.26 6.25 2.46l152.16 84.31-36.67 36.8zm42 42.62l-36.84-37.39 38.2-38.33 44.62 24.73c12.67 7.01 12.67 18.5 0 25.51l-45.99 25.48zM7.32.9l126 127.9L7.46 255.1C2.88 252.82 0 247.5 0 239.87V16.05C0 8.48 2.83 3.21 7.33.9zM138.5 134.02l35.35 35.88-150.81 83.56a24.36 24.36 0 0 1-5.94 2.4l121.4-121.84z\"></path></svg><span class=\"Button--text\">Google Play</span></a></div><div class=\"HeroSection--actions HeroSection--download-actions\"><a class=\"Button Button-is-primary Button-with-icon\" href=\"https://1111-releases.cloudflareclient.com/mac/Cloudflare_WARP.zip\"><svg class=\"Button--icon\" viewBox=\"0 0 170 170\" fill=\"currentColor\"><path d=\"M150.4 130.3a88 88 0 0 1-8.7 15.6c-4.6 6.5-8.4 11-11.3 13.6a21.8 21.8 0 0 1-14.4 6.3c-3.7 0-8.1-1-13.3-3.2-5.2-2-10-3.1-14.3-3.1-4.6 0-9.5 1-14.8 3.1A39.7 39.7 0 0 1 61 166c-5 .2-9.9-2-14.8-6.5a97.1 97.1 0 0 1-29.4-68c0-11 2.4-20.3 7.1-28.2a41.3 41.3 0 0 1 34.7-20.5c4 0 9 1.2 15.4 3.6A49.6 49.6 0 0 0 86.2 50c1.3 0 5.9-1.4 13.6-4.3a44.9 44.9 0 0 1 18.4-3.2 39.2 39.2 0 0 1 30.7 16.1 34.1 34.1 0 0 0-18.1 31c0 10.3 3.8 19 11.2 25.8 3.3 3.1 7 5.6 11.2 7.3l-2.8 7.5zM119 7.3c0 8-3 15.6-8.8 22.6C103 38.2 94.5 43 85.2 42.3l-.2-3c0-7.9 3.4-16.2 9.4-23 3-3.4 6.8-6.3 11.4-8.6 4.7-2.2 9-3.5 13.1-3.7.2 1 .2 2.2.2 3.2z\"></path></svg><p class=\"Button--text\">macOS</p></a><a class=\"Button Button-is-primary Button-with-icon\" href=\"https://1111-releases.cloudflareclient.com/windows/Cloudflare_WARP_Release-x64.msi\"><svg class=\"Button--icon\" viewBox=\"0 0 100 100\" fill=\"currentColor\"><path d=\"m0,12.402,35.687-4.8602,0.0156,34.423-35.67,0.20313zm35.67,33.529,0.0277,34.453-35.67-4.9041-0.002-29.78zm4.3261-39.025,47.318-6.906,0,41.527-47.318,0.37565zm47.329,39.349-0.0111,41.34-47.318-6.6784-0.0663-34.739z\"></path></svg><p class=\"Button--text\">Windows</p></a><a class=\"Button Button-is-primary Button-with-icon\" href=\"https://pkg.cloudflareclient.com/\"><svg class=\"Button--icon\" viewBox=\"12 0 60 60\" fill=\"currentColor\"><path d=\"M55.816 50.848a9.915 9.915 0 01-1.52-1.147c-.24-.24 0-1.333 0-1.92a3.857 3.857 0 00-.533-3.12 2.434 2.434 0 00-.427-.32v-1.706a26.234 26.234 0 00-7.2-17.648 11.787 11.787 0 01-3.461-6.32v-.614c0-3.68 0-11.36-4-15.384A9.04 9.04 0 0032.008.003c-5.597 0-9.33 2.666-9.33 16a21.33 21.33 0 01-3.174 9.81c-.72 1.387-1.44 2.827-2.08 4.347a64.844 64.844 0 00-4.08 12.77 4.24 4.24 0 00-2.077 3.2l-.214.88a7.41 7.41 0 01-1.44.374c-1.6.32-4.266.853-4.266 3.28.008.653.08 1.307.213 1.947a8.56 8.56 0 01-.213 4.397 1.307 1.307 0 000 .347c0 3.173 4.986 3.6 8 3.973h1.173c.728.216 1.432.501 2.107.853a15.52 15.52 0 006.053 1.814 3.12 3.12 0 002.293-1.04h.134a15.84 15.84 0 016.904-1.627h8.16c.136.541.4 1.045.773 1.467a3.954 3.954 0 003.067 1.2 8.534 8.534 0 006.664-3.52l.853-.88a9.436 9.436 0 013.173-1.574c1.92-.693 3.894-1.413 3.894-3.36 0-1.946-1.52-2.96-2.774-3.813h-.005zM34.675 8.003c1.546 0 2.666 1.653 2.666 3.946 0 2.294-.88 3.574-2.16 3.867a2.186 2.186 0 00.774-1.813c0-1.094-.587-2-1.28-2-.694 0-1.28.88-1.28 2a2.186 2.186 0 00.773 1.813c-1.28-.32-2.16-1.867-2.16-3.867s1.12-3.946 2.667-3.946zm1.173 10.346a15.519 15.519 0 01-6.507 2.984 9.974 9.974 0 01-4-2.666A8.187 8.187 0 0130.675 16c1.908.288 3.699 1.1 5.173 2.347v.002zM26.675 8c1.546 0 2.666 1.653 2.666 3.947 0 2.293-.88 3.546-2.16 3.866A2.186 2.186 0 0027.955 14c0-1.093-.587-2-1.28-2-.694 0-1.28.88-1.28 2a2.187 2.187 0 00.773 1.813c-1.28-.32-2.16-1.84-2.16-3.866C24.008 9.92 25.128 8 26.675 8zm-3.28 52.552c-.16.507-.4.773-.72.773a13.705 13.705 0 01-4.987-1.6 11.84 11.84 0 00-2.667-1.066h-1.493c-3.97-.32-5.197-.8-5.464-1.174.48-1.74.526-3.571.133-5.333a8.96 8.96 0 01-.186-1.493 5.974 5.974 0 012.213-.694 5.334 5.334 0 002.667-1.04c.524-.624.865-1.38.986-2.186.347-1.414.48-1.414.667-1.414.8.934 1.435 2 1.867 3.147a14.933 14.933 0 004.106 5.973 6.053 6.053 0 012.88 6.107h-.002zm16.986-8c-3.92 3.947-11.76 3.68-15.226 3.147a9.706 9.706 0 00-3.067-3.44 13.334 13.334 0 01-3.227-4.934 10.667 10.667 0 00-2.666-4.186 63.662 63.662 0 013.813-11.944c.56-1.414 1.28-2.667 1.973-4.134a40.593 40.593 0 002.507-5.57 10.293 10.293 0 004.853 2.506 26.819 26.819 0 007.547-3.2 49.727 49.727 0 015.787 23.864 16.16 16.16 0 00-2.294 7.867v.027-.003zm13.488 2.987a11.172 11.172 0 00-4.133 2.213l-.907.933a6.053 6.053 0 01-4.824 2.667 1.466 1.466 0 01-1.093-.32c-.4-.453-.293-1.493-.267-1.92l.027-.453c0-.8.747-8.347.987-9.547.106.16.221.312.346.453a3.563 3.563 0 002.667 1.12h.933a5.331 5.331 0 003.92-1.2c.027.795.339 1.552.88 2.134a11.9 11.9 0 001.947 1.493c1.013.667 1.653 1.12 1.707 1.413a7.704 7.704 0 01-2.187.987v.027h-.003z\"></path></svg><p class=\"Button--text\">Linux</p></a></div><a class=\"CopyLink--small CopyLink-with-margin--small\" href=\"https://developers.cloudflare.com/warpclient/setting-up/macOS/\" target=\"_blank\">macOS Installation Instructions</a><a class=\"CopyLink--small CopyLink-with-margin--small\" href=\"https://developers.cloudflare.com/warpclient/setting-up/windows/\" target=\"_blank\">Windows Installation Instructions</a><a class=\"CopyLink--small\" href=\"https://developers.cloudflare.com/warpclient/setting-up/linux/\" target=\"_blank\">Linux Installation Instructions</a></div><div class=\"HeroSection--scroll-indicator\"><svg viewBox=\"0 0 70 40\"><path fill=\"#e52b90\" d=\"M61.46 1.46a5 5 0 1 1 7.08 7.08l-6.92 6.9L50 12.95 61.46 1.46z\"></path><path fill=\"#1966b9\" d=\"M64.21 12.86L38.54 38.54a5 5 0 0 1-7.08 0l-30-30a5 5 0 0 1 7.08-7.08L35 27.93 54.54 8.39l9.67 4.47z\"></path><path fill=\"#f2973a\" d=\"M58.68 18.4L38.54 38.53a5 5 0 0 1-7.08 0l-30-30a5 5 0 0 1 7.08-7.08L35 27.93 38.93 24l19.75-5.6z\"></path><path fill=\"#1cb29e\" d=\"M26.78 33.85L7.57 14.64l11.34-2.8 7.08 7.08z\"></path><path fill=\"#ee2e4c\" d=\"M10.4 17.47L1.46 8.54a5 5 0 0 1 7.08-7.08l13.64 13.65-11.78 2.36z\"></path></svg></div></div><div class=\"AppOverviewSection\" data-depth-perspective-root><div class=\"AppOverviewSection--column\"><div class=\"AppOverviewSection--content\"><div class=\"SectionCopy\" data-depth=\"3\"><div class=\"SectionCopy--content\"><h2 class=\"SectionCopy--title\" data-js-balance-text>Youâ€™re one tap away from a safer Internet.</h2><div class=\"SectionCopy--description\" data-js-balance-text><p>When the Internet was built, computers werenâ€™t mobile. They sat in offices next to data centers. The Internet has changed but the assumptions made 30 years ago are making your experience slower and less secure.</p><p>1.1.1.1 with WARP replaces the connection between your device and the Internet with a modern, optimized, protocol.</p><p><a class=\"CopyLink\" href=\"https://blog.cloudflare.com/warp-for-desktop\" target=\"_blank\">Learn more</a></p></div></div></div></div><div class=\"AppOverviewSection--device-mockup\"><div class=\"DeviceMockup desktop\" data-depth-perspective-scroll-anchor><div class=\"DeviceMockup--backdrop DeviceMockup--backdrop-blob1\" data-depth=\"2\"><svg class=\"SVG-Blob1\" viewBox=\"0 0 1280 1505\"><defs><lineargradient id=\"SVG-Blob1-a\" x1=\"-10212.03\" x2=\"-10212.03\" y1=\"23858.67\" y2=\"25358.17\" gradientTransform=\"rotate(177.07 -4480.889 12823.21)\" gradientUnits=\"userSpaceOnUse\"><stop offset=\"0\" stop-color=\"rgb(150, 130, 210)\" stop-opacity=\"0\"></stop><stop offset=\"1\" stop-color=\"rgb(150, 130, 210)\" stop-opacity=\".1\"></stop></lineargradient><lineargradient id=\"SVG-Blob1-c\" x1=\"-10686.38\" x2=\"-9606.71\" y1=\"24628.21\" y2=\"24628.21\" gradientTransform=\"rotate(180 -4780.22 12685.205)\" gradientUnits=\"userSpaceOnUse\"><stop offset=\"0\" stop-color=\"#f16137\"></stop><stop offset=\".19\" stop-color=\"#f16637\"></stop><stop offset=\".43\" stop-color=\"#f17637\"></stop><stop offset=\".69\" stop-color=\"#f08f36\"></stop><stop offset=\".96\" stop-color=\"#f0b236\"></stop><stop offset=\".99\" stop-color=\"#f0b636\"></stop></lineargradient><lineargradient id=\"SVG-Blob1-d\" x1=\"-11102.17\" x2=\"-10236.2\" y1=\"24395.25\" y2=\"24395.25\" gradientTransform=\"matrix(-1 .09 -.09 -1 -7931.55 25953.3)\" gradientUnits=\"userSpaceOnUse\"><stop offset=\".02\" stop-color=\"#ed1c24\"></stop><stop offset=\".22\" stop-color=\"#f16137\"></stop><stop offset=\".36\" stop-color=\"#f16837\"></stop><stop offset=\".57\" stop-color=\"#f17b37\"></stop><stop offset=\".82\" stop-color=\"#f09b36\"></stop><stop offset=\".99\" stop-color=\"#f0b636\"></stop></lineargradient><lineargradient id=\"SVG-Blob1-e\" x1=\"-10509.31\" x2=\"-9846.06\" y1=\"24605.82\" y2=\"24605.82\" gradientTransform=\"rotate(180 -4780.22 12685.205)\" gradientUnits=\"userSpaceOnUse\"><stop offset=\".38\" stop-color=\"#f48120\"></stop><stop offset=\"1\" stop-color=\"#fcee21\"></stop></lineargradient><lineargradient id=\"SVG-Blob1-f\" x1=\"-10341.73\" x2=\"-9919.97\" y1=\"24501.32\" y2=\"24501.32\" gradientTransform=\"rotate(180 -4780.22 12685.205)\" gradientUnits=\"userSpaceOnUse\"><stop offset=\".22\" stop-color=\"#f16137\"></stop><stop offset=\".36\" stop-color=\"#f16737\"></stop><stop offset=\".56\" stop-color=\"#f17a37\"></stop><stop offset=\".79\" stop-color=\"#f09736\"></stop><stop offset=\".99\" stop-color=\"#f0b636\"></stop></lineargradient><lineargradient id=\"SVG-Blob1-g\" x1=\"440.99\" x2=\"667.85\" y1=\"880.13\" y2=\"880.13\" gradientUnits=\"userSpaceOnUse\"><stop offset=\"0\" stop-color=\"#f45376\"></stop><stop offset=\".43\" stop-color=\"#f5714d\"></stop><stop offset=\".89\" stop-color=\"#f7931e\"></stop><stop offset=\".99\" stop-color=\"#f6925b\"></stop></lineargradient></defs><path fill=\"url(#SVG-Blob1-a)\" d=\"M1.64 761.13C13.7 526.05 264.62 477 360.93 436.62c139.46-58.5 162-158.07 200.69-290.44 55.73-190.64 718.16-353 718.16 591.61 0 607-460.32 901.21-673 707C235.49 1105.75-23.15 1244.41 1.64 761.13z\"></path><path fill=\"url(#SVG-Blob1-c)\" d=\"M50.2 742.28C74.07 550.48 295.49 568.06 393 539.05 534 497 548 344.94 636.07 262.68 952.57-33 1159.38 382.94 1121.47 641c-58.17 395.88-297.14 824-497.58 637.83C423.87 1093 1.13 1136.59 50.2 742.28z\"></path><path fill=\"url(#SVG-Blob1-d)\" d=\"M147.48 822.77C158.29 647.42 344.87 653 423 620.4c162.54-67.85 283.63-403.73 370.17-345.14 328.29 222.24 219.6 831.26 16.27 858-134.94 17.74-684.19 50-661.96-310.49z\"></path><path fill=\"url(#SVG-Blob1-e)\" d=\"M288.23 792.19c20.89-160.19 177.39-154.6 247.48-154.6 128.14 0 164.34-228.81 265.13-196.16 173.17 56.11 205.53 467 37.48 608.24-93 78.13-593.03 71.92-550.09-257.48z\"></path><path fill=\"url(#SVG-Blob1-f)\" d=\"M361.52 838.66C377 727.05 496.69 708.4 544.34 731 646.25 779.27 851.63 918.73 757 979.89c-69.36 44.82-427.2 88.21-395.48-141.23z\"></path><path fill=\"url(#SVG-Blob1-g)\" d=\"M442 855.47c8.09-58.56 70.92-68.35 95.92-56.5 53.47 25.34 169.56 73.24 116.32 146.46-27.6 37.92-228.92 30.42-212.24-89.96z\"></path></svg></div><div class=\"DeviceMockup--device DeviceMockup--device-monitor\" data-depth=\"1\"><div class=\"DeviceMockup--device-display\"><img src=\"/media/warp-desktop.png\"></div></div></div></div></div></div><div class=\"PrivacySection\" data-depth-perspective-root><div class=\"PrivacySection--column\"><div class=\"PrivacySection--device-mockup\"><div class=\"DeviceMockup desktop\" data-depth-perspective-scroll-anchor><div class=\"DeviceMockup--backdrop DeviceMockup--backdrop-blob2\" data-depth=\"2\"><svg class=\"SVG-Blob2\" viewBox=\"0 0 1592 2422\"><defs><lineargradient id=\"SVG-Blob2-b\" x1=\"-1974.19\" x2=\"-594.15\" y1=\"21495.65\" y2=\"21495.65\" gradientTransform=\"matrix(.84 .03 .03 -.95 1365.83 21773.75)\" gradientUnits=\"userSpaceOnUse\"><stop offset=\"0\" stop-color=\"rgb(150, 130, 210)\" stop-opacity=\"0\"></stop><stop offset=\"1\" stop-color=\"rgb(150, 130, 210)\" stop-opacity=\".1\"></stop></lineargradient><lineargradient id=\"SVG-Blob2-c\" x1=\"-2522.59\" x2=\"-1586.36\" y1=\"21044.32\" y2=\"21044.32\" gradientTransform=\"matrix(1.01 .04 .04 -1 2352.44 22444.75)\" gradientUnits=\"userSpaceOnUse\"><stop offset=\"0\" stop-color=\"#0089a4\"></stop><stop offset=\".06\" stop-color=\"#008faf\"></stop><stop offset=\".41\" stop-color=\"#00adee\"></stop><stop offset=\".49\" stop-color=\"#23b5dc\"></stop><stop offset=\".59\" stop-color=\"#46bdc9\"></stop><stop offset=\".69\" stop-color=\"#61c3bb\"></stop><stop offset=\".79\" stop-color=\"#74c7b0\"></stop><stop offset=\".89\" stop-color=\"#80caaa\"></stop><stop offset=\"1\" stop-color=\"#84cba8\"></stop></lineargradient><lineargradient id=\"SVG-Blob2-d\" x1=\"-2397.9\" x2=\"-1662.73\" y1=\"21015.86\" y2=\"21015.86\" gradientTransform=\"matrix(1 .04 .04 -1 2334.68 22444.12)\" gradientUnits=\"userSpaceOnUse\"><stop offset=\"0\" stop-color=\"#2251a9\"></stop><stop offset=\".17\" stop-color=\"#1d5db2\"></stop><stop offset=\".48\" stop-color=\"#117ecb\"></stop><stop offset=\".85\" stop-color=\"#00adee\"></stop></lineargradient><lineargradient id=\"SVG-Blob2-e\" x1=\"-1860.67\" x2=\"-1276.29\" y1=\"20741.07\" y2=\"20741.07\" gradientTransform=\"matrix(.83 .03 .04 -1.04 1527.84 23023.93)\" gradientUnits=\"userSpaceOnUse\"><stop offset=\"0\" stop-color=\"#114c97\"></stop><stop offset=\".25\" stop-color=\"#0a76bd\"></stop><stop offset=\".53\" stop-color=\"#039ee0\"></stop><stop offset=\".68\" stop-color=\"#00adee\"></stop><stop offset=\"1\" stop-color=\"#5ac593\"></stop></lineargradient><lineargradient id=\"SVG-Blob2-f\" x1=\"-2208.26\" x2=\"-1922.01\" y1=\"20998.37\" y2=\"20998.37\" gradientTransform=\"matrix(1 .04 .04 -1 2334.68 22444.12)\" gradientUnits=\"userSpaceOnUse\"><stop offset=\"0\" stop-color=\"#2e3191\"></stop><stop offset=\".08\" stop-color=\"#2a3b98\"></stop><stop offset=\".71\" stop-color=\"#0f86d1\"></stop><stop offset=\"1\" stop-color=\"#04a3e7\"></stop></lineargradient><lineargradient id=\"SVG-Blob2-g\" x1=\"0\" x2=\"5\" y1=\"0\" y2=\"5000\" gradientUnits=\"userSpaceOnUse\"><stop offset=\"0\" stop-color=\"#45bbb7\"></stop><stop offset=\"1\" stop-color=\"#1da2e2\"></stop></lineargradient><lineargradient id=\"SVG-Blob2-i\" x1=\"15104.79\" x2=\"15305.41\" y1=\"17113.92\" y2=\"17113.92\" gradientTransform=\"matrix(-.35 -.4 -.55 .48 14834.63 -213.25)\" gradientUnits=\"userSpaceOnUse\"><stop offset=\"0\" stop-color=\"#1b1464\"></stop><stop offset=\".07\" stop-color=\"#1d1869\"></stop><stop offset=\".4\" stop-color=\"#27267f\"></stop><stop offset=\".71\" stop-color=\"#2c2e8d\"></stop><stop offset=\"1\" stop-color=\"#2e3191\"></stop></lineargradient><lineargradient id=\"SVG-Blob2-j\" x1=\"-3686.72\" x2=\"-3203.11\" y1=\"22154.89\" y2=\"22154.89\" gradientTransform=\"matrix(.19 .52 .47 -.17 -9211.04 5917.76)\" gradientUnits=\"userSpaceOnUse\"><stop offset=\"0\" stop-color=\"#00adee\"></stop><stop offset=\".14\" stop-color=\"#23b5dc\"></stop><stop offset=\".31\" stop-color=\"#46bdc9\"></stop><stop offset=\".48\" stop-color=\"#61c3bb\"></stop><stop offset=\".65\" stop-color=\"#74c7b0\"></stop><stop offset=\".82\" stop-color=\"#80caaa\"></stop><stop offset=\"1\" stop-color=\"#84cba8\"></stop></lineargradient><lineargradient id=\"SVG-Blob2-k\" x1=\"544.52\" x2=\"608.52\" y1=\"508.53\" y2=\"508.53\" gradientUnits=\"userSpaceOnUse\"><stop offset=\"0\" stop-color=\"#31b8d4\"></stop><stop offset=\".13\" stop-color=\"#3fbbcc\"></stop><stop offset=\".5\" stop-color=\"#65c4b9\"></stop><stop offset=\".81\" stop-color=\"#7cc9ac\"></stop><stop offset=\"1\" stop-color=\"#84cba8\"></stop></lineargradient></defs><path fill=\"url(#SVG-Blob2-b)\" d=\"M1470.18 1749.64c188-88.6 183.55-469.4-203.47-753.92-325.91-239.59-613-813.16-793.12-53.92-86.73 365.52 88.51 1008.94 316.85 1093 211.44 77.88 274.87-94.34 679.74-285.16z\"></path><path fill=\"url(#SVG-Blob2-c)\" d=\"M1447.37 1574.18c126.65-168.11 39-370.64-184.84-470.4-128-57-990.73-964.71-572.1 592.07 56.57 210.32 429.24 313.3 756.94-121.67z\"></path><path fill=\"url(#SVG-Blob2-d)\" d=\"M1422 1387.77c14.93-179-167.09-171.76-232.24-190.76-140.86-41.08-148.54-274.51-267.42-266.71-260.72 17.08-245.53 372.18-215.95 535.44 46 254 156.18 288.71 193.3 311.33 136.79 83.4 493.46-43.69 522.31-389.3z\"></path><path fill=\"url(#SVG-Blob2-e)\" d=\"M1243.93 1353.94c-5.52-137.17-116-124.63-166.25-164.16C732 917.9 706.36 1512.65 824.07 1633c101.93 104.25 433.27 54.65 419.86-279.06z\"></path><path fill=\"url(#SVG-Blob2-f)\" d=\"M1164.51 1338.37c7.62-115.19-110.49-141.4-149.44-117.82-374.21 226.61 119.65 568.23 149.44 117.82z\"></path><path fill=\"url(#SVG-Blob2-g)\" d=\"M1133.05 1362.25c-7.23-73.42-77.54-89-106-75.6-60.91 28.68-104.44 130.63-82.6 159.62 23.72 31.52 203.47 66.9 188.6-84.02z\"></path><path fill=\"url(#SVG-Blob2-i)\" d=\"M73.16 1938.32c-18.83 31.4-7.7 68.41 15.88 85.46 30.26 21.87 53.9 3.36 60.23-47.08 3.19-25.44-37.41-102.92-76.11-38.38z\"></path><path fill=\"url(#SVG-Blob2-j)\" d=\"M650.16 396.68c58.44-18 30.48-80.72 27.27-106-6.95-54.6 65.44-87.56 46.21-128.13-42.17-89-122.81-37.61-170-6.09-73.46 49-68.84 92.08-70.72 108-6.92 58.69 54.38 166.96 167.24 132.22z\"></path><circle cx=\"576.52\" cy=\"508.53\" r=\"32\" fill=\"url(#SVG-Blob2-k)\"></circle></svg></div><div class=\"DeviceMockup--device DeviceMockup--device-monitor\" data-depth=\"1\"><div class=\"DeviceMockup--device-display\"><img src=\"/media/warp-desktop-3.png\"></div></div></div></div><div class=\"PrivacySection--content\"><div class=\"SectionCopy SectionCopy-is-right\" data-depth=\"3\"><div class=\"SectionCopy--content\"><h2 class=\"SectionCopy--title\" data-js-balance-text>Fast. Free. Private.</h2><div class=\"SectionCopy--description\" data-js-balance-text><p>Your Internet service provider can see every site and app you useâ€”even if theyâ€™re encrypted. Some providers even sell this data, or use it to target you with ads.</p><p>1.1.1.1 with WARP prevents anyone from snooping on you by encrypting more of the traffic leaving your device.</p><p>We believe privacy is a right. We won't sell your data, ever.</p><p><a class=\"CopyLink\" href=\"https://twitter.com/intent/tweet?text=ISPs%20spy%20on%20your%20Internet%20traffic%20and%20sell%20the%20data.%20I%27m%20using%201.1.1.1%20with%20WARP%2C%20a%20free%20app%20which%20makes%20the%20Internet%20on%20my%20phone%20faster%20and%20more%20private.%20You%20should%20get%20the%20app%20too%3A%20https%3A//one.one.one.one\" target=\"_blank\" rel=\"noreferrer\">Share with Twitter</a></p></div></div></div></div></div></div><div class=\"WarpSection\" data-depth-perspective-root><div class=\"WarpSection--column\"><div class=\"WarpSection--content\"><div class=\"SectionCopy\" data-depth=\"3\"><div class=\"SectionCopy--content\"><h2 class=\"SectionCopy--title\" data-js-balance-text>Use the Internet fast-lane</h2><div class=\"SectionCopy--description\" data-js-balance-text><p>In addition to the full WARP service, WARP+ subscribers get access to a larger network. More cities to connect to means youâ€™re likely to be closer to a Cloudflare data center â€“ which can reduce the latency between your device and Cloudflare and improve your browsing speed.</p></div></div></div></div><div class=\"WarpSection--device-mockup\"><div class=\"DeviceMockup desktop\" data-depth-perspective-scroll-anchor><div class=\"DeviceMockup--backdrop DeviceMockup--backdrop-blob3\" data-depth=\"2\"><svg class=\"SVG-Blob3\" viewBox=\"0 0 1185 2396\"><defs><lineargradient id=\"SVG-Blob3-d\" x1=\"-10240.77\" x2=\"-10240.77\" y1=\"8357.93\" y2=\"6706.45\" gradientTransform=\"matrix(-1 0 0 1 -9648.66 -6254.45)\" gradientUnits=\"userSpaceOnUse\"><stop offset=\"0\" stop-color=\"rgb(150, 130, 210)\" stop-opacity=\"0\"></stop><stop offset=\"1\" stop-color=\"rgb(150, 130, 210)\" stop-opacity=\".1\"></stop></lineargradient><lineargradient id=\"SVG-Blob3-a\" x1=\"-10659.13\" x2=\"-9829.61\" y1=\"7668.16\" y2=\"7668.16\" gradientTransform=\"matrix(-1 0 0 1 -9648.66 -6254.45)\" gradientUnits=\"userSpaceOnUse\"><stop offset=\"0\" stop-color=\"#f16137\"></stop><stop offset=\".19\" stop-color=\"#f16637\"></stop><stop offset=\".43\" stop-color=\"#f17637\"></stop><stop offset=\".69\" stop-color=\"#f08f36\"></stop><stop offset=\".96\" stop-color=\"#f0b236\"></stop><stop offset=\".99\" stop-color=\"#f0b636\"></stop></lineargradient><lineargradient id=\"SVG-Blob3-e\" x1=\"-11142.29\" x2=\"-11142.29\" y1=\"8796.32\" y2=\"7834.58\" gradientTransform=\"matrix(-.98 .2 .2 .98 -12009.92 -4460.58)\" gradientUnits=\"userSpaceOnUse\"><stop offset=\".33\" stop-color=\"#ed1d54\"></stop><stop offset=\".69\" stop-color=\"#ef4444\"></stop><stop offset=\"1\" stop-color=\"#f16137\"></stop></lineargradient><lineargradient id=\"SVG-Blob3-f\" x1=\"283.17\" x2=\"843.11\" y1=\"1377.3\" y2=\"1377.3\" gradientUnits=\"userSpaceOnUse\"><stop offset=\".21\" stop-color=\"#f16137\"></stop><stop offset=\".31\" stop-color=\"#f15b39\"></stop><stop offset=\".43\" stop-color=\"#f04b41\"></stop><stop offset=\".57\" stop-color=\"#ee2f4c\"></stop><stop offset=\".64\" stop-color=\"#ed1d54\"></stop><stop offset=\".92\" stop-color=\"#ed1c24\"></stop></lineargradient><lineargradient id=\"SVG-Blob3-g\" x1=\"-6161.44\" x2=\"-5895.84\" y1=\"7242.74\" y2=\"7242.74\" gradientTransform=\"matrix(-.72 -.69 -.69 .72 1235.37 -8048.85)\" gradientUnits=\"userSpaceOnUse\"><stop offset=\"0\" stop-color=\"#f16137\"></stop><stop offset=\".99\" stop-color=\"#f0b636\"></stop></lineargradient><lineargradient id=\"SVG-Blob3-h\" x1=\"-4240.98\" x2=\"-4127.53\" y1=\"8166.74\" y2=\"8166.74\" gradientTransform=\"matrix(-.43 -.9 -.9 .43 6146.33 -5946.72)\" gradientUnits=\"userSpaceOnUse\"><stop offset=\".01\" stop-color=\"#f0b636\"></stop><stop offset=\".19\" stop-color=\"#f0b036\"></stop><stop offset=\".45\" stop-color=\"#f09e36\"></stop><stop offset=\".74\" stop-color=\"#f18037\"></stop><stop offset=\"1\" stop-color=\"#f16137\"></stop></lineargradient><lineargradient id=\"SVG-Blob3-i\" x1=\"-17119.23\" x2=\"-16960.03\" y1=\"19708.79\" y2=\"19708.79\" gradientTransform=\"rotate(138.6 -4620.668 13279.045)\" gradientUnits=\"userSpaceOnUse\"><stop offset=\"0\" stop-color=\"rgb(150, 130, 210)\" stop-opacity=\"0\"></stop><stop offset=\"1\" stop-color=\"rgb(150, 130, 210)\" stop-opacity=\".1\"></stop></lineargradient><lineargradient id=\"SVG-Blob3-j\" x1=\"300.71\" x2=\"262.83\" y1=\"5103.48\" y2=\"4804.23\" gradientTransform=\"matrix(1.11 -.5 .41 .91 -1489.76 -4225.98)\" xlink:href=\"#a\"></lineargradient><lineargradient id=\"SVG-Blob3-b\" x1=\"1971.71\" x2=\"1956.5\" y1=\"4603.92\" y2=\"4483.8\" gradientTransform=\"matrix(1.21 .13 -.15 1.36 -843.44 -5995.21)\" gradientUnits=\"userSpaceOnUse\"><stop offset=\".08\" stop-color=\"#ec1557\"></stop><stop offset=\"1\" stop-color=\"#f16137\"></stop></lineargradient><lineargradient id=\"SVG-Blob3-k\" x1=\"2225.33\" x2=\"2210.13\" y1=\"5856.46\" y2=\"5736.33\" gradientTransform=\"matrix(.93 .79 -.89 1.05 3867.91 -5569.87)\" xlink:href=\"#b\"></lineargradient></defs><path fill=\"url(#SVG-Blob3-d)\" d=\"M4.32 1607.3C25 1838.17 287.31 1924.43 354.64 1977c334.41 261.34 644 136.35 817-551.65C1283 982.49 618.34 177.71 546.49 545.68 455.57 1011.32-51.81 981.42 4.32 1607.3z\"></path><path fill=\"url(#SVG-Blob3-a)\" d=\"M184 1516.21c14.12 162.63 139.37 203.35 238.89 260.45 227.78 130.73 139.78 292.73 233.11 290.58 270.15-6.22 333-488.58 348.68-594.85 58.95-400.91-350-843-409-676-111.21 314.74-450.01 278.94-411.68 719.82z\"></path><path fill=\"url(#SVG-Blob3-e)\" d=\"M213.54 1478.58c32.91 160.35 138.19 161.94 194 180.52 169.11 56.29 170.72 303.35 312.12 244.76 96.6-40 191.56-473.24 187-610.47-10.29-309.06-220.21-397.72-278-342-114.55 110.45-477.13 225.09-415.12 527.19z\"></path><path fill=\"url(#SVG-Blob3-f)\" d=\"M283.74 1424.78C295.5 1571.86 514.57 1559.3 541.06 1656c22.39 81.77 292.61 3.39 301.61-247.61 9.56-266.55-137.34-381.77-198-328-88 78-375.95 156.66-360.93 344.39z\"></path><path fill=\"url(#SVG-Blob3-g)\" d=\"M405.79 1314.16c-93 101.69-47 172.1-1.5 174.67 97.3 5.5 393.44-142.75 375.38-200.44-29.59-94.49-182.67-183.28-373.88 25.77z\"></path><path fill=\"url(#SVG-Blob3-h)\" d=\"M488.61 1300.1c-66.6 34.32-58.54 76.57-36.76 85.45 46.61 19 155.27-9.19 222.82-50.16 45.03-27.31-49.15-105.84-186.06-35.29z\"></path><path class=\"DeviceMockup--backdrop-blob3-desktop-only-blog\" fill=\"url(#SVG-Blob3-i)\" d=\"M400.47 291.71c-15.64-25.46-3.56-66.95 16.93-91.12s70.86-47.67 83.87-34.78c12.18 12.07-1.76 92.57-33 129-20.52 23.9-57.67 13.39-67.8-3.1z\" opacity=\".48\"></path><path fill=\"url(#SVG-Blob3-j)\" d=\"M980.16 94.9c33.76 76.75-1 167.82-77.7 203.4s-285.72-177.85-122.25-278c72.03-44.08 166.19-2.16 199.95 74.6z\"></path><path fill=\"url(#SVG-Blob3-b)\" d=\"M924.6 469.73c-4.8 45.87-35.74 80.07-69.12 76.39S796.58 383.78 872.85 380c33.61-1.64 56.54 43.87 51.75 89.73z\"></path><path fill=\"url(#SVG-Blob3-k)\" d=\"M810.38 2278.56c-29.79 35.21-74.61 46.05-100.12 24.21s42.74-167.33 107.87-127.49c28.71 17.55 22.04 68.07-7.75 103.28z\"></path></svg></div><div class=\"DeviceMockup--device DeviceMockup--device-monitor\" data-depth=\"1\"><div class=\"DeviceMockup--device-display\"><img src=\"/media/warp-plus.png\"></div></div></div></div></div></div><div class=\"PerformanceSection\" data-depth-perspective-root><div class=\"PerformanceSection--column\"><div class=\"PerformanceSection--content\"><div class=\"SectionCopy SectionCopy-is-centered\" data-depth-perspective-scroll-anchor data-depth=\"3\"><div class=\"SectionCopy--content\"><h2 class=\"SectionCopy--title\" data-js-balance-text>Built on a massive network.</h2><div class=\"SectionCopy--description\" data-js-balance-text><p>WARP is built on the same network that has made 1.1.1.1 the <a class='CopyLink' href='https://www.dnsperf.com/#!dns-resolvers' target='_blank' rel='noreferrer'>fastest DNS resolver</a> on Earth.</p><p>Your connection to WARP is fast and reliable wherever you live and wherever you go.</p></div></div></div></div><div class=\"PerformanceSection--figure\" data-depth=\"3\"><div class=\"PerformanceSection--figure-item PerformanceSection--figure-item-one-dot\" style=\"--bar-width: 0.30\"><div class=\"PerformanceSection--figure-item-bar\"></div><div class=\"PerformanceSection--figure-item-time\">13.66ms</div><div class=\"PerformanceSection--figure-item-label\">1.1.1.1</div></div><div class=\"PerformanceSection--figure-item\" style=\"--bar-width: 0.38\"><div class=\"PerformanceSection--figure-item-bar\"></div><div class=\"PerformanceSection--figure-item-time\">22.78ms</div><div class=\"PerformanceSection--figure-item-label\">Google</div></div><div class=\"PerformanceSection--figure-item\" style=\"--bar-width: 0.40\"><div class=\"PerformanceSection--figure-item-bar\"></div><div class=\"PerformanceSection--figure-item-time\">23.19ms</div><div class=\"PerformanceSection--figure-item-label\">OpenDNS</div></div><div class=\"PerformanceSection--figure-item\" style=\"--bar-width: 1.00\"><div class=\"PerformanceSection--figure-item-bar\"></div><div class=\"PerformanceSection--figure-item-time\">64.43ms</div><div class=\"PerformanceSection--figure-item-label\">Verisign</div></div></div><p style=\"font-size:12px; font-style:italic; margin-top:30px\">October, 2020</p></div></div><div class=\"PrivacySection\" data-depth-perspective-root><div class=\"PrivacySection--column PrivacySection--column-less-pad\"><div class=\"PrivacySection--device-mockup\"><div class=\"DeviceMockup desktop\" data-depth-perspective-scroll-anchor><div class=\"DeviceMockup--device DeviceMockup--device-monitor\" data-depth=\"1\"><div class=\"DeviceMockup--device-display\"><img src=\"/media/warp-desktop-2.png\"></div></div></div></div><div class=\"PrivacySection--content\"><div class=\"SectionCopy\" data-depth=\"3\"><div class=\"SectionCopy--content\"><h2 class=\"SectionCopy--title\" data-js-balance-text>Now available for macOS and Windows</h2><div class=\"SectionCopy--description\" data-js-balance-text><div><p>Millions of people secure their phone Internet connections with the WARP app today.</p><p>Weâ€™ve extended the same protection to macOS and Windows.</p></div></div></div></div></div></div></div><div class=\"DevicesSection\" data-depth-perspective-root><div class=\"DevicesSection--column\"><div class=\"DevicesSection--content\"><div class=\"SectionCopy\" data-depth=\"3\"><div class=\"SectionCopy--content\"><h2 class=\"SectionCopy--title\" data-js-balance-text>New: use WARP with your team</h2><div class=\"SectionCopy--description\" data-js-balance-text><p>Bring the power of WARP to your business by integrating WARP with Gateway. Enroll user devices in your organization and protect your remote workforce from threats online.</p><a class=\"CopyLink\" href=\"https://blog.cloudflare.com/warp-for-desktop\" target=\"_blank\">Learn more</a></div></div></div></div><div class=\"DevicesSection--device-mockup\"><div class=\"DeviceMockup desktop\" data-depth-perspective-scroll-anchor><div class=\"DeviceMockup--device DeviceMockup--device-monitor\" data-depth=\"1\"><div class=\"DeviceMockup--device-display\"><img src=\"/media/lighthouse.svg\"></div></div></div></div></div></div><div class=\"FooterSection\" data-depth-perspective-root><div class=\"FooterSection--column\" style=\"padding-bottom:2em;\"><div class=\"FooterSection--content\" data-depth-perspective-scroll-anchor data-depth=\"3\"><div class=\"FooterSection--icon\"><svg id=\"SVG-IOS-app-icon\" viewBox=\"0 0 465.95 466.55\"><defs><clipPath id=\"SVG-IOS-app-icon-clip-path\"><rect width=\"465.41\" height=\"465.41\" x=\".85\" y=\".65\" rx=\"104.5\" fill=\"none\"></rect></clipPath><linearGradient id=\"SVG-IOS-app-icon-linear-gradient\" x1=\"-1946.56\" x2=\"-1218.16\" y1=\"-5061.71\" y2=\"-5061.71\" gradientTransform=\"rotate(-90 1978.4 -3270.79)\" gradientUnits=\"userSpaceOnUse\"><stop offset=\"0\" stop-color=\"#ef6876\"></stop><stop offset=\".28\" stop-color=\"#ef6974\"></stop><stop offset=\".4\" stop-color=\"#f06c6d\"></stop><stop offset=\".48\" stop-color=\"#f17261\"></stop><stop offset=\".56\" stop-color=\"#f37b4f\"></stop><stop offset=\".62\" stop-color=\"#f58638\"></stop><stop offset=\".67\" stop-color=\"#f7931e\"></stop><stop offset=\".99\" stop-color=\"#f6925b\"></stop></linearGradient><linearGradient id=\"SVG-IOS-app-icon-linear-gradient-2\" x1=\"42.16\" x2=\"486.65\" y1=\"773.41\" y2=\"3.53\" gradientTransform=\"rotate(180 274.4 339.58)\" gradientUnits=\"userSpaceOnUse\"><stop offset=\"0\" stop-color=\"#fcee21\"></stop><stop offset=\".88\" stop-color=\"#f48120\"></stop></linearGradient><linearGradient id=\"SVG-IOS-app-icon-linear-gradient-3\" x1=\"226.49\" x2=\"226.49\" y1=\"688.23\" y2=\"-68.38\" gradientTransform=\"rotate(180 274.4 339.58)\" gradientUnits=\"userSpaceOnUse\"><stop offset=\".45\" stop-color=\"#f0b636\"></stop><stop offset=\".68\" stop-color=\"#f16137\"></stop><stop offset=\".99\" stop-color=\"#f0b636\"></stop></linearGradient><linearGradient id=\"SVG-IOS-app-icon-linear-gradient-4\" x1=\"101.89\" x2=\"635.43\" y1=\"523.23\" y2=\"523.23\" gradientTransform=\"rotate(180 274.4 339.58)\" gradientUnits=\"userSpaceOnUse\"><stop offset=\"0\" stop-color=\"#29b473\"></stop><stop offset=\".64\" stop-color=\"#00adee\"></stop><stop offset=\".67\" stop-color=\"#1ca5e5\"></stop><stop offset=\".73\" stop-color=\"#4c97d5\"></stop><stop offset=\".78\" stop-color=\"#738cc8\"></stop><stop offset=\".84\" stop-color=\"#9283be\"></stop><stop offset=\".9\" stop-color=\"#a87db7\"></stop><stop offset=\".95\" stop-color=\"#b679b2\"></stop><stop offset=\"1\" stop-color=\"#ba78b1\"></stop></linearGradient><linearGradient id=\"SVG-IOS-app-icon-linear-gradient-5\" x1=\"204.19\" x2=\"487.03\" y1=\"783.39\" y2=\"500.55\" gradientTransform=\"rotate(180 274.4 339.58)\" gradientUnits=\"userSpaceOnUse\"><stop offset=\".23\" stop-color=\"#84cba8\"></stop><stop offset=\".59\" stop-color=\"#00adee\"></stop><stop offset=\".94\" stop-color=\"#008faf\"></stop><stop offset=\"1\" stop-color=\"#0089a4\"></stop></linearGradient><linearGradient id=\"SVG-IOS-app-icon-linear-gradient-6\" x1=\"138.4\" x2=\"548.4\" y1=\"663.76\" y2=\"663.76\" gradientTransform=\"rotate(180 274.4 339.58)\" gradientUnits=\"userSpaceOnUse\"><stop offset=\"0\" stop-color=\"#00adee\"></stop><stop offset=\".06\" stop-color=\"#059fe3\"></stop><stop offset=\".26\" stop-color=\"#1477c6\"></stop><stop offset=\".46\" stop-color=\"#1f59af\"></stop><stop offset=\".65\" stop-color=\"#27439e\"></stop><stop offset=\".83\" stop-color=\"#2c3594\"></stop><stop offset=\"1\" stop-color=\"#2e3191\"></stop></linearGradient><linearGradient id=\"SVG-IOS-app-icon-linear-gradient-7\" x1=\"239.07\" x2=\"476.4\" y1=\"726.49\" y2=\"726.49\" gradientTransform=\"rotate(180 274.4 339.58)\" gradientUnits=\"userSpaceOnUse\"><stop offset=\"0\" stop-color=\"#eb008b\"></stop><stop offset=\"1\" stop-color=\"#b778b1\"></stop></linearGradient></defs><g clip-path=\"url(#SVG-IOS-app-icon-clip-path)\"><path fill=\"url(#SVG-IOS-app-icon-linear-gradient)\" d=\"M187.75-74.23C490-74.23 735 88.83 735 290S490 654.2 187.8 654.2s-561.38-.31-547.19-364.2C-347.6-14-114.46-74.23 187.75-74.23z\"></path><path fill=\"#ffdc00\" d=\"M569.53 119.37C566.39 88.24 557 43 527.7-3.16c-86.53-136.55-273.16-165.93-280.06-153.51C242.85-148 325.5-120.54 410.33-30a561 561 0 0 1 106.91 164.7\"></path><path fill=\"#f6d10c\" d=\"M592.77 119.37C589.63 88.24 580.2 43 550.93-3.16c-86.53-136.55-273.15-165.93-280-153.51C266.08-148 348.74-120.54 433.56-30a560.76 560.76 0 0 1 106.91 164.7\"></path><path fill=\"url(#SVG-IOS-app-icon-linear-gradient-2)\" d=\"M262.4 618C698.17 434.44 636.4 37.3 607.12-8.89c-86.53-136.56-379.31-160.2-386.21-147.78-4.79 8.63 40.65 12 142.49 82.84 115.29 80.21 275 393-242 562C71.59 504.45-18.6 524-70.6 599\"></path><path fill=\"url(#SVG-IOS-app-icon-linear-gradient-3)\" d=\"M594.11-9.06c33.51 156.24 2.95 214.22 1.44 255.59C592.4 333 483 518.7 313.4 489c-177-31-367.14 186.54-338.85 229.21 13.89 20.95 245.2 85.87 406.05-87.83 15.5-16.74 109.87-48.29 146.34-83.22C653.61 425.86 621.29 410.75 654.77 369c41.05-51.25 2.31-166.28-18-263.66\"></path><path fill=\"url(#SVG-IOS-app-icon-linear-gradient-4)\" d=\"M-86.62 69.47C-86.62-42.9 76.36-51 179.2-51s286.19-44.38 266.2 66.2c-45 249-194.65 409-266.2 340.74C69.09 250.88-86.62 181.84-86.62 69.47z\"></path><path fill=\"url(#SVG-IOS-app-icon-linear-gradient-5)\" d=\"M-35.6-2.83c0-112.37 169.31-87.41 252.93-87.41S431.4-85.2 431.4 27.17s-125.38 249-209 249-258-166.63-258-279z\"></path><path fill=\"url(#SVG-IOS-app-icon-linear-gradient-6)\" d=\"M-35.6-2.83c0-112.37,169.31-87.41,252.93-87.41S431.4-85.2,431.4,27.17s-125.38,249-209,249S-35.6,109.54-35.6-2.83Z\"></path><path fill=\"url(#SVG-IOS-app-icon-linear-gradient-7)\" d=\"M72.4-37.83c0-52.81 50-132.17 97-132.17s133.24 66.73 140 119.17c6.34 49.13-78 127-149.26 126.19C113.24 74.82 72.4 15 72.4-37.83z\"></path></g><path d=\"M-223.93-456.05h925.85V855h-925.85z\" fill=\"none\" transform=\"rotate(180 239 199.48)\"></path><path d=\"M130.4 190.5V152q27.66-1.2 38.73-3.57 17.64-3.78 28.7-15.09 7.57-7.74 11.48-20.65 2.25-7.74 2.25-11.51h48.91V389h-60V190.5zM285.54 167.13v-18.7l43.72-58.68h18.27v60.55h13.37v16.83h-13.37v23.3h-19.42v-23.3zm42.14-51.78l-26 35h26.46v-35z\" fill=\"#fff\"></path></svg></div><div class=\"FooterSection--content-section-copy-wrapper\"><div class=\"SectionCopy SectionCopy-is-centered\"><div class=\"SectionCopy--content\"><h2 class=\"SectionCopy--title\" data-js-balance-text>Brought to you by Cloudflare.</h2><div class=\"SectionCopy--description\" data-js-balance-text><p><a class='CopyLink' href='https://cloudflare.com' target='_blank'>Cloudflare</a> provides security and performance to over 25 million Internet propertiesâ€”and now this technology is available to the rest of us.</p></div></div></div></div><div class=\"FooterSection--actions\"><a class=\"Button Button-is-primary Button-with-icon\" href=\"https://itunes.apple.com/us/app/1-1-1-1-faster-internet/id1423538627\"><svg class=\"Button--icon\" viewBox=\"0 0 170 170\" fill=\"currentColor\"><path d=\"M150.4 130.3a88 88 0 0 1-8.7 15.6c-4.6 6.5-8.4 11-11.3 13.6a21.8 21.8 0 0 1-14.4 6.3c-3.7 0-8.1-1-13.3-3.2-5.2-2-10-3.1-14.3-3.1-4.6 0-9.5 1-14.8 3.1A39.7 39.7 0 0 1 61 166c-5 .2-9.9-2-14.8-6.5a97.1 97.1 0 0 1-29.4-68c0-11 2.4-20.3 7.1-28.2a41.3 41.3 0 0 1 34.7-20.5c4 0 9 1.2 15.4 3.6A49.6 49.6 0 0 0 86.2 50c1.3 0 5.9-1.4 13.6-4.3a44.9 44.9 0 0 1 18.4-3.2 39.2 39.2 0 0 1 30.7 16.1 34.1 34.1 0 0 0-18.1 31c0 10.3 3.8 19 11.2 25.8 3.3 3.1 7 5.6 11.2 7.3l-2.8 7.5zM119 7.3c0 8-3 15.6-8.8 22.6C103 38.2 94.5 43 85.2 42.3l-.2-3c0-7.9 3.4-16.2 9.4-23 3-3.4 6.8-6.3 11.4-8.6 4.7-2.2 9-3.5 13.1-3.7.2 1 .2 2.2.2 3.2z\"></path></svg><span class=\"Button--text\">App Store</span></a><a class=\"Button Button-is-primary Button-with-icon Button-google-play-store\" href=\"https://play.google.com/store/apps/details?id=com.cloudflare.onedotonedotonedotone\"><svg class=\"Button--icon\" viewBox=\"0 0 236 256\" fill=\"currentColor\"><path d=\"M138.52 123.58L16.78 0c1.99.46 4.08 1.26 6.25 2.46l152.16 84.31-36.67 36.8zm42 42.62l-36.84-37.39 38.2-38.33 44.62 24.73c12.67 7.01 12.67 18.5 0 25.51l-45.99 25.48zM7.32.9l126 127.9L7.46 255.1C2.88 252.82 0 247.5 0 239.87V16.05C0 8.48 2.83 3.21 7.33.9zM138.5 134.02l35.35 35.88-150.81 83.56a24.36 24.36 0 0 1-5.94 2.4l121.4-121.84z\"></path></svg><span class=\"Button--text\">Google Play</span></a></div><div class=\"FooterSection--actions\"><a class=\"Button Button-is-primary Button-with-icon\" href=\"https://1111-releases.cloudflareclient.com/mac/Cloudflare_WARP.zip\"><svg class=\"Button--icon\" viewBox=\"0 0 170 170\" fill=\"currentColor\"><path d=\"M150.4 130.3a88 88 0 0 1-8.7 15.6c-4.6 6.5-8.4 11-11.3 13.6a21.8 21.8 0 0 1-14.4 6.3c-3.7 0-8.1-1-13.3-3.2-5.2-2-10-3.1-14.3-3.1-4.6 0-9.5 1-14.8 3.1A39.7 39.7 0 0 1 61 166c-5 .2-9.9-2-14.8-6.5a97.1 97.1 0 0 1-29.4-68c0-11 2.4-20.3 7.1-28.2a41.3 41.3 0 0 1 34.7-20.5c4 0 9 1.2 15.4 3.6A49.6 49.6 0 0 0 86.2 50c1.3 0 5.9-1.4 13.6-4.3a44.9 44.9 0 0 1 18.4-3.2 39.2 39.2 0 0 1 30.7 16.1 34.1 34.1 0 0 0-18.1 31c0 10.3 3.8 19 11.2 25.8 3.3 3.1 7 5.6 11.2 7.3l-2.8 7.5zM119 7.3c0 8-3 15.6-8.8 22.6C103 38.2 94.5 43 85.2 42.3l-.2-3c0-7.9 3.4-16.2 9.4-23 3-3.4 6.8-6.3 11.4-8.6 4.7-2.2 9-3.5 13.1-3.7.2 1 .2 2.2.2 3.2z\"></path></svg><span class=\"Button--text\">macOS</span></a><a class=\"Button Button-is-primary Button-with-icon\" href=\"https://1111-releases.cloudflareclient.com/windows/Cloudflare_WARP_Release-x64.msi\"><svg class=\"Button--icon\" viewBox=\"0 0 100 100\" fill=\"currentColor\"><path d=\"m0,12.402,35.687-4.8602,0.0156,34.423-35.67,0.20313zm35.67,33.529,0.0277,34.453-35.67-4.9041-0.002-29.78zm4.3261-39.025,47.318-6.906,0,41.527-47.318,0.37565zm47.329,39.349-0.0111,41.34-47.318-6.6784-0.0663-34.739z\"></path></svg><span class=\"Button--text\">Windows</span></a></div><div class=\"FooterSection--actions\"><a class=\"Button Button-is-primary Button-with-icon\" href=\"https://pkg.cloudflareclient.com/\"><svg class=\"Button--icon\" viewBox=\"12 0 60 60\" fill=\"currentColor\"><path d=\"M55.816 50.848a9.915 9.915 0 01-1.52-1.147c-.24-.24 0-1.333 0-1.92a3.857 3.857 0 00-.533-3.12 2.434 2.434 0 00-.427-.32v-1.706a26.234 26.234 0 00-7.2-17.648 11.787 11.787 0 01-3.461-6.32v-.614c0-3.68 0-11.36-4-15.384A9.04 9.04 0 0032.008.003c-5.597 0-9.33 2.666-9.33 16a21.33 21.33 0 01-3.174 9.81c-.72 1.387-1.44 2.827-2.08 4.347a64.844 64.844 0 00-4.08 12.77 4.24 4.24 0 00-2.077 3.2l-.214.88a7.41 7.41 0 01-1.44.374c-1.6.32-4.266.853-4.266 3.28.008.653.08 1.307.213 1.947a8.56 8.56 0 01-.213 4.397 1.307 1.307 0 000 .347c0 3.173 4.986 3.6 8 3.973h1.173c.728.216 1.432.501 2.107.853a15.52 15.52 0 006.053 1.814 3.12 3.12 0 002.293-1.04h.134a15.84 15.84 0 016.904-1.627h8.16c.136.541.4 1.045.773 1.467a3.954 3.954 0 003.067 1.2 8.534 8.534 0 006.664-3.52l.853-.88a9.436 9.436 0 013.173-1.574c1.92-.693 3.894-1.413 3.894-3.36 0-1.946-1.52-2.96-2.774-3.813h-.005zM34.675 8.003c1.546 0 2.666 1.653 2.666 3.946 0 2.294-.88 3.574-2.16 3.867a2.186 2.186 0 00.774-1.813c0-1.094-.587-2-1.28-2-.694 0-1.28.88-1.28 2a2.186 2.186 0 00.773 1.813c-1.28-.32-2.16-1.867-2.16-3.867s1.12-3.946 2.667-3.946zm1.173 10.346a15.519 15.519 0 01-6.507 2.984 9.974 9.974 0 01-4-2.666A8.187 8.187 0 0130.675 16c1.908.288 3.699 1.1 5.173 2.347v.002zM26.675 8c1.546 0 2.666 1.653 2.666 3.947 0 2.293-.88 3.546-2.16 3.866A2.186 2.186 0 0027.955 14c0-1.093-.587-2-1.28-2-.694 0-1.28.88-1.28 2a2.187 2.187 0 00.773 1.813c-1.28-.32-2.16-1.84-2.16-3.866C24.008 9.92 25.128 8 26.675 8zm-3.28 52.552c-.16.507-.4.773-.72.773a13.705 13.705 0 01-4.987-1.6 11.84 11.84 0 00-2.667-1.066h-1.493c-3.97-.32-5.197-.8-5.464-1.174.48-1.74.526-3.571.133-5.333a8.96 8.96 0 01-.186-1.493 5.974 5.974 0 012.213-.694 5.334 5.334 0 002.667-1.04c.524-.624.865-1.38.986-2.186.347-1.414.48-1.414.667-1.414.8.934 1.435 2 1.867 3.147a14.933 14.933 0 004.106 5.973 6.053 6.053 0 012.88 6.107h-.002zm16.986-8c-3.92 3.947-11.76 3.68-15.226 3.147a9.706 9.706 0 00-3.067-3.44 13.334 13.334 0 01-3.227-4.934 10.667 10.667 0 00-2.666-4.186 63.662 63.662 0 013.813-11.944c.56-1.414 1.28-2.667 1.973-4.134a40.593 40.593 0 002.507-5.57 10.293 10.293 0 004.853 2.506 26.819 26.819 0 007.547-3.2 49.727 49.727 0 015.787 23.864 16.16 16.16 0 00-2.294 7.867v.027-.003zm13.488 2.987a11.172 11.172 0 00-4.133 2.213l-.907.933a6.053 6.053 0 01-4.824 2.667 1.466 1.466 0 01-1.093-.32c-.4-.453-.293-1.493-.267-1.92l.027-.453c0-.8.747-8.347.987-9.547.106.16.221.312.346.453a3.563 3.563 0 002.667 1.12h.933a5.331 5.331 0 003.92-1.2c.027.795.339 1.552.88 2.134a11.9 11.9 0 001.947 1.493c1.013.667 1.653 1.12 1.707 1.413a7.704 7.704 0 01-2.187.987v.027h-.003z\"></path></svg><p class=\"Button--text\">Linux</p></a></div></div></div></div><div class=\"FooterSection\" id=\"subscription-form\" data-depth-perspective-root><div class=\"FooterSection--column\"><div class=\"FooterSection--backdrop-blob4\" data-depth=\"2\"><svg class=\"SVG-Blob4\" viewBox=\"0 0 3120 4353\"><defs><lineargradient id=\"SVG-Blob4-a\" x1=\"50%\" x2=\"48.5%\" y1=\"0%\" y2=\"72%\"><stop offset=\"0\" stop-color=\"#1b1464\"></stop><stop offset=\".7\" stop-color=\"#0e055b\"></stop><stop offset=\"1\" stop-color=\"#0f0f36\"></stop></lineargradient><lineargradient id=\"SVG-Blob4-b\" x1=\"4.4%\" x2=\"92.2%\" y1=\"6.3%\" y2=\"54.8%\"><stop offset=\"0\" stop-color=\"rgb(150, 130, 210)\" stop-opacity=\"0\"></stop><stop offset=\"1\" stop-color=\"rgb(150, 130, 210)\" stop-opacity=\".1\"></stop></lineargradient><lineargradient id=\"SVG-Blob4-c\" x1=\"33.7%\" x2=\"90.2%\" y1=\"92.5%\" y2=\"18.8%\"><stop offset=\"0\" stop-color=\"#2e3191\"></stop><stop offset=\".17\" stop-color=\"#2c3594\"></stop><stop offset=\".35\" stop-color=\"#27439e\"></stop><stop offset=\".54\" stop-color=\"#1f59af\"></stop><stop offset=\".74\" stop-color=\"#1477c6\"></stop><stop offset=\".94\" stop-color=\"#059fe3\"></stop><stop offset=\"1\" stop-color=\"#00adee\"></stop></lineargradient><lineargradient id=\"SVG-Blob4-d\" x1=\"54.6%\" x2=\"161.4%\" y1=\"50%\" y2=\"311%\"><stop offset=\"0\" stop-color=\"#1b1464\"></stop><stop offset=\"1\" stop-color=\"#673ee0\"></stop></lineargradient><lineargradient id=\"SVG-Blob4-e\" x1=\"44.1%\" x2=\"0%\" y1=\"106.1%\" y2=\"35.1%\"><stop offset=\"0\" stop-color=\"#2057ad\"></stop><stop offset=\"1\" stop-color=\"#1b1464\"></stop></lineargradient><lineargradient id=\"SVG-Blob4-f\" x1=\"113.4%\" x2=\"-110.1%\" y1=\"-20.7%\" y2=\"194.4%\"><stop offset=\"0\" stop-color=\"#2e3191\"></stop><stop offset=\"1\" stop-color=\"#00adee\"></stop></lineargradient><lineargradient id=\"SVG-Blob4-g\" x1=\"50%\" x2=\"18.7%\" y1=\"0%\" y2=\"100%\"><stop offset=\"0\" stop-color=\"#1b1464\"></stop><stop offset=\"1\" stop-color=\"#251880\"></stop></lineargradient><lineargradient id=\"SVG-Blob4-h\" x1=\"-60.3%\" x2=\"99.3%\" y1=\"-51.1%\" y2=\"84.2%\"><stop offset=\"0\" stop-color=\"#0995dc\"></stop><stop offset=\"1\" stop-color=\"#3b2e91\"></stop></lineargradient><lineargradient id=\"SVG-Blob4-i\" x1=\"40.8%\" x2=\"52.5%\" y1=\"82.2%\" y2=\"17.4%\"><stop offset=\"0\" stop-color=\"#251880\"></stop><stop offset=\"1\" stop-color=\"#1b1464\"></stop></lineargradient><lineargradient id=\"SVG-Blob4-j\" x1=\"72.5%\" x2=\"27.4%\" y1=\"57.6%\" y2=\"19%\"><stop offset=\"0\" stop-color=\"#1a1d75\"></stop><stop offset=\"1\" stop-color=\"#322189\"></stop></lineargradient><lineargradient id=\"SVG-Blob4-k\" x1=\"34.7%\" x2=\"34.7%\" y1=\"100%\" y2=\"-16.7%\"><stop offset=\"0\" stop-color=\"#10105e\"></stop><stop offset=\"1\" stop-color=\"#271a77\"></stop></lineargradient></defs><path fill=\"url(#SVG-Blob4-a)\" d=\"M2209.9 4247c198.5-86.1 370.3-291.4 512.9-595.6 125.8-268.7 225.9-608.9 295.4-985.8 62-336.1 97-688.5 101.1-992.9 4-292.8-21.3-517.5-70.1-616.7-25.4-51.7-56-82.4-93.3-95-34.5-11.7-75.1-8-125.4 9.8-42.5 15-90 39.1-160.5 79.7l-45.9 26.8-48.3 28.5c-41 24-72.1 42-104 59.6-99.7 55.2-189.3 97.7-282.1 131.4a1294 1294 0 0 1-341.3 76 1249.5 1249.5 0 0 1-404.6-35c-152.3-38-309.4-104.2-472.1-201.5-298.2-178.1-534.4-203.7-701.6-91.4-150.8 101.4-240.6 313.3-263.8 600.6-22 271.9 17.5 598 110.1 916.6 95.8 329.1 242.2 630.8 420.7 856.1 368.6 465.4 654.9 731.2 915.4 850.7 127 58.3 250 83 376.8 76.8 118.6-5.8 241.6-38.4 380.6-98.7z\"></path><path fill=\"url(#SVG-Blob4-b)\" d=\"M723.3 1678.2c-599.5-254.5-607-1448-308-1607.4 244-130.2 301.6 112.6 471.9 512 159.8 374.8 654.1 508.7 885 390.8 134.7-68.9 368.2-422.7 816-422.7 118.5 0 398.2 178 287.4 297.9-348.9 377.5-1697.3 1022.6-2152.3 829.4z\"></path><path fill=\"url(#SVG-Blob4-c)\" d=\"M2828.1 662.8c-374.4-362-813.9 303.1-997.7 406.5C1450 1283 920.3 936.3 791.8 560.9 709.7 321 617 14.9 366.4 182.7c-250.6 167.8-128.8 1020.5 0 1443.6 64.6 212.4 731.2 1506 1620.5 1508.6 349 1 613.5-601 729.9-1069.7 116.3-468.8 372.4-1150 111.3-1402.4z\"></path><path fill=\"url(#SVG-Blob4-d)\" d=\"M2647.6 2370c-451 1448.9-1401.9 775.8-2020.4-192.2C230 1556.2 191 740.3 660.4 740.3c171 0 567 671.4 1194.7 375.9C2061.4 1019 2444.7 414.8 2773 698c249.6 215.3 157.3 764-125.3 1672z\"></path><path fill=\"url(#SVG-Blob4-e)\" d=\"M1711.5 1270.8c146-42.6 178.4 134.2 261.2 315.4 890.8 1949.4-404.7 1619-737.4 1138.7-228.3-329.6 540.8-533.7 371.2-1093.7-45.7-150.9-41-317.8 105-360.4z\" opacity=\".4\"></path><path fill=\"url(#SVG-Blob4-f)\" d=\"M1762.8 1564.7c69.8-60 141 38 156.3 112 19.6 94.8 538.8 1224.8-43.3 1039.6-582-185.1-105.7-526-91-688.8 17.5-193.2-130.6-369.6-22-462.8z\" opacity=\".6\"></path><path fill=\"url(#SVG-Blob4-g)\" d=\"M1896.2 1918.9c34.8-12.4 175 474.3 122.1 661-28.7 101.2-294.6-85.3-279.8-150.4 14.8-65.2 93.4-32.7 138.6-133 41.5-92.3-32-359.4 19.1-377.6z\"></path><path fill=\"url(#SVG-Blob4-h)\" d=\"M1497.7 1776.8c-86.8 646.2-717.3 410-953.6.5C334.6 1414.6 477.5 709 754.8 950.1c221.4 192.6 793 454 742.9 826.7z\" opacity=\".7\"></path><path fill=\"url(#SVG-Blob4-i)\" d=\"M1144.5 1954c91-318.3-435.5-813-576.8-560.8-141.4 252.2 485.9 879.2 576.8 560.9zM2467.4 874.6c-410.2 247-448.6 1230-61.5 1096.5 387.1-133.6 471.6-1343.5 61.5-1096.5z\"></path><path fill=\"url(#SVG-Blob4-j)\" d=\"M1910.1 3397.7c-99.8 53.7-129 171-93.3 255 45.6 107.8 137.8 96.5 234.6-28.6 48.9-63.1 64-337-141.3-226.4z\" opacity=\".8\"></path><path fill=\"url(#SVG-Blob4-k)\" d=\"M1730.8 3802.7a66.6 66.6 0 0 0-32 83.7c15.2 35.2 81.3 18.8 114.2-22.4 16.6-20.8-12.8-97.9-82.2-61.3z\" opacity=\".6\"></path></svg></div></div></div><a class=\"EasterEggSection\" href=\"https://www.cloudflare.com/careers/departments/\" target=\"_blank\"><div class=\"EasterEggSection--column\"><div class=\"EasterEggSection--content\"><svg class=\"SVG-EEM\" viewBox=\"0 0 443 172\"><defs><linearGradient id=\"SVG-EEM-a\" x1=\"15.9%\" x2=\"90.6%\" y1=\"12.9%\" y2=\"76.1%\"><stop offset=\"0%\" stop-color=\"#ff9a00\"></stop><stop offset=\"100%\" stop-color=\"#e92257\"></stop></linearGradient><radialGradient id=\"SVG-EEM-b\" cx=\"53.14%\" cy=\"63.55%\" r=\"65.8%\" fx=\"53.14%\" fy=\"63.55%\" gradientTransform=\"matrix(.59021 .27562 -.16923 .96127 .33 -.12)\"><stop offset=\"4%\" stop-color=\"#fff\"></stop><stop offset=\"69%\" stop-color=\"#fff\"></stop><stop offset=\"100%\" stop-color=\"#f5f7f8\"></stop></radialGradient></defs><path fill=\"url(#SVG-EEM-a)\" d=\"M437.1 126.66a70.5 70.5 0 0 0-95.27-89.98c-8 3.7-60.5-3-111-11.4-26-4.2-52-8.4-73-10.7-23.8-2.6 45.9 17.3 44.1 22.1-.7 2-196.2-38.4-201.8-36.6-4.1 1.4 93 29.7 159 48.3 13.3 3.7 24.7 9 34.2 14.8 7 4.2-225.5-55.6-21 10.8 16.3 5.3 48.5 17.7 52.6 19 32.8 9.6 80.5 35.5 88 46.7a70.5 70.5 0 0 0 124.18-13.02z\"></path><path fill=\"url(#SVG-EEM-b)\" d=\"M325.7 131.87c-2.3-2.6-4.7-5.5-7.2-8.8-12.8-16.7-54.9-26.6-61.2-29.2-3-1.3-5.8-3-8.5-4.8-1.8-1.4-4.6-5.4-1.2-6.4 11-2.7 18.7 10.3 24.9-.2 1.3-3.6 9.6 2.5 12.9.9 6-3-14.8-7.4-12.2-13.3 2.2-5 46.2 13.2 45.3 8.3-.2-.6-.1-1.3.1-1.9.3-.5.7-1 1.2-1.2 1.2-.8 3-1.6 4.3-2.6l1.1-1.8c0-.7-.2-1.5-1-2.4-2.6-3.2-20.4-9.1-23-11.6-1.6-1.4-2-4.1.5-4.2 12.5-.2 30.7 3 42.3-.4l2.7-1a56 56 0 1 1-21 80.6z\"></path></svg></div></div></a></div><script type=\"text/javascript\" src=\"/site-16bcc13e690cc771698c.js\"></script></body></html>\n"
     ]
    },
    {
     "name": "stderr",
     "output_type": "stream",
     "text": [
      "  % Total    % Received % Xferd  Average Speed   Time    Time     Time  Current\n",
      "                                 Dload  Upload   Total   Spent    Left  Speed\n",
      "\n",
      "  0     0    0     0    0     0      0      0 --:--:-- --:--:-- --:--:--     0\n",
      "100 54361    0 54361    0     0   689k      0 --:--:-- --:--:-- --:--:--  698k\n"
     ]
    }
   ],
   "source": [
    "!curl -i https://1.1.1.1"
   ]
  },
  {
   "cell_type": "code",
   "execution_count": 1,
   "id": "067f6724",
   "metadata": {},
   "outputs": [
    {
     "name": "stdout",
     "output_type": "stream",
     "text": [
      "HTTP/1.1 200 OK\n",
      "Date: Mon, 20 Mar 2023 17:12:23 GMT\n",
      "Content-Type: application/javascript\n",
      "Transfer-Encoding: chunked\n",
      "Connection: keep-alive\n",
      "Report-To: {\"endpoints\":[{\"url\":\"https:\\/\\/a.nel.cloudflare.com\\/report\\/v3?s=uccP7ULA8c1FY9G8gQQpKCbz%2FiZwhK8Bq6JDABq1ReEKw5ZhaA2uc255WWASDe5p7KnEhqZjIt4YOVuLLaH1PN1PYCzD%2FFmkf1d0gol9rarwF7cJaJrVOrQ%3D\"}],\"group\":\"cf-nel\",\"max_age\":604800}\n",
      "NEL: {\"report_to\":\"cf-nel\",\"max_age\":604800}\n",
      "Last-Modified: Thu, 04 Aug 2022 19:10:05 GMT\n",
      "ETag: W/\"9ae9817ea2aac2b6c359f31c8e9150a7\"\n",
      "Strict-Transport-Security: max-age=31536000\n",
      "Served-In-Seconds: 0.003\n",
      "Cache-Control: public, max-age=14400\n",
      "CF-Cache-Status: HIT\n",
      "Age: 520\n",
      "Expires: Mon, 20 Mar 2023 21:12:23 GMT\n",
      "Set-Cookie: __cf_bm=64S4BHhIfs6uV9mWbBP_LaUGi0KyTR80uD3ARFlSSk8-1679332343-0-Acmt7+hkrsJd/3bXNtpcayiZWOmtQ01ehTH2cOUDkuYQpT0U6m8i99a1hQtvdS81OObgOLmGUwQdxxYPTZTeXNw=; path=/; expires=Mon, 20-Mar-23 17:42:23 GMT; domain=.every1dns.com; HttpOnly; Secure; SameSite=None\n",
      "Server: cloudflare\n",
      "CF-RAY: 7aaf9467eb534953-SIN\n",
      "alt-svc: h3=\":443\"; ma=86400, h3-29=\":443\"; ma=86400\n",
      "\n",
      "!function(o,t){\"object\"==typeof exports&&\"object\"==typeof module?module.exports=t():\"function\"==typeof define&&define.amd?define([],t):\"object\"==typeof exports?exports[\"site-16bcc13e690cc771698c\"]=t():o[\"site-16bcc13e690cc771698c\"]=t()}(window,function(){return function(o){var t={};function q(n){if(t[n])return t[n].exports;var e=t[n]={i:n,l:!1,exports:{}};return o[n].call(e.exports,e,e.exports,q),e.l=!0,e.exports}return q.m=o,q.c=t,q.d=function(o,t,n){q.o(o,t)||Object.defineProperty(o,t,{enumerable:!0,get:n})},q.r=function(o){\"undefined\"!=typeof Symbol&&Symbol.toStringTag&&Object.defineProperty(o,Symbol.toStringTag,{value:\"Module\"}),Object.defineProperty(o,\"__esModule\",{value:!0})},q.t=function(o,t){if(1&t&&(o=q(o)),8&t)return o;if(4&t&&\"object\"==typeof o&&o&&o.__esModule)return o;var n=Object.create(null);if(q.r(n),Object.defineProperty(n,\"default\",{enumerable:!0,value:o}),2&t&&\"string\"!=typeof o)for(var e in o)q.d(n,e,function(t){return o[t]}.bind(null,e));return n},q.n=function(o){var t=o&&o.__esModule?function(){return o.default}:function(){return o};return q.d(t,\"a\",t),t},q.o=function(o,t){return Object.prototype.hasOwnProperty.call(o,t)},q.p=\"/\",q(q.s=47)}({0:function(o,t,q){\"use strict\";(function(o,n){var e;q.d(t,\"a\",function(){return basicScroll}),function(t){\"object\"==typeof exports&&void 0!==o?o.exports=t():\"function\"==typeof define&&q(41)?define([],t):(\"undefined\"!=typeof window?window:void 0!==n?n:\"undefined\"!=typeof self?self:this).basicScroll=t()}(function(){return function o(t,q,n){function r(U,i){if(!q[U]){if(!t[U]){if(!i&&\"function\"==typeof e&&e)return e(U,!0);if(V)return V(U,!0);var a=new Error(\"Cannot find module '\"+U+\"'\");throw a.code=\"MODULE_NOT_FOUND\",a}var p=q[U]={exports:{}};t[U][0].call(p.exports,function(o){return r(t[U][1][o]||o)},p,p.exports,o,t,q,n)}return q[U].exports}for(var V=\"function\"==typeof e&&e,U=0;U<n.length;U++)r(n[U]);return r}({1:[function(o,t,q){t.exports=function(o){var t=2.5949095;return(o*=2)<1?o*o*((t+1)*o-t)*.5:.5*((o-=2)*o*((t+1)*o+t)+2)}},{}],2:[function(o,t,q){t.exports=function(o){var t=1.70158;return o*o*((t+1)*o-t)}},{}],3:[function(o,t,q){t.exports=function(o){var t=1.70158;return--o*o*((t+1)*o+t)+1}},{}],4:[function(o,t,q){var n=o(\"./bounce-out\");t.exports=function(o){return o<.5?.5*(1-n(1-2*o)):.5*n(2*o-1)+.5}},{\"./bounce-out\":6}],5:[function(o,t,q){var n=o(\"./bounce-out\");t.exports=function(o){return 1-n(1-o)}},{\"./bounce-out\":6}],6:[function(o,t,q){t.exports=function(o){var t=o*o;return o<4/11?7.5625*t:o<8/11?9.075*t-9.9*o+3.4:o<.9?4356/361*t-35442/1805*o+16061/1805:10.8*o*o-20.52*o+10.72}},{}],7:[function(o,t,q){t.exports=function(o){return(o*=2)<1?-.5*(Math.sqrt(1-o*o)-1):.5*(Math.sqrt(1-(o-=2)*o)+1)}},{}],8:[function(o,t,q){t.exports=function(o){return 1-Math.sqrt(1-o*o)}},{}],9:[function(o,t,q){t.exports=function(o){return Math.sqrt(1- --o*o)}},{}],10:[function(o,t,q){t.exports=function(o){return o<.5?4*o*o*o:.5*Math.pow(2*o-2,3)+1}},{}],11:[function(o,t,q){t.exports=function(o){return o*o*o}},{}],12:[function(o,t,q){t.exports=function(o){var t=o-1;return t*t*t+1}},{}],13:[function(o,t,q){t.exports=function(o){return o<.5?.5*Math.sin(13*Math.PI/2*2*o)*Math.pow(2,10*(2*o-1)):.5*Math.sin(-13*Math.PI/2*(2*o-1+1))*Math.pow(2,-10*(2*o-1))+1}},{}],14:[function(o,t,q){t.exports=function(o){return Math.sin(13*o*Math.PI/2)*Math.pow(2,10*(o-1))}},{}],15:[function(o,t,q){t.exports=function(o){return Math.sin(-13*(o+1)*Math.PI/2)*Math.pow(2,-10*o)+1}},{}],16:[function(o,t,q){t.exports=function(o){return 0===o||1===o?o:o<.5?.5*Math.pow(2,20*o-10):-.5*Math.pow(2,10-20*o)+1}},{}],17:[function(o,t,q){t.exports=function(o){return 0===o?o:Math.pow(2,10*(o-1))}},{}],18:[function(o,t,q){t.exports=function(o){return 1===o?o:1-Math.pow(2,-10*o)}},{}],19:[function(o,t,q){t.exports={backInOut:o(\"./back-in-out\"),backIn:o(\"./back-in\"),backOut:o(\"./back-out\"),bounceInOut:o(\"./bounce-in-out\"),bounceIn:o(\"./bounce-in\"),bounceOut:o(\"./bounce-out\"),circInOut:o(\"./circ-in-out\"),circIn:o(\"./circ-in\"),circOut:o(\"./circ-out\"),cubicInOut:o(\"./cubic-in-out\"),cubicIn:o(\"./cubic-in\"),cubicOut:o(\"./cubic-out\"),elasticInOut:o(\"./elastic-in-out\"),elasticIn:o(\"./elastic-in\"),elasticOut:o(\"./elastic-out\"),expoInOut:o(\"./expo-in-out\"),expoIn:o(\"./expo-in\"),expoOut:o(\"./expo-out\"),linear:o(\"./linear\"),quadInOut:o(\"./quad-in-out\"),quadIn:o(\"./quad-in\"),quadOut:o(\"./quad-out\"),quartInOut:o(\"./quart-in-out\"),quartIn:o(\"./quart-in\"),quartOut:o(\"./quart-out\"),quintInOut:o(\"./quint-in-out\"),quintIn:o(\"./quint-in\"),quintOut:o(\"./quint-out\"),sineInOut:o(\"./sine-in-out\"),sineIn:o(\"./sine-in\"),sineOut:o(\"./sine-out\")}},{\"./back-in\":2,\"./back-in-out\":1,\"./back-out\":3,\"./bounce-in\":5,\"./bounce-in-out\":4,\"./bounce-out\":6,\"./circ-in\":8,\"./circ-in-out\":7,\"./circ-out\":9,\"./cubic-in\":11,\"./cubic-in-out\":10,\"./cubic-out\":12,\"./elastic-in\":14,\"./elastic-in-out\":13,\"./elastic-out\":15,\"./expo-in\":17,\"./expo-in-out\":16,\"./expo-out\":18,\"./linear\":20,\"./quad-in\":22,\"./quad-in-out\":21,\"./quad-out\":23,\"./quart-in\":25,\"./quart-in-out\":24,\"./quart-out\":26,\"./quint-in\":28,\"./quint-in-out\":27,\"./quint-out\":29,\"./sine-in\":31,\"./sine-in-out\":30,\"./sine-out\":32}],20:[function(o,t,q){t.exports=function(o){return o}},{}],21:[function(o,t,q){t.exports=function(o){return(o/=.5)<1?.5*o*o:-.5*(--o*(o-2)-1)}},{}],22:[function(o,t,q){t.exports=function(o){return o*o}},{}],23:[function(o,t,q){t.exports=function(o){return-o*(o-2)}},{}],24:[function(o,t,q){t.exports=function(o){return o<.5?8*Math.pow(o,4):-8*Math.pow(o-1,4)+1}},{}],25:[function(o,t,q){t.exports=function(o){return Math.pow(o,4)}},{}],26:[function(o,t,q){t.exports=function(o){return Math.pow(o-1,3)*(1-o)+1}},{}],27:[function(o,t,q){t.exports=function(o){return(o*=2)<1?.5*o*o*o*o*o:.5*((o-=2)*o*o*o*o+2)}},{}],28:[function(o,t,q){t.exports=function(o){return o*o*o*o*o}},{}],29:[function(o,t,q){t.exports=function(o){return--o*o*o*o*o+1}},{}],30:[function(o,t,q){t.exports=function(o){return-.5*(Math.cos(Math.PI*o)-1)}},{}],31:[function(o,t,q){t.exports=function(o){var t=Math.cos(o*Math.PI*.5);return Math.abs(t)<1e-14?1:1-t}},{}],32:[function(o,t,q){t.exports=function(o){return Math.sin(o*Math.PI/2)}},{}],33:[function(o,t,q){t.exports=function(o,t){t||(t=[0,\"\"]),o=String(o);var q=parseFloat(o,10);return t[0]=q,t[1]=o.match(/[\\d.\\-\\+]*\\s*(.*)/)[1]||\"\",t}},{}],34:[function(o,t,q){Object.defineProperty(q,\"__esModule\",{value:!0}),q.create=void 0;var n=\"function\"==typeof Symbol&&\"symbol\"==typeof Symbol.iterator?function(o){return typeof o}:function(o){return o&&\"function\"==typeof Symbol&&o.constructor===Symbol&&o!==Symbol.prototype?\"symbol\":typeof o},e=V(o(\"parse-unit\")),r=V(o(\"eases\"));function V(o){return o&&o.__esModule?o:{default:o}}var U=[],i=\"undefined\"!=typeof window,a=document.scrollingElement||document.documentElement,p=(q.setScrollingElement=function(o){a=o},function(){return a.scrollTop}),l=function(o){return!1===isNaN((0,e.default)(o)[0])},u=function(o){var t=(0,e.default)(o);return{value:t[0],unit:t[1]}},d=function(o){return null!==String(o).match(/^[a-z]+-[a-z]+$/)},f=function(o,t){var q=arguments.length>2&&void 0!==arguments[2]?arguments[2]:p(),n=arguments.length>3&&void 0!==arguments[3]?arguments[3]:window.innerHeight||window.outerHeight,e=t.getBoundingClientRect(),r=o.match(/^[a-z]+/)[0],V=o.match(/[a-z]+$/)[0],U=0;return\"top\"===V&&(U-=0),\"middle\"===V&&(U-=n/2),\"bottom\"===V&&(U-=n),\"top\"===r&&(U+=e.top+q),\"middle\"===r&&(U+=e.top+q+e.height/2),\"bottom\"===r&&(U+=e.top+q+e.height),U+\"px\"},c=function(o){var t=arguments.length>1&&void 0!==arguments[1]?arguments[1]:p(),q=o.getData(),n=q.to.value-q.from.value,e=(t-q.from.value)/(n/100),r=Math.min(Math.max(e,0),100),V=function(o,t){return!0===o?t.elem:o instanceof HTMLElement==1?t.direct:t.global}(q.direct,{global:document.documentElement,elem:q.elem,direct:q.direct}),U=Object.keys(q.props).reduce(function(o,t){var n=q.props[t],e=n.from.unit||n.to.unit,V=n.from.value-n.to.value,U=n.timing(r/100),i=n.from.value-V*U,a=Math.round(1e4*i)/1e4;return o[t]=a+e,o},{}),i=e<0||e>100;return!0==(e>=0&&e<=100)&&q.inside(o,e,U),!0===i&&q.outside(o,e,U),{elem:V,props:U}},K=function(o,t){Object.keys(t).forEach(function(q){return function(o,t){o.style.setProperty(t.key,t.value)}(o,{key:q,value:t[q]})})};q.create=function(o){var t=null,q=!1,e={isActive:function(){return q},getData:function(){return t},calculate:function(){t=function(){var o=arguments.length>0&&void 0!==arguments[0]?arguments[0]:{};if(null==(o=Object.assign({},o)).inside&&(o.inside=function(){}),null==o.outside&&(o.outside=function(){}),null==o.direct&&(o.direct=!1),null==o.track&&(o.track=!0),null==o.props&&(o.props={}),null==o.from)throw new Error(\"Missing property `from`\");if(null==o.to)throw new Error(\"Missing property `to`\");if(\"function\"!=typeof o.inside)throw new Error(\"Property `inside` must be undefined or a function\");if(\"function\"!=typeof o.outside)throw new Error(\"Property `outside` must be undefined or a function\");if(\"boolean\"!=typeof o.direct&&o.direct instanceof HTMLElement==0)throw new Error(\"Property `direct` must be undefined, a boolean or a DOM element/node\");if(!0===o.direct&&null==o.elem)throw new Error(\"Property `elem` is required when `direct` is true\");if(\"boolean\"!=typeof o.track)throw new Error(\"Property `track` must be undefined or a boolean\");if(\"object\"!==n(o.props))throw new Error(\"Property `props` must be undefined or an object\");if(null==o.elem){if(!1===l(o.from))throw new Error(\"Property `from` must be a absolute value when no `elem` has been provided\");if(!1===l(o.to))throw new Error(\"Property `to` must be a absolute value when no `elem` has been provided\")}else!0===d(o.from)&&(o.from=f(o.from,o.elem)),!0===d(o.to)&&(o.to=f(o.to,o.elem));return o.from=u(o.from),o.to=u(o.to),o.props=Object.keys(o.props).reduce(function(t,q){var n=Object.assign({},o.props[q]);if(!1===l(n.from))throw new Error(\"Property `from` of prop must be a absolute value\");if(!1===l(n.to))throw new Error(\"Property `from` of prop must be a absolute value\");if(n.from=u(n.from),n.to=u(n.to),null==n.timing&&(n.timing=r.default.linear),\"string\"!=typeof n.timing&&\"function\"!=typeof n.timing)throw new Error(\"Property `timing` of prop must be undefined, a string or a function\");if(\"string\"==typeof n.timing&&null==r.default[n.timing])throw new Error(\"Unknown timing for property `timing` of prop\");return\"string\"==typeof n.timing&&(n.timing=r.default[n.timing]),t[q]=n,t},{}),o}(o)},update:function(){var o=c(e),t=o.elem,q=o.props;return K(t,q),q},start:function(){q=!0},stop:function(){q=!1},destroy:function(){U[V]=void 0}},V=U.push(e)-1;return e.calculate(),e},!0===i?(function o(t,q){var n=function(){requestAnimationFrame(function(){return o(t,q)})},e=U.filter(function(o){return null!=o&&o.isActive()});if(0===e.length)return n();var r=p();if(q===r)return n();q=r,e.map(function(o){return c(o,r)}).forEach(function(o){var t=o.elem,q=o.props;return K(t,q)}),n()}(),window.addEventListener(\"resize\",function(o,t){var q=null;return function(){for(var o=arguments.length,t=Array(o),n=0;n<o;n++)t[n]=arguments[n];clearTimeout(q),q=setTimeout(function(){return function(){(function(o){return o.filter(function(o){return null!=o&&o.getData().track})})(U).forEach(function(o){o.calculate(),o.update()})}.apply(void 0,t)},50)}}())):console.warn(\"basicScroll is not executing because you are using it in an environment without a `window` object\")},{eases:19,\"parse-unit\":33}]},{},[34])(34)})}).call(this,q(40)(o),q(2))},2:function(o,t){var q;q=function(){return this}();try{q=q||Function(\"return this\")()||(0,eval)(\"this\")}catch(o){\"object\"==typeof window&&(q=window)}o.exports=q},39:function(o,t,q){!function(){\"use strict\";\"undefined\"!=typeof document&&function(o){var t;function q(){t||(t=!0,o())}[\"interactive\",\"complete\"].indexOf(document.readyState)>=0?o():(t=!1,document.addEventListener(\"DOMContentLoaded\",q,!1),window.addEventListener(\"load\",q,!1))}(function(){var o=!0,t=!1,q=null,n={text:!0,search:!0,url:!0,tel:!0,email:!0,password:!0,number:!0,date:!0,month:!0,week:!0,time:!0,datetime:!0,\"datetime-local\":!0};function e(o){return!!(o&&o!==document&&\"HTML\"!==o.nodeName&&\"BODY\"!==o.nodeName&&\"classList\"in o&&\"contains\"in o.classList)}function r(o){o.classList.contains(\"focus-visible\")||(o.classList.add(\"focus-visible\"),o.setAttribute(\"data-focus-visible-added\",\"\"))}function V(t){o=!1}function U(){document.addEventListener(\"mousemove\",i),document.addEventListener(\"mousedown\",i),document.addEventListener(\"mouseup\",i),document.addEventListener(\"pointermove\",i),document.addEventListener(\"pointerdown\",i),document.addEventListener(\"pointerup\",i),document.addEventListener(\"touchmove\",i),document.addEventListener(\"touchstart\",i),document.addEventListener(\"touchend\",i)}function i(t){\"html\"!==t.target.nodeName.toLowerCase()&&(o=!1,document.removeEventListener(\"mousemove\",i),document.removeEventListener(\"mousedown\",i),document.removeEventListener(\"mouseup\",i),document.removeEventListener(\"pointermove\",i),document.removeEventListener(\"pointerdown\",i),document.removeEventListener(\"pointerup\",i),document.removeEventListener(\"touchmove\",i),document.removeEventListener(\"touchstart\",i),document.removeEventListener(\"touchend\",i))}document.addEventListener(\"keydown\",function(t){e(document.activeElement)&&r(document.activeElement),o=!0},!0),document.addEventListener(\"mousedown\",V,!0),document.addEventListener(\"pointerdown\",V,!0),document.addEventListener(\"touchstart\",V,!0),document.addEventListener(\"focus\",function(t){e(t.target)&&(o||function(o){var t=o.type,q=o.tagName;return!(\"INPUT\"!=q||!n[t]||o.readOnly)||\"TEXTAREA\"==q&&!o.readOnly||!!o.isContentEditable}(t.target))&&r(t.target)},!0),document.addEventListener(\"blur\",function(o){e(o.target)&&(o.target.classList.contains(\"focus-visible\")||o.target.hasAttribute(\"data-focus-visible-added\"))&&(t=!0,window.clearTimeout(q),q=window.setTimeout(function(){t=!1,window.clearTimeout(q)},100),function(o){o.hasAttribute(\"data-focus-visible-added\")&&(o.classList.remove(\"focus-visible\"),o.removeAttribute(\"data-focus-visible-added\"))}(o.target))},!0),document.addEventListener(\"visibilitychange\",function(q){\"hidden\"==document.visibilityState&&(t&&(o=!0),U())},!0),U(),document.body.classList.add(\"js-focus-visible\")})}()},40:function(o,t){o.exports=function(o){if(!o.webpackPolyfill){var t=Object.create(o);t.children||(t.children=[]),Object.defineProperty(t,\"loaded\",{enumerable:!0,get:function(){return t.l}}),Object.defineProperty(t,\"id\",{enumerable:!0,get:function(){return t.i}}),Object.defineProperty(t,\"exports\",{enumerable:!0}),t.webpackPolyfill=1}return t}},41:function(o,t){(function(t){o.exports=t}).call(this,{})},42:function(o,t,q){\"use strict\";const n=function(){var o=[],t=function(){var t,q;for(q=0;q<o.length;q+=1)t=o[q],e(t)&&(t.style.maxWidth=\"\",n(t,t.clientHeight,0,t.clientWidth))},q=function(o,t,q){var n;return function(){var t=this,q=arguments;clearTimeout(n),n=setTimeout(function(){n=null,o.apply(t,q)},100)}}(function(){t()});function n(o,t,q,e){var r;q>=e?o.style.maxWidth=e+\"px\":(r=(q+e)/2,o.style.maxWidth=r+\"px\",o.clientHeight>t?n(o,t,r+1,e):n(o,t,q+1,r))}window.addEventListener(\"resize\",q);var e=function(o){var t,q,n,e,r;return r=o.innerHTML,n=o.innerHTML.split(\" \"),(e=document.createElement(\"span\")).id=\"element-first-word\",e.innerHTML=n[0],n=n.slice(1),o.innerHTML=\"\",o.appendChild(e),o.innerHTML+=\" \"+n.join(\" \"),t=(e=document.getElementById(\"element-first-word\")).offsetHeight,q=o.offsetHeight,o.innerHTML=r,q-10>t};return{initialize:function(q){o=q,t()}}}();q(39);var e=q(0);setTimeout(()=>{let o=!1;const t=()=>o=window.matchMedia(\"(max-width: 768px)\").matches;window.addEventListener(\"resize\",()=>{t()},{passive:!0}),t();document.documentElement.addEventListener(\"dblclick\",()=>{\"dark\"===document.documentElement.getAttribute(\"theme\")?document.documentElement.setAttribute(\"theme\",\"light\"):document.documentElement.setAttribute(\"theme\",\"dark\")}),n.initialize(Array.from(document.querySelectorAll(\"[data-js-balance-text]\"))),(()=>{const o=document.querySelectorAll(\".OneDotLogoAnimated\");let t,q=0,n=1050;const e=new Image;let r,V;e.onload=function(){q+=1,t=this.width,i()},e.src=\"data:image/png;base64,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\";const U=new Image;U.onload=function(){q+=1,r=this.width,V=this.height,i()},U.src=\"data:image/png;base64,iVBORw0KGgoAAAANSUhEUgAAA3YAAAEECAMAAABTBlZcAAAAmVBMVEUAAAD////////////////////////////////////////////////////////////////////////////////////////////////////////////////////////////////////////////////////////////////////////////////////////////////////////VHQRUAAAAMnRSTlMA5A5VnDm3EMudVvKq/BxjavYK7gNH3hbY6E2wpSwg0wbPiyaFQZB2cDG9l31bxLo2PD4BR+cAAAxLSURBVHja7NNZboIAFIbR32ojVkFGBZUx4ljFsP/FdQs8mN6Ez7OHo/7j4+Ofva9d5AxW9yO0cQbb9CNUOoNl/fgEznDuG9utNNhXP0JrDTbtR8jTYLN+fEoNN3ljuzu83Q7eLmS3exq1u8Db5ex2E7HbLYzaJex2bsVu18HbnY3abdntarHbNfB2rU27jdjt7vB2O3Y7N7Rpd4C3e8Dbbdntatm0W8Pbeex2pdjtGqN2HrtdKna7E7xdYtMuFbvdCd4uYbcLQpt2R3i7lt0uqtjt9rJpl7PbTcRuNxO73Y9Nu1rsdg28Xctutwxt2p3h7XJ2u0nMbreQSTvXY7crxW7XiN0usWnXid3uAm+Xs9ttYpt2LbtdFLLb7cVu58uk3VPsdr9it3ux22WhTbuE3W45Z7e7id3uLJN2tdjtjmK3a9ntotCmXcJuF23Z7Tqx211k0u4gdruH0O2Cgt3OiU3aRVt2u07sdheh27lXmbR7CN0uKNjtnJjd7iiTdnux2/lCtwtyoduVoUm78ovdbiZ2u6nQ7bJCFu0yT+h2t5jd7ix0u+BbFu2Cl9Dt0rnQ7RZit3vIot0yEbpdWgjdblWh27m+LNplV6HbPedCt2skcrtgJ4t2ZSF0u0MlcjvXF7pd9pJFu9tc6HZHidxuuRO6XVrIot2iErmd6wvd7o+dOslSFArCKHzRVMiSXpHWFkQQsGT/m6tj1sSJ5zjJNyDe3UBM/i+MB6LZ3U1Qz87IQDK7+w7R7DoTyexW/gb17Jx6hmR2aw8kszuMIJld7oJ6dqcHSGZXxEhmF/RHJLMzMlDPzmg2SGZnRSCYnWOXIJjd6hyinp01HEEuO8ceQTC79XkPgtltmxmoZufYC0Auu5/RCWaX+CEIZnfLNqCanVW5IJddsPRDkMsuLTJALruk3gFq2aXFEANi2SV1FAJS2Tn3vgXEslvl/h5Qys7Iry2AUHbOofBcAKHsAqubzwCp7NK/1XgElLFLLbvyFiaARHbO9vbd/2lDAInsgmTZNVm5AZDIbn3Ka/8S89MvswvS5J53lT9f7F+Ji2EXGKebXfd+1savexPDbr21lsX56kU7k5eksHOe8/+qmuFShvxaT3ZOXnzV1dUfonHnvrs1YXZpXnTnvvHm0aOM372aCbM72N911TdDdmlL892rmTC7m/1//tnY7mco6cluxQdNmJ3NB02YnccHTZidyydpdpqdZqfZaXaanWan2Wl2mp1mp9lpdprdP/bpWAAAAABgkL/1GPaXQ9ppp512m3baaaeddtppp5122mmnnXbaaaeddpt22mmnnXbaaaeddtppp5122mmnnXabdtppp5122mmnnXbaaaeddtppp512m3baxT4d2zQQBFAUFMHJgpiIgIgE91+gW/jnjZ4008Nop5122mmnnXbaaaeddtppp512t2mnnXbaaaeddtppp5122mmnnXbaaXebdtppp5122t1vd534z7d7Xid+8+3+rhOPfLuf68T3u+3OfOTbnfnMtzvzlW935qHdSDvttGvTTjvtFtppp12bdtppt9BOO+3atNNOu4V22mnXpp122i200067Nu20026hnXbatWmnnXYL7bTTrk077bRbaKeddm3aaafdQjvttGvTTjvtFtppp12bdtppt9BOO+3atNNOu4V22mnXpp122i200067Nu20026hnXbatWmnnXYL7bTTrk077bRbaKeddm3aaafdQjvttGvTTjvtFtppp12bdtppt9BOO+3atNNOu4V22mnXpp122i200067Nu20026hnXbatWmnnXYL7bTTrk077bRbaKeddm3aaafdQjvttGvTTjvtFtppp12bdtppt9BOO+3atNNOu4V22mnXpt2LfTqmAQAAYBjk3/Us7G0CHtBOu4d22mnXpp122j200067Nu200+6hnXbatWmnnXYP7bTTrk077bR7aKeddm3aaafdQzvttGvTTjvtHtppp12bdtpp99BOO+3atNNOu4d22mnXpp122j200067Nu200+6hnXbatWmnnXYP7bTTrk077bR7aKeddm3aaafdQzvttGvTTjvtHtppp12bdtpp99BOO+3atNNOu4d22mnXpp122o19ellOEAjCKFxuEiuCJaDAoFGj8YLBJO//dFlgQLlIL3Ax7Tlb/6ouRz9JsIMd7OwOdrCDnSTYwQ52dgc72MFOEuxgBzu7gx3sYCcJdrCDnd3BDnawkwQ72MHO7mAHO9hJgh3sYGd3sIMd7CTBDnawszvYwQ52kmAHO9jZHexgBztJsIMd7OwOdrCDnSTYwQ52dgc72MFOEuxgBzu7gx3sYCcJdrCDnd3BDnawkwQ72MHO7mAHO9hJgh3sYPeAgkEcD0YtHz4DO8+EqzBwGz97CnaeiVsfAHb9t9qfUz+/4qfn/aphopudcSa7cX5mupwdfrzqQDs7s5jsossDbJPsVHsA2PXccBJVT0XHYW2ml53Z/1ZvrWcL73akmZ3ZpLUHSJzKA8Cux9zFe/O11HFvhmrZxed183MfzPVML7uPt2njvdcsKEew67P5tv3edn69VMpuUPzn6vmHUTnUyi5M2i/6mVfsYPfgJy9LwnKrkp278e+eHDvFVCc79/P+Ayxf/pew66tT57ePvouxRnbBrPPo0c2nOtmZXefV7DKFXU99TbtvrovfWiG7P/bsqDlNIIri+NGMo62hQREwIKLBGJVqM3z/D1cz6Xt3D0x3enJ/zzwx/C87e9cN/i5NPh9WzK7eurz2effBshtEFMNJ/Gfc62X3awoXzbq7U8yuXMLFOevuLLshRCkcFZ/dyWW3WcHNdH9/WjC7Fo7ytWU3kBjO4u6DWnazHVz9eO7u1LK7rOCqSSy7QbTw0ApmN8rhbrLQyy6bwl0aWXbDTDoPu5tcdoszfDzJZTdv4ONk2Q0y6bzkmVp2V/g5qmVXwM83y663FJ4KsexKeFpmWtlt4Gn8bNn1VMJbKZXdYgtfhVR2SQ5fV8uun2gLb02klN0B/i5K2b3B38yy62UDwqNQdosc/l6FskvG8FdYdr1UIJyFsjuCMdPJ7gBGbdn1cEPwry5wdhUYTzrZbcE4WXY9xKDEMtntQRkvVLK7gZJHlh0vByWXye4NnFIluxici2VH24NUq2T3juD/+7DZNeD8tOxoLyAdRbJLVuBUItmNQJpYdrQHkL6LZHcBa66R3SNIu8iyY1UgnUWya8GaaWR3AGtt2bGWIC1FsovB2mhkdwWrtOxICWiJRnYPYL1oZPcKVmvZkTLQRhrZpUDwm7yg2b2HnztfLrsa4U/2YbObgHXSyK4KP3csO3e1ZWfZWXZ2yLRDph0y/4/s7ErFrlTsSuWfZxfZAsEWCLZAsHX57/buRjdRKAjD8Jw1BS2iooBoxYqU1dWudL/7v7iNKXVN/OFnweqceW6gyYmvNXqYkZ/L5edy/tlpfzkslcthcjlMrkI/zFXoWPer0B9yFbqyNlUUMclOHvyJqZqVZFeZbcpjrvKYqzzmKkMdZKjDbbPbyFAHGWEkI4xkhJEG2SGmCkLtB/bt+GT3TjKw7zHG084YZWdpP552KONpZRj7QwxjTxllJ8PYvyE7dHVfPWL1qCxP99Ujz7J65OaX8D1mi7a6VNKC2aKtTukXn5Lsbr1W0mS3VrJF5Sy5rZX0yv5xWSv5/1KXSnA37JYoW7+ojN/sliiPYipjIEuUb/4d+hbssoM/puI+HHbZITCpuMSW7GrRL/VOxy877BZUVE+BX3ZlPvHMR5DsamEnVJBnA+CXHTpu0XNvAwyzw5YKGr8CkOxqYfepkEFWHbvsYPygIuIAe/yyQ3dIRYQ+AEh2NfnpUi53iwy/7BDElC8ZYY9jdoh6lG9qYU+yq0tqUg5zgy8Ms8MoKf7PnmN2mDxRnlV2AJJdbXyPrvJ8HHDMDvbbkK4Zz/CFZXZw3hd0Te8FGcmuRt05XTTv4gjL7AB/Shct1hYOeGYHBB5dNFxZyEh2tbI7MZ0VzmwcY5odED27dM5wrXCEa3ZAe+qef72tJjhgkZ1jVJCiGbv+ySmYgx2apIwKIjRELU/urLhJx0JzIqMChaaot/DkALyZg8akRgUOCKzY7WUrXGRv8mFr2bahGTXr/xnTp16yfrGgGdXpP5n0ae6tjLs8AGbZYc+e+FHkT7Qr7h9LBVGgHGjLUq93fQAcsxPizv0FFrXdQ1ioa2AAAAAASUVORK5CYII=\";const i=()=>{q<2||a()},a=()=>{o.forEach(o=>{o.style.setProperty(\"--aspect-ratio\",V/r);const q=o.querySelector(\".OneDotLogoAnimated--canvas\"),i=q.getContext(\"2d\"),a=()=>{requestAnimationFrame(()=>{document.scrollingElement.scrollTop<window.outerHeight&&(n=(n+.6)%t,p()),a()})},p=()=>{q.width=r,q.height=V,i.drawImage(e,-n,0,t,V),i.drawImage(e,t-n,0,t,V),i.globalCompositeOperation=\"xor\",i.drawImage(U,0,0,r,V)};a(),p()})}})(),\"\"===document.documentElement.getAttribute(\"is-ios\")&&document.querySelectorAll(\".Button-google-play-store\").forEach(o=>{o.parentNode.removeChild(o)}),(()=>{const o=document.querySelector(\".HeroSection--scroll-indicator\");e.a.create({elem:o,from:\"top-bottom\",to:\"top-middle\",direct:!0,props:{opacity:{from:1,to:0}}}).start()})(),document.querySelectorAll(\"[data-depth-perspective-root]\").forEach(t=>{const q=Array.from(t.querySelectorAll(\"[data-depth]\")).map(t=>new class{constructor(o){this.el=o,this.depth=parseInt(o.getAttribute(\"data-depth\"),10),this.translateY=0,this.targetTranslateY=0,this.wasDrawnOnce=!1}normalize(o){return Math.round(100*o)/100}draw(){this.translateY!==this.lastDrawnTranslateY&&(this.el.style.transform=`translate3d(0, ${this.translateY}rem, 0)`,this.lastDrawnTranslateY=this.translateY,this.progressWasEverSet&&(this.wasEverDrawn=!0))}update(){this.wasEverDrawn?this.translateY=this.normalize(.9*this.translateY+.1*this.targetTranslateY):this.translateY=this.targetTranslateY,this.draw()}setTargetFromProgress(t){this.progressWasEverSet=!0;const q=o?2:this.depth,n=o?100:50;this.targetTranslateY=this.normalize((n-t)/100*65*(1/(3*q))),o&&1!==this.depth&&(this.targetTranslateY=0)}}(t)),n=t.querySelector(\"[data-depth-perspective-scroll-anchor]\"),r=(o,t)=>{const n=Math.max(0,Math.min(100,t));q.forEach(o=>{o.setTargetFromProgress(n)})};e.a.create({elem:n,from:n?\"top-bottom\":\"0px\",to:n?\"bottom-top\":\"100px\",inside:r,outside:r}).start();const V=()=>{q.forEach(o=>{o.update()}),requestAnimationFrame(V)};V()}),(()=>{const o=document.querySelector(\".PerformanceSection--figure\");let t;\"\"===o.getAttribute(\"is-animation-started\")&&o.removeAttribute(\"is-animation-started\");const q=(q,n)=>{100===Math.max(0,Math.min(100,n))&&(t.stop(),requestAnimationFrame(()=>{o.setAttribute(\"is-animation-started\",\"\")}))};(t=e.a.create({elem:o,from:\"0px\",to:\"100px\",inside:q,outside:q})).start()})()},0)},47:function(o,t,q){o.exports=q(48)},48:function(o,t,q){\"use strict\";q.r(t),q(5),q(42)},5:function(o,t,q){}})});\n",
      "//# sourceMappingURL=site-16bcc13e690cc771698c.map\n"
     ]
    },
    {
     "name": "stderr",
     "output_type": "stream",
     "text": [
      "  % Total    % Received % Xferd  Average Speed   Time    Time     Time  Current\n",
      "                                 Dload  Upload   Total   Spent    Left  Speed\n",
      "\n",
      "  0     0    0     0    0     0      0      0 --:--:-- --:--:-- --:--:--     0\n",
      "100 94449    0 94449    0     0  1425k      0 --:--:-- --:--:-- --:--:-- 1441k\n"
     ]
    }
   ],
   "source": [
    "!curl -i https://1.1.1.1/site-16bcc13e690cc771698c.js"
   ]
  },
  {
   "cell_type": "code",
   "execution_count": null,
   "id": "0b1a8744",
   "metadata": {},
   "outputs": [],
   "source": []
  }
 ],
 "metadata": {
  "kernelspec": {
   "display_name": "Python 3 (ipykernel)",
   "language": "python",
   "name": "python3"
  },
  "language_info": {
   "codemirror_mode": {
    "name": "ipython",
    "version": 3
   },
   "file_extension": ".py",
   "mimetype": "text/x-python",
   "name": "python",
   "nbconvert_exporter": "python",
   "pygments_lexer": "ipython3",
   "version": "3.9.12"
  }
 },
 "nbformat": 4,
 "nbformat_minor": 5
}
