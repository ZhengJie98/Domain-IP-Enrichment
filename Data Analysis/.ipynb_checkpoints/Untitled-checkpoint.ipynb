{
 "cells": [
  {
   "cell_type": "code",
   "execution_count": 1,
   "id": "7105239d",
   "metadata": {},
   "outputs": [],
   "source": [
    "import pandas as pd"
   ]
  },
  {
   "cell_type": "code",
   "execution_count": 23,
   "id": "f8ff4646",
   "metadata": {},
   "outputs": [],
   "source": [
    "df = pd.read_csv(r\"C:\\Users\\Jun Rong\\Documents\\GitHub\\IMDA-Domain-IP-Enrichment\\Flask_App\\testing3.csv\")"
   ]
  },
  {
   "cell_type": "code",
   "execution_count": 24,
   "id": "f785c470",
   "metadata": {},
   "outputs": [
    {
     "data": {
      "text/plain": [
       "Index(['Unnamed: 0', '_id', 'domain', 'x_days_ago', 'to_skip',\n",
       "       'last_analysis_date', 'reputation', 'added_timestamp',\n",
       "       'processed_timestamp', 'failure_count', 'is_priority', 'source',\n",
       "       'has_screenshot', 'has_html', 'has_javascript', 'files_log',\n",
       "       'archived_page_info', 'log_file', 'last_analysis_stats.harmless',\n",
       "       'last_analysis_stats.malicious', 'last_analysis_stats.suspicious',\n",
       "       'last_analysis_stats.undetected', 'last_analysis_stats.timeout',\n",
       "       'total_votes.harmless', 'total_votes.malicious',\n",
       "       'duration_log.screenshot', 'duration_log.grab_html_js',\n",
       "       'duration_log.get_whois_info', 'duration_log.get_dns_info',\n",
       "       'duration_log.get_cert_info', 'duration_log.get_archived_page_info',\n",
       "       'whois_info.registrar', 'whois_info.name', 'whois_info.org',\n",
       "       'whois_info.creation_date', 'whois_info.updated_date',\n",
       "       'whois_info.whois_file_location', 'dns_info.gethostbyname_ex.alias',\n",
       "       'dns_info.gethostbyname_ex.other_ip_address',\n",
       "       'dns_info.gethostbyname_ex.gethostbyname_ex_filepath',\n",
       "       'dns_info.dns_resolver_query.nameserver_list',\n",
       "       'dns_info.dns_resolver_query.nameservers_filepath',\n",
       "       'cert_info.common_name', 'cert_info.name_value',\n",
       "       'cert_info.issuer_name', 'cert_info.not_before',\n",
       "       'cert_info.latest_cert', 'cert_info.length_cert_json',\n",
       "       'cert_info.cert_file_location', 'cert_info.len(SubjectCN_set)',\n",
       "       'cert_info.SubjectCN_set', 'cert_info.len(Issuer_set)',\n",
       "       'cert_info.Issuer_set', 'cert_info.len(AltName_set)',\n",
       "       'cert_info.AltName_count_min', 'cert_info.AltName_count_max',\n",
       "       'dns_info.gethostbyname_ex', 'dns_info.dns_resolver_query', 'cert_info',\n",
       "       'archived_page_info.newest.archive_url',\n",
       "       'archived_page_info.newest.timestamp',\n",
       "       'archived_page_info.archived_paged_file_location', 'whois_info'],\n",
       "      dtype='object')"
      ]
     },
     "execution_count": 24,
     "metadata": {},
     "output_type": "execute_result"
    }
   ],
   "source": [
    "df.head()\n",
    "df.columns"
   ]
  },
  {
   "cell_type": "code",
   "execution_count": 19,
   "id": "d3994973",
   "metadata": {},
   "outputs": [
    {
     "data": {
      "text/html": [
       "<div>\n",
       "<style scoped>\n",
       "    .dataframe tbody tr th:only-of-type {\n",
       "        vertical-align: middle;\n",
       "    }\n",
       "\n",
       "    .dataframe tbody tr th {\n",
       "        vertical-align: top;\n",
       "    }\n",
       "\n",
       "    .dataframe thead th {\n",
       "        text-align: right;\n",
       "    }\n",
       "</style>\n",
       "<table border=\"1\" class=\"dataframe\">\n",
       "  <thead>\n",
       "    <tr style=\"text-align: right;\">\n",
       "      <th></th>\n",
       "      <th>whois_info.updated_date</th>\n",
       "    </tr>\n",
       "  </thead>\n",
       "  <tbody>\n",
       "    <tr>\n",
       "      <th>0</th>\n",
       "      <td>[datetime.datetime(2023, 5, 1, 23, 38, 51), da...</td>\n",
       "    </tr>\n",
       "    <tr>\n",
       "      <th>1</th>\n",
       "      <td>[datetime.datetime(2023, 5, 1, 23, 38, 51), da...</td>\n",
       "    </tr>\n",
       "    <tr>\n",
       "      <th>2</th>\n",
       "      <td>[datetime.datetime(2023, 5, 1, 23, 40, 29), da...</td>\n",
       "    </tr>\n",
       "    <tr>\n",
       "      <th>3</th>\n",
       "      <td>[datetime.datetime(2023, 5, 1, 23, 40, 29), da...</td>\n",
       "    </tr>\n",
       "    <tr>\n",
       "      <th>4</th>\n",
       "      <td>[datetime.datetime(2023, 5, 1, 23, 40, 29), da...</td>\n",
       "    </tr>\n",
       "    <tr>\n",
       "      <th>...</th>\n",
       "      <td>...</td>\n",
       "    </tr>\n",
       "    <tr>\n",
       "      <th>995</th>\n",
       "      <td>2023-05-11 22:11:04</td>\n",
       "    </tr>\n",
       "    <tr>\n",
       "      <th>996</th>\n",
       "      <td>2023-05-11 22:11:04</td>\n",
       "    </tr>\n",
       "    <tr>\n",
       "      <th>997</th>\n",
       "      <td>2023-05-04 07:23:41</td>\n",
       "    </tr>\n",
       "    <tr>\n",
       "      <th>998</th>\n",
       "      <td>[datetime.datetime(2023, 4, 28, 13, 57, 36), d...</td>\n",
       "    </tr>\n",
       "    <tr>\n",
       "      <th>999</th>\n",
       "      <td>2023-05-06 03:23:12</td>\n",
       "    </tr>\n",
       "  </tbody>\n",
       "</table>\n",
       "<p>1000 rows × 1 columns</p>\n",
       "</div>"
      ],
      "text/plain": [
       "                               whois_info.updated_date\n",
       "0    [datetime.datetime(2023, 5, 1, 23, 38, 51), da...\n",
       "1    [datetime.datetime(2023, 5, 1, 23, 38, 51), da...\n",
       "2    [datetime.datetime(2023, 5, 1, 23, 40, 29), da...\n",
       "3    [datetime.datetime(2023, 5, 1, 23, 40, 29), da...\n",
       "4    [datetime.datetime(2023, 5, 1, 23, 40, 29), da...\n",
       "..                                                 ...\n",
       "995                                2023-05-11 22:11:04\n",
       "996                                2023-05-11 22:11:04\n",
       "997                                2023-05-04 07:23:41\n",
       "998  [datetime.datetime(2023, 4, 28, 13, 57, 36), d...\n",
       "999                                2023-05-06 03:23:12\n",
       "\n",
       "[1000 rows x 1 columns]"
      ]
     },
     "execution_count": 19,
     "metadata": {},
     "output_type": "execute_result"
    }
   ],
   "source": [
    "df[['whois_info.updated_date']]"
   ]
  },
  {
   "cell_type": "code",
   "execution_count": 27,
   "id": "36ce6bfd",
   "metadata": {},
   "outputs": [
    {
     "data": {
      "text/plain": [
       "'10-05-2023 21:07:37'"
      ]
     },
     "execution_count": 27,
     "metadata": {},
     "output_type": "execute_result"
    }
   ],
   "source": [
    "df['added_timestamp'][0]"
   ]
  },
  {
   "cell_type": "code",
   "execution_count": 26,
   "id": "c9fb04c5",
   "metadata": {},
   "outputs": [
    {
     "data": {
      "text/plain": [
       "'2023-04-13 16:04:14'"
      ]
     },
     "execution_count": 26,
     "metadata": {},
     "output_type": "execute_result"
    }
   ],
   "source": [
    "df['last_analysis_date'][0]"
   ]
  },
  {
   "cell_type": "code",
   "execution_count": 25,
   "id": "27a660dc",
   "metadata": {},
   "outputs": [
    {
     "data": {
      "text/plain": [
       "'10-05-2023 21:07:37'"
      ]
     },
     "execution_count": 25,
     "metadata": {},
     "output_type": "execute_result"
    }
   ],
   "source": [
    "df['whois_info.creation_date'][0]"
   ]
  },
  {
   "cell_type": "code",
   "execution_count": null,
   "id": "c2ad1cfc",
   "metadata": {},
   "outputs": [],
   "source": []
  }
 ],
 "metadata": {
  "kernelspec": {
   "display_name": "Python 3 (ipykernel)",
   "language": "python",
   "name": "python3"
  },
  "language_info": {
   "codemirror_mode": {
    "name": "ipython",
    "version": 3
   },
   "file_extension": ".py",
   "mimetype": "text/x-python",
   "name": "python",
   "nbconvert_exporter": "python",
   "pygments_lexer": "ipython3",
   "version": "3.9.13"
  }
 },
 "nbformat": 4,
 "nbformat_minor": 5
}
