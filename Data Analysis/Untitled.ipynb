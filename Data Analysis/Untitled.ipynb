{
 "cells": [
  {
   "cell_type": "code",
   "execution_count": 1,
   "id": "883a4aee",
   "metadata": {},
   "outputs": [],
   "source": [
    "import pandas as pd"
   ]
  },
  {
   "cell_type": "code",
   "execution_count": 34,
   "id": "c49060b6",
   "metadata": {},
   "outputs": [],
   "source": [
    "df = pd.read_csv(r\"C:\\Users\\Jun Rong\\Documents\\GitHub\\IMDA-Domain-IP-Enrichment\\Flask_App\\testing6.csv\")"
   ]
  },
  {
   "cell_type": "code",
   "execution_count": 35,
   "id": "b80ccd38",
   "metadata": {},
   "outputs": [
    {
     "data": {
      "text/plain": [
       "Index(['Unnamed: 0', '_id', 'domain', 'x_days_ago', 'to_skip',\n",
       "       'last_analysis_date', 'reputation', 'added_timestamp',\n",
       "       'processed_timestamp', 'failure_count', 'is_priority', 'source',\n",
       "       'has_screenshot', 'has_html', 'has_javascript', 'files_log',\n",
       "       'archived_page_info', 'log_file', 'last_analysis_stats.harmless',\n",
       "       'last_analysis_stats.malicious', 'last_analysis_stats.suspicious',\n",
       "       'last_analysis_stats.undetected', 'last_analysis_stats.timeout',\n",
       "       'total_votes.harmless', 'total_votes.malicious',\n",
       "       'duration_log.screenshot', 'duration_log.grab_html_js',\n",
       "       'duration_log.get_whois_info', 'duration_log.get_dns_info',\n",
       "       'duration_log.get_cert_info', 'duration_log.get_archived_page_info',\n",
       "       'whois_info.registrar', 'whois_info.name', 'whois_info.org',\n",
       "       'whois_info.creation_date', 'whois_info.updated_date',\n",
       "       'whois_info.whois_file_location', 'dns_info.gethostbyname_ex.alias',\n",
       "       'dns_info.gethostbyname_ex.other_ip_address',\n",
       "       'dns_info.gethostbyname_ex.gethostbyname_ex_filepath',\n",
       "       'dns_info.dns_resolver_query.nameserver_list',\n",
       "       'dns_info.dns_resolver_query.nameservers_filepath',\n",
       "       'cert_info.common_name', 'cert_info.name_value',\n",
       "       'cert_info.issuer_name', 'cert_info.not_before',\n",
       "       'cert_info.latest_cert', 'cert_info.length_cert_json',\n",
       "       'cert_info.cert_file_location', 'cert_info.len(SubjectCN_set)',\n",
       "       'cert_info.SubjectCN_set', 'cert_info.len(Issuer_set)',\n",
       "       'cert_info.Issuer_set', 'cert_info.len(AltName_set)',\n",
       "       'cert_info.AltName_count_min', 'cert_info.AltName_count_max',\n",
       "       'dns_info.gethostbyname_ex', 'dns_info.dns_resolver_query', 'cert_info',\n",
       "       'archived_page_info.newest.archive_url',\n",
       "       'archived_page_info.newest.timestamp',\n",
       "       'archived_page_info.archived_paged_file_location', 'whois_info'],\n",
       "      dtype='object')"
      ]
     },
     "execution_count": 35,
     "metadata": {},
     "output_type": "execute_result"
    }
   ],
   "source": [
    "df.head()\n",
    "df.columns"
   ]
  },
  {
   "cell_type": "code",
   "execution_count": 36,
   "id": "6d9acf3f",
   "metadata": {},
   "outputs": [
    {
     "data": {
      "text/html": [
       "<div>\n",
       "<style scoped>\n",
       "    .dataframe tbody tr th:only-of-type {\n",
       "        vertical-align: middle;\n",
       "    }\n",
       "\n",
       "    .dataframe tbody tr th {\n",
       "        vertical-align: top;\n",
       "    }\n",
       "\n",
       "    .dataframe thead th {\n",
       "        text-align: right;\n",
       "    }\n",
       "</style>\n",
       "<table border=\"1\" class=\"dataframe\">\n",
       "  <thead>\n",
       "    <tr style=\"text-align: right;\">\n",
       "      <th></th>\n",
       "      <th>whois_info.updated_date</th>\n",
       "    </tr>\n",
       "  </thead>\n",
       "  <tbody>\n",
       "    <tr>\n",
       "      <th>0</th>\n",
       "      <td>['01-05-2023T23:38:51', '18-04-2023T06:32:59']</td>\n",
       "    </tr>\n",
       "    <tr>\n",
       "      <th>1</th>\n",
       "      <td>['01-05-2023T23:38:51', '18-04-2023T06:32:42']</td>\n",
       "    </tr>\n",
       "    <tr>\n",
       "      <th>2</th>\n",
       "      <td>['01-05-2023T23:40:29', '21-04-2023T02:26:35']</td>\n",
       "    </tr>\n",
       "    <tr>\n",
       "      <th>3</th>\n",
       "      <td>['01-05-2023T23:40:29', '21-04-2023T02:26:17']</td>\n",
       "    </tr>\n",
       "    <tr>\n",
       "      <th>4</th>\n",
       "      <td>['01-05-2023T23:40:29', '24-04-2023T13:48:47']</td>\n",
       "    </tr>\n",
       "    <tr>\n",
       "      <th>...</th>\n",
       "      <td>...</td>\n",
       "    </tr>\n",
       "    <tr>\n",
       "      <th>995</th>\n",
       "      <td>11-05-2023T22:11:04</td>\n",
       "    </tr>\n",
       "    <tr>\n",
       "      <th>996</th>\n",
       "      <td>11-05-2023T22:11:04</td>\n",
       "    </tr>\n",
       "    <tr>\n",
       "      <th>997</th>\n",
       "      <td>04-05-2023T07:23:41</td>\n",
       "    </tr>\n",
       "    <tr>\n",
       "      <th>998</th>\n",
       "      <td>['28-04-2023T13:57:36', '28-04-2023T13:57:14']</td>\n",
       "    </tr>\n",
       "    <tr>\n",
       "      <th>999</th>\n",
       "      <td>06-05-2023T03:23:12</td>\n",
       "    </tr>\n",
       "  </tbody>\n",
       "</table>\n",
       "<p>1000 rows × 1 columns</p>\n",
       "</div>"
      ],
      "text/plain": [
       "                            whois_info.updated_date\n",
       "0    ['01-05-2023T23:38:51', '18-04-2023T06:32:59']\n",
       "1    ['01-05-2023T23:38:51', '18-04-2023T06:32:42']\n",
       "2    ['01-05-2023T23:40:29', '21-04-2023T02:26:35']\n",
       "3    ['01-05-2023T23:40:29', '21-04-2023T02:26:17']\n",
       "4    ['01-05-2023T23:40:29', '24-04-2023T13:48:47']\n",
       "..                                              ...\n",
       "995                             11-05-2023T22:11:04\n",
       "996                             11-05-2023T22:11:04\n",
       "997                             04-05-2023T07:23:41\n",
       "998  ['28-04-2023T13:57:36', '28-04-2023T13:57:14']\n",
       "999                             06-05-2023T03:23:12\n",
       "\n",
       "[1000 rows x 1 columns]"
      ]
     },
     "execution_count": 36,
     "metadata": {},
     "output_type": "execute_result"
    }
   ],
   "source": [
    "df[['whois_info.updated_date']]"
   ]
  },
  {
   "cell_type": "code",
   "execution_count": 38,
   "id": "9c749798",
   "metadata": {},
   "outputs": [
    {
     "data": {
      "text/plain": [
       "'10-05-2023T21:07:37'"
      ]
     },
     "execution_count": 38,
     "metadata": {},
     "output_type": "execute_result"
    }
   ],
   "source": [
    "df['added_timestamp'][0]"
   ]
  },
  {
   "cell_type": "code",
   "execution_count": 39,
   "id": "a2af105d",
   "metadata": {},
   "outputs": [
    {
     "data": {
      "text/plain": [
       "'13-04-2023T16:04:14'"
      ]
     },
     "execution_count": 39,
     "metadata": {},
     "output_type": "execute_result"
    }
   ],
   "source": [
    "df['last_analysis_date'][0]"
   ]
  },
  {
   "cell_type": "code",
   "execution_count": 40,
   "id": "5ad25a59",
   "metadata": {},
   "outputs": [
    {
     "data": {
      "text/plain": [
       "str"
      ]
     },
     "execution_count": 40,
     "metadata": {},
     "output_type": "execute_result"
    }
   ],
   "source": [
    "type(df['whois_info.creation_date'][0])"
   ]
  },
  {
   "cell_type": "code",
   "execution_count": null,
   "id": "389f34f6",
   "metadata": {},
   "outputs": [],
   "source": []
  }
 ],
 "metadata": {
  "kernelspec": {
   "display_name": "Python 3 (ipykernel)",
   "language": "python",
   "name": "python3"
  },
  "language_info": {
   "codemirror_mode": {
    "name": "ipython",
    "version": 3
   },
   "file_extension": ".py",
   "mimetype": "text/x-python",
   "name": "python",
   "nbconvert_exporter": "python",
   "pygments_lexer": "ipython3",
   "version": "3.9.13"
  }
 },
 "nbformat": 4,
 "nbformat_minor": 5
}
